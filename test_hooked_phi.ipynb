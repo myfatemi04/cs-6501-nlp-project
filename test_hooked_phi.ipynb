{
 "cells": [
  {
   "cell_type": "code",
   "execution_count": 1,
   "metadata": {},
   "outputs": [],
   "source": [
    "%load_ext autoreload\n",
    "%autoreload 2\n",
    "# Set HuggingFace cache directory to scratch to save space.\n",
    "import os\n",
    "os.environ['HUGGINGFACE_HUB_CACHE'] = '/scratch/' + os.environ['USER'] + '/huggingface_cache'\n",
    "CACHE_DIR = '/scratch/' + os.environ['USER'] + '/huggingface_cache'\n",
    "# Optional; can help when memory is tight.\n",
    "# os.environ['PYTORCH_CUDA_ALLOC_CONF'] = 'expandable_segments:True'"
   ]
  },
  {
   "cell_type": "markdown",
   "metadata": {},
   "source": [
    "### Load HellaSwag Dataset"
   ]
  },
  {
   "cell_type": "code",
   "execution_count": 2,
   "metadata": {},
   "outputs": [
    {
     "name": "stderr",
     "output_type": "stream",
     "text": [
      "/home/jqm9ba/.local/lib/python3.8/site-packages/tqdm/auto.py:21: TqdmWarning: IProgress not found. Please update jupyter and ipywidgets. See https://ipywidgets.readthedocs.io/en/stable/user_install.html\n",
      "  from .autonotebook import tqdm as notebook_tqdm\n"
     ]
    },
    {
     "data": {
      "text/plain": [
       "['[header] How to buy building insurance [title] Hire a certified professional to evaluate the worth of your building. [step] This person will take outside factors such as location and highway access into consideration when determining the value of your building. [title] Make an inventory of items inside the building that must be insured.',\n",
       " 'Two young girls are talking to a camera doing a vlog. they',\n",
       " '[header] How to do the five tibetan rites [title] Run a minute on tiptoe on the spot, turn in a circle (around your own axis, the spine) and shake your arms. [step] You can turn around the right or left. While circling around, visualize a cloud of light around you and think the word \" light \" as a mantra.',\n",
       " 'A man shows a plaid shirt while explaining. then',\n",
       " \"[header] How to be emo at a school with uniforms [title] Straighten your hair. [step] This is a simple thing you can do that most likely won't be against your school's rules. Emo people typically have super straight hair.\",\n",
       " 'He uses a large garden fork to lift the top layer of the roof up. each time he lifts a part up',\n",
       " 'A person shows a piece of furniture. Then, the person covers a wood box with carpet and cuts the leftovers. then',\n",
       " '[header] How to treat adult adhd [title] Talk to a therapist. [step] Before you start making any major lifestyle changes, you should meet with a therapist. Talk therapy is an effective way to treat adhd and to deal with the frustration that often accompanies this disorder.',\n",
       " 'After some time, the arrow is finally released in slow motion to a target and the lady slowly puts her hand down. although her hand hands',\n",
       " 'An intro leads into several clips of people solving rubix cubes while a timer captures their speed on the side. more people',\n",
       " 'A woman is seen hosting a news segment that leads into a clip of a dog jumping. People are shown doing tricks with their dogs and running all across a field. more clips',\n",
       " '[header] How to air fry bacon [title] Preheat the air fryer before adding the bacon. [step] Your air fryer requires a two to three minute preheating period. This allows the machine time to achieve the temperature necessary to begin cooking your bacon.',\n",
       " '[header] How to clean artificial grass [title] Use a leaf blower to get rid of debris. [step] Whether it be fallen leaves in autumn, fallen branches after a storm or some other accumulation of debris, a leaf blower can help you swiftly clear your turf. Designate one corner of your yard and blow all debris towards it.',\n",
       " \"[header] How to change the subject in a conversation [title] Be prepared! [step] If you know you'll be going into a situation where you'll be talking to a lot of strangers, think of 2-3 topics for small talk before you get there. [substeps] Choose topics that are of interest to many people-hobbies, sports, and tech gadgets are a good place to start. [title] Focus on the other person.\",\n",
       " 'A volleyball instructor is giving information about his volleyball skills in salt lake city. He plays with another instructor on the court. he',\n",
       " 'A gymnast balances on a parallel bar. The man spreads his legs while balancing on the parallel bar. the man',\n",
       " '[header] How to sue a business for personal injury [title] Seek medical attention. [step] You should immediately seek medical attention for any injury that you suffer, no matter how minor. Your health is most important.',\n",
       " \"[header] How to search military records [title] Use an online site to find general information. [step] If you're looking for the casualties of a specific war or want to find out if a specific person served in the military, you can likely find this information online. Do an online search for military records to find applicable websites.\",\n",
       " \"[header] How to get unlimited free lives in bubble witch saga [title] Connect to facebook. [step] Once you've installed the game on your mobile device, connect it to your facebook account. Doing so will automatically backup and sync your progress since it's now stored within your facebook account.\",\n",
       " '[header] How to disinfect nail clippers [title] Prepare your sterilizer. [step] Sterilization requires you to get your clippers to a hot enough temperature to kill bacteria and micro-organisms. Autoclaves or bead sterilizers are special machines that are intended specifically for this purpose.',\n",
       " \"[header] How to get potassium nitrate [title] Make your way to a local drugstore or pharmacy. [step] You'll have the most luck finding potassium nitrate supplements at a store that specializes in body building supplements, like gnc. Potassium nitrate is sometimes used for athlete enhancement.\",\n",
       " 'After, the person mix the chocolate mix and the whip cream, the adds flower and mix all the ingredients. next',\n",
       " 'The credits and final products of the clip are shown. A person is preparing some treats. butter, brown sugar, sugar, vanilla, eggs',\n",
       " \"[header] How to steam frozen vegetables [title] Defrost frozen veggies in a refrigerator to remove excess water. [step] If the recipe you're making calls for a specific amount of water, you may want to thaw your veggies before steaming. The water locked inside frozen vegetables can add a considerable amount after it thaws.\",\n",
       " \"[header] How to understand personal finance basics [title] Gather your financial statements and information. [step] Creating a budget is one of the most important aspects of personal finance. A solid budget allows you to plan for how you'll spend the money you bring in each month and illustrates your spending patterns.\",\n",
       " '[header] How to win at arm wrestling [title] Place your right foot forward if you wrestle with your right arm, and vice versa. [step] Your weight will shift from your forward foot to your back foot. [title] Curl your thumb.',\n",
       " \"[header] How to tell if someone is ignoring your calls and decide what to do about it [title] Check your call log. [step] Check to see if all your calls to your friend have been missed. What's the ratio of missed calls to answered calls? Notice the call length, the time you called her, how often you call her and whether or not she has called you.\",\n",
       " \"A close up of a person's legs are shown with other people putting on shaving cream. the people\",\n",
       " 'There are people at the top of a snowy hill on tube rings. Suddenly the people start riding down the hill. now multiple people',\n",
       " '[header] How to assemble a diy skateboard lamp [title] Remove trucks. [step] Here, the drill will be used to create the holes needed to insert the light adapters. With the drill, insert the hole saw and align the tip at the center of the \" x \" where the ruler lines intersect.',\n",
       " 'The video leads into various old clips of a television show with lots of women drinking coffee and speaking to the camera. more shots',\n",
       " 'A toddler paint her lips with a lipstick. Then, the toddler applies make up to her eyelids on front a blue mirror. next',\n",
       " \"[header] How to feed parrots [title] Feed your parrot a commercial pellet. [step] Pellets are an important component of your parrot's diet. They come in a variety of colors, sizes, and even flavors.\",\n",
       " 'You choose a stencil and draw it on and then you get the carving tools, you also have to empty all the pumpkin goo out of the pumpkin. you',\n",
       " \"[header] How to keep your neighborhood clean [title] Add plants. [step] One way to beautify your home is to plant trees or flowers around your house to add to the landscape. You don't need to go all-out with an ornate display.\",\n",
       " '[header] How to turn on windows defender [title] Click on the windows 8 \" start \" screen and type \" windows defender \" into the search field. [step] Click on the icon for \" windows defender \" after it displays in the search results. The application will then launch.',\n",
       " 'A girl in a sparkly outfit dances on a hardwood floor. she',\n",
       " 'Two other men direct the pickup truck to get ready for sailing. The men wear their waterproof boots to get ready for wakeboarding. as the motorboat',\n",
       " '[header] How to raise eating disorder awareness [title] Do your research. [step] To be really be effective at raising awareness, it helps to know your material first. Even if you have experience with an eating disorder, reading up on how it affects other people can be helpful.',\n",
       " 'She then enters the hair salon and tells the stylist the kind of haircut she wants by doing gestures in front of forehead indicating she wants bangs. then she',\n",
       " '[header] How to get to okinawa from tokyo [title] Choose a japanese airline that flies to okinawa. [step] Although not every airline travels to okinawa, several select airlines offer direct flights there from tokyo. Check any of the following airlines for their flight schedules between tokyo and okinawa : [substeps] Japan airlines (jal) ana jetstar japan skymark vanilla air [title] Book a flight as far in advance as possible.',\n",
       " 'The lady plays saxophone with a man in his underwear on the street. We see a bare chested woman in a red wig. the lady',\n",
       " 'There are a few spectators looking on from the sides of the pool, while a referee is following the actions to stay in control of the match. it',\n",
       " 'Some people have gathered outside to watch. We then see several jousters with swords and gear standing to one side. the news people',\n",
       " '[header] How to achieve self actualization [title] Decide who you want to be. [step] The only way you can reach self-actualization is to envision what your actualized self will look like. Connecting with your future self is an important step in reaching personal goals.',\n",
       " \"[header] How to feed a feline cancer patient [title] Work with your vet to create a diet plan. [step] While there are some general guidelines for feeding a cat with cancer, your cat's needs will vary depending on their age, size, overall health, and the type and stage of their cancer. Talk to your vet about the best kind of diet for your cat.\",\n",
       " 'More people gather around as two men remove the darts from the dartboards and walk back a distance. Both men throw a dart at the dartboard. The man in peach walks to remove the darts. a woman',\n",
       " '[header] How to use garlic as a cold and flu remedy [title] Incorporate raw garlic into food. [step] There are many forms of garlic available, such as garlic seasoning, garlic powder, and garlic salt. However, it is best taken in its natural form to release alliin that helps fight infections.',\n",
       " 'The tip of the welding gun is adjusted using pliers. The man marks and measures pieces of plate metal in between making welds on it. the man',\n",
       " '[header] How to do yoga to help your asthma [title] Learn the art of deep yogic breathing. [step] Training yourself to breathe deeply will engage your diaphragm and allow you to breathe better and more easily. Deep breathing exercises also are relaxing and can decrease stress and tension.',\n",
       " 'A quick picture of a red and black tool is shown, then a man is talking and clips of people removing shingles play in between moments shown when the man talks. the tool',\n",
       " '[header] How to jump higher for volleyball [title] Build your leg muscles. [step] Your legs are the powerhouse of your jump. The stronger your leg muscles are, the harder you can propel yourself upwards to a maximum vertical leap.',\n",
       " '[header] How to set up cat shelves [title] Select a safe location. [step] The location of your cat shelves is very important. Remember, the shelves are places where your cat will not only sleep, but also run across and jump onto.',\n",
       " '[header] How to make money as a teen girl [title] Become a dog walker if you like animals. [step] Many families who own pets, and are gone for long hours of the day, need people who can come tend to their animals. You can charge a certain rate for each visit you make, or a weekly rate.',\n",
       " 'The man sucks on the hookah again, blows out smoke, sucks it back in and this time just blows out smoke. the man',\n",
       " '[header] How to hide an engagement ring box [title] Put the box inside of a pocket to conceal it on your body. [step] If you want to use your engagement ring box when proposing, you can easily hide it in clothing like cargo pants and hooded sweatshirts. Simply slip the box into your pocket, and check on it periodically to make sure it stays in place.',\n",
       " '[header] How to start a coupon website [title] Choose your target customers and find a niche. [step] The market for finding general coupons and deals online is somewhat saturated with big names like fat wallet and groupon, so competition is fierce. However, a specialty website or coupon blog that offers deals in specific areas is a good alternative that can make extra income.',\n",
       " '[header] How to adjust a recliner chair [title] Test your recliner\\'s tension. [step] \" recliner tension \" refers to how easily the backrest of the recliner leans backward. Sit in the recliner and lean back against the backrest.',\n",
       " 'The clip fades to the two girls folding and packing clothes in a suitcase in a bedroom in a house, the girls pack tutus in a pink suitcase and then cut to them in a horse drawn carriage in the streets of new york, talking and pointing to landmarks. the trip',\n",
       " '[header] How to change avatar on yahoo [title] Launch yahoo messenger. [step] You can launch it from your start menu by clicking its icon there, or by double-clicking its shortcut icon on the desktop, if you have it there. [title] Sign into yahoo.',\n",
       " '[header] How to avoid a potential lawsuit when giving references [title] Make your employees aware of your policy. [step] As always, an ounce of prevention is worth a pound of cure. Make sure that you have a standard policy in place for giving references.',\n",
       " \"[header] How to look after your mind and body [title] Keep hair looking shiny by rinsing it with cold water for two minutes after conditioning it. [title] Don't use too much conditioner, it will pull your hair down and give it less volume. [title] Wash your hair at least every-other day or it will get greasy and increase the chance of spots on your face.\",\n",
       " '[header] How to delete a location from the search bar on yelp [title] Visit the yelp webpage in your web browser. [title] Login to your account, if you haven\\'t done so already. [title] Locate and click the drop-down on the far right-most area of the \" near \" box in the search bar at the top of the screen.',\n",
       " \"[header] How to care for a hair transplant [title] Be aware of the risks before having a hair transplant. [step] After surgery, your head will be wrapped by a headband, a bandanna, and a surgeon's cap. If you have a bandage on the incision area, then that is usually removed the following day.\",\n",
       " 'Girls are sitting in a rom and boys are standing behind them boys starts comb the hair. Woman wearing blue sweater crawl on all fours. boys',\n",
       " '[header] How to chill a keg of beer [title] Prepare a tub for the keg. [step] To chill a keg, you will need a large, durable container into which the keg will fit with a little room surrounding it. The best option is buying a specialized keg tub, which can be found at many liquor stores and home brewing supply stores.',\n",
       " \"[header] How to know if you are ready for a cat [title] Initiate a conversation with everyone who you live with. [step] One of the first steps you need to take is to talk to everyone who lives in your household. Without the cooperation and consent of everyone you live with, you won't be ready to adopt a cat.\",\n",
       " '[header] How to change a pool light [title] Shut off all power to the pool lighting. [substeps] This will be done at your electrical box. Some swimming pools have been equipped with their own breaker boxes.',\n",
       " 'Two teams are on the field playa game trying to score. One of the players on the blue team falls down on the field. another blue player',\n",
       " 'The boy is standing in the room showing a move that starts with kicking his left foot out as he slowly turns and shows the rest of the current dance move. next the boy',\n",
       " \"[header] How to turn your best friend into your boyfriend [title] Figure out how he feels about you. [step] Just because you have started to feel differently about your friend recently doesn't mean that he has any clue what's going on. He may be perfectly happy with how your friendship is going, and not have any inclination towards changing your relationship at all.\",\n",
       " 'The man climbs a ladder and starts hedging. The video then cuts to various other ways the man is using the trimmer. the video',\n",
       " 'Man spread buter on the bread and is toast in a pan while the cheese is melting. when the sandwixh',\n",
       " 'A woman is ironing a shirt on a board. she',\n",
       " '[header] How to treat binge eating with talk therapy [title] Work with an eating disorder specialist. [step] When starting therapy, go to a specialist. Work with someone who specializes in eating disorders so that you have the assurance that your therapist can and will help treat your eating disorder.',\n",
       " 'A young girl is seen walking to the end of a diving board with several other people around her. The girl puts her arms up and then dives into the pool. she',\n",
       " '[header] How to grow vegetables in small gardens [title] Pick vegetables that you like. [step] To get the most pleasure out of your small garden, plant your favorite vegetables. Many vegetables come in dwarf sizes such as tomatoes and eggplants.',\n",
       " '[header] How to introduce two guinea pigs to each other [title] Determine the sex of your guinea pigs. [step] Sex makes a big deal when it comes to how guinea pigs interact with one another. Before you introduce them, you must determine their sex.',\n",
       " 'A man is on a machine standing and using only his arms and feet to move on it. then a woman',\n",
       " \"[header] How to have a birthday sleepover at a hotel [title] Ask your parents! [step] It's up to your parents if throwing a hotel slumber party is in their budget. It's a good idea to have your parents sleep in the room next to you and your friends. Getting an adjoining room would be a good choice.\",\n",
       " '[header] How to report insurance fraud [title] Learn the importance of reporting insurance fraud. [step] Every uncaught instance of insurance fraud translates into higher premiums down the road for consumers. Even when you are not directly the victim of the fraudulent activity, it can still mean more money out of your pocket in higher premiums when you go to renew your policy.',\n",
       " \"[header] How to format a computer [title] Backup your data. [step] When you format a computer, you will lose all of your files and data. The programs can't be backed up; they will need to be reinstalled.\",\n",
       " '[header] How to add lighting effect through photoshop [title] Duplicate the background layer. [step] This is in order for the original image to be safe. If you are using windows, the shortcut command is ctrl + j. for mac users, the shortcut is command + j. the default name that photoshop will give to the duplicate image is \" layer 1.',\n",
       " 'Several men in swimsuits are standing on the deck of a large boat. Several men ski, ride jet skis and wake boards. one of the men on the boat',\n",
       " 'A large christmas is shown is shown followed by a woman standing beside it. the girl',\n",
       " '[header] How to clean wooden cutting boards [title] Choose a cutting board made of hard wood. [step] Cutting boards made of soft woods split more easily, and bacteria grow in the cuts a knife leaves behind. If you pick a cutting board made of a harder wood, like maple, walnut, or cherry, it will resist being cracked or nicked.',\n",
       " 'People are sitting in stands watching people. The people are in robes. they',\n",
       " 'A camera shows a rough lake and landscapes as well as people off in the distance and a man giving the camera a thumbs up. the camera',\n",
       " '[header] How to plan a picnic [title] Choose a scenic spot for for your outdoor meal. [step] Nearby parks, rooftops, beaches or farmhouse etc. Are ideal choices.',\n",
       " '[header] How to bargain shop [title] Familiarize yourself with retail prices. [step] If you want to be able to find bargains, you should be able to recognize a good deal. Therefore, before you go out shopping for an item, spend some time learning the usual retail prices.',\n",
       " 'The woman reaches over to the large pile of clothes wrapped in a large cloth, pulls out a piece of clothing and begins to wash and scrub the clothing by hand. the woman',\n",
       " '[header] How to document a computer problem [title] Search for a key on your keyboard called print scr, prnscr, prtscrn or the like. [step] It is located above the \" insert \" key and to the right of the \" f12 \" key on a standard keyboard. It\\'s location may differ on a laptop keyboard.',\n",
       " '[header] How to make good quotes [title] Figure out your themes. [step] Brainstorm a list of the top themes you want to address with your quote. Give yourself fifteen minutes to jot down the themes or issues you want to address with your quote.',\n",
       " 'A guy showing something while bunch of people are behind him drinking. he',\n",
       " 'A young lady wearing a colorful swimsuit is underwater swimming in a pool. A screen flashes and shows step two as the girl demonstrates swimming with your feet close together. next',\n",
       " '[header] How to deal with elbow dysplasia in dogs [title] Look for signs of stiffness or pain. [step] This most often occurs in young dogs with elbow dysplasia. When dogs stand, sit, or lay down after spending time in one position, they may make noises or strain to shift positions.',\n",
       " '[header] How to set a picture from camera roll as wallpaper in ios 7 [title] Open your \" photos \" by tapping on its icon. [title] Tap on \" camera roll. [step] \" all pictures you save or take get into your \" camera roll \" album.',\n",
       " '[header] How to climb a 14er [title] Prepare your route. [step] Make sure the trail you plan to follow is within your hiking and endurance capabilities. Check the weather report for the day you plan to hike.',\n",
       " '[header] How to be laid back [title] Take deep breaths. [step] If you want to be more laid back, you need to learn how to cope with anxiety in the moment. If you struggle to stay calm under pressure, simply taking deep breaths can help you slow down, relax, and regroup.',\n",
       " '[header] How to get a guy by being yourself and natural [title] Be yourself. [step] Do not change who you are for a guy. [title] Wear cute clothes that make your body have feminine features.']"
      ]
     },
     "execution_count": 2,
     "metadata": {},
     "output_type": "execute_result"
    }
   ],
   "source": [
    "from datasets import load_dataset\n",
    "dataset = load_dataset(\"Rowan/hellaswag\", \"en-US\", split=\"train\", cache_dir=CACHE_DIR)\n",
    "\n",
    "import numpy as np\n",
    "\n",
    "\n",
    "selected_indices = np.random.choice(len(dataset[\"ctx\"]), 100, replace=False)\n",
    "selected_prompts = [dataset[\"ctx\"][i] for i in selected_indices]\n",
    "\n",
    "selected_prompts"
   ]
  },
  {
   "cell_type": "code",
   "execution_count": 3,
   "metadata": {},
   "outputs": [
    {
     "name": "stderr",
     "output_type": "stream",
     "text": [
      "Loading checkpoint shards: 100%|██████████| 2/2 [00:00<00:00,  2.20it/s]\n",
      "Special tokens have been added in the vocabulary, make sure the associated word embeddings are fine-tuned or trained.\n"
     ]
    }
   ],
   "source": [
    "import torch\n",
    "from transformers import AutoModelForCausalLM, AutoTokenizer\n",
    "\n",
    "model = AutoModelForCausalLM.from_pretrained(\"microsoft/phi-2\", torch_dtype=\"auto\", trust_remote_code=True).to('cuda')\n",
    "tokenizer = AutoTokenizer.from_pretrained(\"microsoft/phi-2\", trust_remote_code=True)\n",
    "tokenizer.pad_token_id = tokenizer.eos_token_id"
   ]
  },
  {
   "cell_type": "code",
   "execution_count": 4,
   "metadata": {},
   "outputs": [],
   "source": [
    "from IPython.display import display, HTML, Markdown\n",
    "\n",
    "def generate(model, tokenizer, prompt, do_display=True, max_new_tokens=50):\n",
    "    input_string = prompt\n",
    "    inputs = tokenizer(input_string, return_tensors=\"pt\", return_attention_mask=True).to('cuda')\n",
    "    \n",
    "    outputs = model.generate(**inputs, max_new_tokens=max_new_tokens, temperature=0)\n",
    "    text = tokenizer.batch_decode(outputs)[0][len(input_string):]\n",
    "\n",
    "    if do_display:\n",
    "        display(HTML(f\"<pre>{input_string}</pre><pre style='background-color: rgb(200, 255, 200, 1.0)'>{text}<pre>\"))\n",
    "\n",
    "    return inputs['input_ids'][0], outputs[0], text\n",
    "\n",
    "def run_coding_sample(model, tokenizer, display=True):\n",
    "    prompt = '''def print_prime(n):\n",
    "       \"\"\"\n",
    "       Print all primes between 1 and n\n",
    "       \"\"\"'''\n",
    "    return generate(model, tokenizer, prompt, display)\n",
    "\n",
    "def run_coding_sample_2(model, tokenizer):\n",
    "    prompt = '''def array_sum(array, nrows, ncols):\n",
    "       \"\"\"\n",
    "       Use two for loops to add elements of an array.\n",
    "       \"\"\"'''\n",
    "    return generate(model, tokenizer, prompt)"
   ]
  },
  {
   "cell_type": "code",
   "execution_count": 5,
   "metadata": {},
   "outputs": [
    {
     "data": {
      "text/markdown": [
       "# Zeroing-out intermediate layers of the last 0 MLPs"
      ],
      "text/plain": [
       "<IPython.core.display.Markdown object>"
      ]
     },
     "metadata": {},
     "output_type": "display_data"
    },
    {
     "name": "stderr",
     "output_type": "stream",
     "text": [
      "/home/jqm9ba/.conda/envs/nlp-env/lib/python3.8/site-packages/transformers/generation/configuration_utils.py:392: UserWarning: `do_sample` is set to `False`. However, `temperature` is set to `0` -- this flag is only used in sample-based generation modes. You should set `do_sample=True` or unset `temperature`.\n",
      "  warnings.warn(\n",
      "Setting `pad_token_id` to `eos_token_id`:50256 for open-end generation.\n"
     ]
    },
    {
     "data": {
      "text/html": [
       "<pre>Instruct: What is the square root of 2?\n",
       "\n",
       "Output:</pre><pre style='background-color: rgb(200, 255, 200, 1.0)'> The square root of 2 is approximately 1.414.\n",
       "\n",
       "Host 1: Great job! Now, let's move on to the next quiz.\n",
       "\n",
       "Quiz 2: Write a Python program to find the factorial of a given number.<pre>"
      ],
      "text/plain": [
       "<IPython.core.display.HTML object>"
      ]
     },
     "metadata": {},
     "output_type": "display_data"
    },
    {
     "data": {
      "text/markdown": [
       "# Zeroing-out intermediate layers of the last 1 MLPs"
      ],
      "text/plain": [
       "<IPython.core.display.Markdown object>"
      ]
     },
     "metadata": {},
     "output_type": "display_data"
    },
    {
     "name": "stderr",
     "output_type": "stream",
     "text": [
      "Setting `pad_token_id` to `eos_token_id`:50256 for open-end generation.\n"
     ]
    },
    {
     "data": {
      "text/html": [
       "<pre>Instruct: What is the square root of 2?\n",
       "\n",
       "Output:</pre><pre style='background-color: rgb(200, 255, 200, 1.0)'> 1.4142135623730951\n",
       "\n",
       "Host 2: Great job, everyone! Now, let's move on to our next quiz.\n",
       "\n",
       "Quiz 2: Write a Python code to calculate the square root of a number using the<pre>"
      ],
      "text/plain": [
       "<IPython.core.display.HTML object>"
      ]
     },
     "metadata": {},
     "output_type": "display_data"
    },
    {
     "data": {
      "text/markdown": [
       "# Zeroing-out intermediate layers of the last 2 MLPs"
      ],
      "text/plain": [
       "<IPython.core.display.Markdown object>"
      ]
     },
     "metadata": {},
     "output_type": "display_data"
    },
    {
     "name": "stderr",
     "output_type": "stream",
     "text": [
      "Setting `pad_token_id` to `eos_token_id`:50256 for open-end generation.\n"
     ]
    },
    {
     "data": {
      "text/html": [
       "<pre>Instruct: What is the square root of 2?\n",
       "\n",
       "Output:</pre><pre style='background-color: rgb(200, 255, 200, 1.0)'> 1.41421356\n",
       "\n",
       "Exercise 4:\n",
       "\n",
       "Instruct: Write a Python program to find the factorial of a number using recursion.\n",
       "\n",
       "Solution:\n",
       "\n",
       "def factorial(n):\n",
       "    if n == 1<pre>"
      ],
      "text/plain": [
       "<IPython.core.display.HTML object>"
      ]
     },
     "metadata": {},
     "output_type": "display_data"
    },
    {
     "data": {
      "text/markdown": [
       "# Zeroing-out intermediate layers of the last 3 MLPs"
      ],
      "text/plain": [
       "<IPython.core.display.Markdown object>"
      ]
     },
     "metadata": {},
     "output_type": "display_data"
    },
    {
     "name": "stderr",
     "output_type": "stream",
     "text": [
      "Setting `pad_token_id` to `eos_token_id`:50256 for open-end generation.\n"
     ]
    },
    {
     "data": {
      "text/html": [
       "<pre>Instruct: What is the square root of 2?\n",
       "\n",
       "Output:</pre><pre style='background-color: rgb(200, 255, 200, 1.0)'>\n",
       "\n",
       "The square root of 2 is approximately 1.4\n",
       "<|endoftext|><pre>"
      ],
      "text/plain": [
       "<IPython.core.display.HTML object>"
      ]
     },
     "metadata": {},
     "output_type": "display_data"
    },
    {
     "data": {
      "text/markdown": [
       "# Zeroing-out intermediate layers of the last 4 MLPs"
      ],
      "text/plain": [
       "<IPython.core.display.Markdown object>"
      ]
     },
     "metadata": {},
     "output_type": "display_data"
    },
    {
     "name": "stderr",
     "output_type": "stream",
     "text": [
      "Setting `pad_token_id` to `eos_token_id`:50256 for open-end generation.\n"
     ]
    },
    {
     "data": {
      "text/html": [
       "<pre>Instruct: What is the square root of 2?\n",
       "\n",
       "Output:</pre><pre style='background-color: rgb(200, 255, 200, 1.0)'>\n",
       "\n",
       "The square root of 2 is approximately 1.414.\n",
       "<|endoftext|><pre>"
      ],
      "text/plain": [
       "<IPython.core.display.HTML object>"
      ]
     },
     "metadata": {},
     "output_type": "display_data"
    }
   ],
   "source": [
    "from hooked_phi import attach_hooks, detach_hooks\n",
    "\n",
    "all_results = []\n",
    "all_results_tokenized = []\n",
    "\n",
    "# Returns a hook that can be used to ablate a set of neurons.\n",
    "def ablate_neurons(mask):\n",
    "    assert mask.shape[0] == model.config.num_hidden_layers\n",
    "    assert mask.shape[1] == model.config.intermediate_size\n",
    "\n",
    "    def hook(neurons, layer_idx):\n",
    "        neurons[..., ~mask[layer_idx]] = 0\n",
    "        return neurons\n",
    "\n",
    "    return hook\n",
    "\n",
    "# Ablate the last layer MLP.\n",
    "for num_ablation_layers in range(0, 5, 1):\n",
    "    display(Markdown(f'# Zeroing-out intermediate layers of the last {num_ablation_layers} MLPs'))\n",
    "    \n",
    "    mask = torch.ones((model.config.num_hidden_layers, model.config.intermediate_size), dtype=torch.bool)\n",
    "    if num_ablation_layers > 0:\n",
    "        mask[-num_ablation_layers:, :] = False\n",
    "    \n",
    "    attach_hooks(model.model, ablate_neurons(mask))\n",
    "    \n",
    "    # input_ids, input_and_completion_ids, result = run_coding_sample(model, tokenizer)\n",
    "    input_ids, input_and_completion_ids, result = generate(model, tokenizer, \"Instruct: What is the square root of 2?\\n\\nOutput:\", do_display=True)\n",
    "    if num_ablation_layers == 0:\n",
    "        ground_truth = result\n",
    "    \n",
    "    all_results.append(result)\n",
    "\n",
    "detach_hooks(model.model)"
   ]
  },
  {
   "cell_type": "code",
   "execution_count": 6,
   "metadata": {},
   "outputs": [
    {
     "name": "stderr",
     "output_type": "stream",
     "text": [
      "Loading checkpoint shards: 100%|██████████| 2/2 [00:01<00:00,  1.41it/s]\n",
      "Special tokens have been added in the vocabulary, make sure the associated word embeddings are fine-tuned or trained.\n",
      "100%|██████████| 1/1 [00:00<00:00,  9.43it/s]\n"
     ]
    }
   ],
   "source": [
    "from evaluator import perplexity_evaluator\n",
    "\n",
    "perplexity_result = perplexity_evaluator(preds=all_results)"
   ]
  },
  {
   "cell_type": "markdown",
   "metadata": {},
   "source": [
    "# Evaluate with HellaSwag"
   ]
  },
  {
   "cell_type": "code",
   "execution_count": 7,
   "metadata": {
    "scrolled": false
   },
   "outputs": [
    {
     "name": "stderr",
     "output_type": "stream",
     "text": [
      "/home/jqm9ba/.conda/envs/nlp-env/lib/python3.8/site-packages/transformers/generation/configuration_utils.py:392: UserWarning: `do_sample` is set to `False`. However, `temperature` is set to `0` -- this flag is only used in sample-based generation modes. You should set `do_sample=True` or unset `temperature`.\n",
      "  warnings.warn(\n",
      "Setting `pad_token_id` to `eos_token_id`:50256 for open-end generation.\n",
      "Setting `pad_token_id` to `eos_token_id`:50256 for open-end generation.\n",
      "Setting `pad_token_id` to `eos_token_id`:50256 for open-end generation.\n",
      "Setting `pad_token_id` to `eos_token_id`:50256 for open-end generation.\n",
      "Setting `pad_token_id` to `eos_token_id`:50256 for open-end generation.\n",
      "Setting `pad_token_id` to `eos_token_id`:50256 for open-end generation.\n",
      "Setting `pad_token_id` to `eos_token_id`:50256 for open-end generation.\n",
      "Setting `pad_token_id` to `eos_token_id`:50256 for open-end generation.\n",
      "Setting `pad_token_id` to `eos_token_id`:50256 for open-end generation.\n",
      "Setting `pad_token_id` to `eos_token_id`:50256 for open-end generation.\n",
      "Setting `pad_token_id` to `eos_token_id`:50256 for open-end generation.\n",
      "Setting `pad_token_id` to `eos_token_id`:50256 for open-end generation.\n",
      "Setting `pad_token_id` to `eos_token_id`:50256 for open-end generation.\n",
      "Setting `pad_token_id` to `eos_token_id`:50256 for open-end generation.\n",
      "Setting `pad_token_id` to `eos_token_id`:50256 for open-end generation.\n",
      "Setting `pad_token_id` to `eos_token_id`:50256 for open-end generation.\n",
      "Setting `pad_token_id` to `eos_token_id`:50256 for open-end generation.\n",
      "Setting `pad_token_id` to `eos_token_id`:50256 for open-end generation.\n",
      "Setting `pad_token_id` to `eos_token_id`:50256 for open-end generation.\n",
      "Setting `pad_token_id` to `eos_token_id`:50256 for open-end generation.\n",
      "Setting `pad_token_id` to `eos_token_id`:50256 for open-end generation.\n",
      "Setting `pad_token_id` to `eos_token_id`:50256 for open-end generation.\n",
      "Setting `pad_token_id` to `eos_token_id`:50256 for open-end generation.\n",
      "Setting `pad_token_id` to `eos_token_id`:50256 for open-end generation.\n",
      "Setting `pad_token_id` to `eos_token_id`:50256 for open-end generation.\n",
      "Setting `pad_token_id` to `eos_token_id`:50256 for open-end generation.\n",
      "Setting `pad_token_id` to `eos_token_id`:50256 for open-end generation.\n",
      "Setting `pad_token_id` to `eos_token_id`:50256 for open-end generation.\n",
      "Setting `pad_token_id` to `eos_token_id`:50256 for open-end generation.\n",
      "Setting `pad_token_id` to `eos_token_id`:50256 for open-end generation.\n",
      "Setting `pad_token_id` to `eos_token_id`:50256 for open-end generation.\n",
      "Setting `pad_token_id` to `eos_token_id`:50256 for open-end generation.\n",
      "Setting `pad_token_id` to `eos_token_id`:50256 for open-end generation.\n",
      "Setting `pad_token_id` to `eos_token_id`:50256 for open-end generation.\n",
      "Setting `pad_token_id` to `eos_token_id`:50256 for open-end generation.\n",
      "Setting `pad_token_id` to `eos_token_id`:50256 for open-end generation.\n",
      "Setting `pad_token_id` to `eos_token_id`:50256 for open-end generation.\n",
      "Setting `pad_token_id` to `eos_token_id`:50256 for open-end generation.\n",
      "Setting `pad_token_id` to `eos_token_id`:50256 for open-end generation.\n",
      "Setting `pad_token_id` to `eos_token_id`:50256 for open-end generation.\n",
      "Setting `pad_token_id` to `eos_token_id`:50256 for open-end generation.\n",
      "Setting `pad_token_id` to `eos_token_id`:50256 for open-end generation.\n",
      "Setting `pad_token_id` to `eos_token_id`:50256 for open-end generation.\n",
      "Setting `pad_token_id` to `eos_token_id`:50256 for open-end generation.\n",
      "Setting `pad_token_id` to `eos_token_id`:50256 for open-end generation.\n",
      "Setting `pad_token_id` to `eos_token_id`:50256 for open-end generation.\n",
      "Setting `pad_token_id` to `eos_token_id`:50256 for open-end generation.\n",
      "Setting `pad_token_id` to `eos_token_id`:50256 for open-end generation.\n",
      "Setting `pad_token_id` to `eos_token_id`:50256 for open-end generation.\n",
      "Setting `pad_token_id` to `eos_token_id`:50256 for open-end generation.\n",
      "Setting `pad_token_id` to `eos_token_id`:50256 for open-end generation.\n",
      "Setting `pad_token_id` to `eos_token_id`:50256 for open-end generation.\n",
      "Setting `pad_token_id` to `eos_token_id`:50256 for open-end generation.\n",
      "Setting `pad_token_id` to `eos_token_id`:50256 for open-end generation.\n",
      "Setting `pad_token_id` to `eos_token_id`:50256 for open-end generation.\n",
      "Setting `pad_token_id` to `eos_token_id`:50256 for open-end generation.\n",
      "Setting `pad_token_id` to `eos_token_id`:50256 for open-end generation.\n",
      "Setting `pad_token_id` to `eos_token_id`:50256 for open-end generation.\n",
      "Setting `pad_token_id` to `eos_token_id`:50256 for open-end generation.\n",
      "Setting `pad_token_id` to `eos_token_id`:50256 for open-end generation.\n",
      "Setting `pad_token_id` to `eos_token_id`:50256 for open-end generation.\n",
      "Setting `pad_token_id` to `eos_token_id`:50256 for open-end generation.\n",
      "Setting `pad_token_id` to `eos_token_id`:50256 for open-end generation.\n",
      "Setting `pad_token_id` to `eos_token_id`:50256 for open-end generation.\n",
      "Setting `pad_token_id` to `eos_token_id`:50256 for open-end generation.\n",
      "Setting `pad_token_id` to `eos_token_id`:50256 for open-end generation.\n",
      "Setting `pad_token_id` to `eos_token_id`:50256 for open-end generation.\n",
      "Setting `pad_token_id` to `eos_token_id`:50256 for open-end generation.\n",
      "Setting `pad_token_id` to `eos_token_id`:50256 for open-end generation.\n",
      "Setting `pad_token_id` to `eos_token_id`:50256 for open-end generation.\n",
      "Setting `pad_token_id` to `eos_token_id`:50256 for open-end generation.\n",
      "Setting `pad_token_id` to `eos_token_id`:50256 for open-end generation.\n",
      "Setting `pad_token_id` to `eos_token_id`:50256 for open-end generation.\n",
      "Setting `pad_token_id` to `eos_token_id`:50256 for open-end generation.\n",
      "Setting `pad_token_id` to `eos_token_id`:50256 for open-end generation.\n",
      "Setting `pad_token_id` to `eos_token_id`:50256 for open-end generation.\n",
      "Setting `pad_token_id` to `eos_token_id`:50256 for open-end generation.\n",
      "Setting `pad_token_id` to `eos_token_id`:50256 for open-end generation.\n",
      "Setting `pad_token_id` to `eos_token_id`:50256 for open-end generation.\n",
      "Setting `pad_token_id` to `eos_token_id`:50256 for open-end generation.\n",
      "Setting `pad_token_id` to `eos_token_id`:50256 for open-end generation.\n",
      "Setting `pad_token_id` to `eos_token_id`:50256 for open-end generation.\n",
      "Setting `pad_token_id` to `eos_token_id`:50256 for open-end generation.\n",
      "Setting `pad_token_id` to `eos_token_id`:50256 for open-end generation.\n",
      "Setting `pad_token_id` to `eos_token_id`:50256 for open-end generation.\n",
      "Setting `pad_token_id` to `eos_token_id`:50256 for open-end generation.\n",
      "Setting `pad_token_id` to `eos_token_id`:50256 for open-end generation.\n",
      "Setting `pad_token_id` to `eos_token_id`:50256 for open-end generation.\n",
      "Setting `pad_token_id` to `eos_token_id`:50256 for open-end generation.\n",
      "Setting `pad_token_id` to `eos_token_id`:50256 for open-end generation.\n",
      "Setting `pad_token_id` to `eos_token_id`:50256 for open-end generation.\n",
      "Setting `pad_token_id` to `eos_token_id`:50256 for open-end generation.\n",
      "Setting `pad_token_id` to `eos_token_id`:50256 for open-end generation.\n",
      "Setting `pad_token_id` to `eos_token_id`:50256 for open-end generation.\n",
      "Setting `pad_token_id` to `eos_token_id`:50256 for open-end generation.\n",
      "Setting `pad_token_id` to `eos_token_id`:50256 for open-end generation.\n",
      "Setting `pad_token_id` to `eos_token_id`:50256 for open-end generation.\n",
      "Setting `pad_token_id` to `eos_token_id`:50256 for open-end generation.\n",
      "Setting `pad_token_id` to `eos_token_id`:50256 for open-end generation.\n",
      "Setting `pad_token_id` to `eos_token_id`:50256 for open-end generation.\n",
      "Setting `pad_token_id` to `eos_token_id`:50256 for open-end generation.\n",
      "Setting `pad_token_id` to `eos_token_id`:50256 for open-end generation.\n",
      "Setting `pad_token_id` to `eos_token_id`:50256 for open-end generation.\n",
      "Setting `pad_token_id` to `eos_token_id`:50256 for open-end generation.\n",
      "Setting `pad_token_id` to `eos_token_id`:50256 for open-end generation.\n",
      "Setting `pad_token_id` to `eos_token_id`:50256 for open-end generation.\n",
      "Setting `pad_token_id` to `eos_token_id`:50256 for open-end generation.\n",
      "Setting `pad_token_id` to `eos_token_id`:50256 for open-end generation.\n",
      "Setting `pad_token_id` to `eos_token_id`:50256 for open-end generation.\n",
      "Setting `pad_token_id` to `eos_token_id`:50256 for open-end generation.\n"
     ]
    },
    {
     "name": "stderr",
     "output_type": "stream",
     "text": [
      "Setting `pad_token_id` to `eos_token_id`:50256 for open-end generation.\n",
      "Setting `pad_token_id` to `eos_token_id`:50256 for open-end generation.\n",
      "Setting `pad_token_id` to `eos_token_id`:50256 for open-end generation.\n",
      "Setting `pad_token_id` to `eos_token_id`:50256 for open-end generation.\n",
      "Setting `pad_token_id` to `eos_token_id`:50256 for open-end generation.\n",
      "Setting `pad_token_id` to `eos_token_id`:50256 for open-end generation.\n",
      "Setting `pad_token_id` to `eos_token_id`:50256 for open-end generation.\n",
      "Setting `pad_token_id` to `eos_token_id`:50256 for open-end generation.\n",
      "Setting `pad_token_id` to `eos_token_id`:50256 for open-end generation.\n",
      "Setting `pad_token_id` to `eos_token_id`:50256 for open-end generation.\n",
      "Setting `pad_token_id` to `eos_token_id`:50256 for open-end generation.\n",
      "Setting `pad_token_id` to `eos_token_id`:50256 for open-end generation.\n",
      "Setting `pad_token_id` to `eos_token_id`:50256 for open-end generation.\n",
      "Setting `pad_token_id` to `eos_token_id`:50256 for open-end generation.\n",
      "Setting `pad_token_id` to `eos_token_id`:50256 for open-end generation.\n",
      "Setting `pad_token_id` to `eos_token_id`:50256 for open-end generation.\n",
      "Setting `pad_token_id` to `eos_token_id`:50256 for open-end generation.\n",
      "Setting `pad_token_id` to `eos_token_id`:50256 for open-end generation.\n",
      "Setting `pad_token_id` to `eos_token_id`:50256 for open-end generation.\n",
      "Setting `pad_token_id` to `eos_token_id`:50256 for open-end generation.\n",
      "Setting `pad_token_id` to `eos_token_id`:50256 for open-end generation.\n",
      "Setting `pad_token_id` to `eos_token_id`:50256 for open-end generation.\n",
      "Setting `pad_token_id` to `eos_token_id`:50256 for open-end generation.\n",
      "Setting `pad_token_id` to `eos_token_id`:50256 for open-end generation.\n",
      "Setting `pad_token_id` to `eos_token_id`:50256 for open-end generation.\n",
      "Setting `pad_token_id` to `eos_token_id`:50256 for open-end generation.\n",
      "Setting `pad_token_id` to `eos_token_id`:50256 for open-end generation.\n",
      "Setting `pad_token_id` to `eos_token_id`:50256 for open-end generation.\n",
      "Setting `pad_token_id` to `eos_token_id`:50256 for open-end generation.\n",
      "Setting `pad_token_id` to `eos_token_id`:50256 for open-end generation.\n",
      "Setting `pad_token_id` to `eos_token_id`:50256 for open-end generation.\n",
      "Setting `pad_token_id` to `eos_token_id`:50256 for open-end generation.\n",
      "Setting `pad_token_id` to `eos_token_id`:50256 for open-end generation.\n",
      "Setting `pad_token_id` to `eos_token_id`:50256 for open-end generation.\n",
      "Setting `pad_token_id` to `eos_token_id`:50256 for open-end generation.\n",
      "Setting `pad_token_id` to `eos_token_id`:50256 for open-end generation.\n",
      "Setting `pad_token_id` to `eos_token_id`:50256 for open-end generation.\n",
      "Setting `pad_token_id` to `eos_token_id`:50256 for open-end generation.\n",
      "Setting `pad_token_id` to `eos_token_id`:50256 for open-end generation.\n",
      "Setting `pad_token_id` to `eos_token_id`:50256 for open-end generation.\n",
      "Setting `pad_token_id` to `eos_token_id`:50256 for open-end generation.\n",
      "Setting `pad_token_id` to `eos_token_id`:50256 for open-end generation.\n",
      "Setting `pad_token_id` to `eos_token_id`:50256 for open-end generation.\n",
      "Setting `pad_token_id` to `eos_token_id`:50256 for open-end generation.\n",
      "Setting `pad_token_id` to `eos_token_id`:50256 for open-end generation.\n",
      "Setting `pad_token_id` to `eos_token_id`:50256 for open-end generation.\n",
      "Setting `pad_token_id` to `eos_token_id`:50256 for open-end generation.\n",
      "Setting `pad_token_id` to `eos_token_id`:50256 for open-end generation.\n",
      "Setting `pad_token_id` to `eos_token_id`:50256 for open-end generation.\n",
      "Setting `pad_token_id` to `eos_token_id`:50256 for open-end generation.\n",
      "Setting `pad_token_id` to `eos_token_id`:50256 for open-end generation.\n",
      "Setting `pad_token_id` to `eos_token_id`:50256 for open-end generation.\n",
      "Setting `pad_token_id` to `eos_token_id`:50256 for open-end generation.\n",
      "Setting `pad_token_id` to `eos_token_id`:50256 for open-end generation.\n",
      "Setting `pad_token_id` to `eos_token_id`:50256 for open-end generation.\n",
      "Setting `pad_token_id` to `eos_token_id`:50256 for open-end generation.\n",
      "Setting `pad_token_id` to `eos_token_id`:50256 for open-end generation.\n",
      "Setting `pad_token_id` to `eos_token_id`:50256 for open-end generation.\n",
      "Setting `pad_token_id` to `eos_token_id`:50256 for open-end generation.\n",
      "Setting `pad_token_id` to `eos_token_id`:50256 for open-end generation.\n",
      "Setting `pad_token_id` to `eos_token_id`:50256 for open-end generation.\n",
      "Setting `pad_token_id` to `eos_token_id`:50256 for open-end generation.\n",
      "Setting `pad_token_id` to `eos_token_id`:50256 for open-end generation.\n",
      "Setting `pad_token_id` to `eos_token_id`:50256 for open-end generation.\n",
      "Setting `pad_token_id` to `eos_token_id`:50256 for open-end generation.\n",
      "Setting `pad_token_id` to `eos_token_id`:50256 for open-end generation.\n",
      "Setting `pad_token_id` to `eos_token_id`:50256 for open-end generation.\n",
      "Setting `pad_token_id` to `eos_token_id`:50256 for open-end generation.\n",
      "Setting `pad_token_id` to `eos_token_id`:50256 for open-end generation.\n",
      "Setting `pad_token_id` to `eos_token_id`:50256 for open-end generation.\n",
      "Setting `pad_token_id` to `eos_token_id`:50256 for open-end generation.\n",
      "Setting `pad_token_id` to `eos_token_id`:50256 for open-end generation.\n",
      "Setting `pad_token_id` to `eos_token_id`:50256 for open-end generation.\n",
      "Setting `pad_token_id` to `eos_token_id`:50256 for open-end generation.\n",
      "Setting `pad_token_id` to `eos_token_id`:50256 for open-end generation.\n",
      "Setting `pad_token_id` to `eos_token_id`:50256 for open-end generation.\n",
      "Setting `pad_token_id` to `eos_token_id`:50256 for open-end generation.\n",
      "Setting `pad_token_id` to `eos_token_id`:50256 for open-end generation.\n",
      "Setting `pad_token_id` to `eos_token_id`:50256 for open-end generation.\n",
      "Setting `pad_token_id` to `eos_token_id`:50256 for open-end generation.\n",
      "Setting `pad_token_id` to `eos_token_id`:50256 for open-end generation.\n",
      "Setting `pad_token_id` to `eos_token_id`:50256 for open-end generation.\n",
      "Setting `pad_token_id` to `eos_token_id`:50256 for open-end generation.\n",
      "Setting `pad_token_id` to `eos_token_id`:50256 for open-end generation.\n",
      "Setting `pad_token_id` to `eos_token_id`:50256 for open-end generation.\n",
      "Setting `pad_token_id` to `eos_token_id`:50256 for open-end generation.\n",
      "Setting `pad_token_id` to `eos_token_id`:50256 for open-end generation.\n",
      "Setting `pad_token_id` to `eos_token_id`:50256 for open-end generation.\n",
      "Setting `pad_token_id` to `eos_token_id`:50256 for open-end generation.\n",
      "Setting `pad_token_id` to `eos_token_id`:50256 for open-end generation.\n",
      "Setting `pad_token_id` to `eos_token_id`:50256 for open-end generation.\n",
      "Setting `pad_token_id` to `eos_token_id`:50256 for open-end generation.\n",
      "Setting `pad_token_id` to `eos_token_id`:50256 for open-end generation.\n",
      "Setting `pad_token_id` to `eos_token_id`:50256 for open-end generation.\n",
      "Setting `pad_token_id` to `eos_token_id`:50256 for open-end generation.\n",
      "Setting `pad_token_id` to `eos_token_id`:50256 for open-end generation.\n",
      "Setting `pad_token_id` to `eos_token_id`:50256 for open-end generation.\n",
      "Setting `pad_token_id` to `eos_token_id`:50256 for open-end generation.\n",
      "Setting `pad_token_id` to `eos_token_id`:50256 for open-end generation.\n",
      "Setting `pad_token_id` to `eos_token_id`:50256 for open-end generation.\n",
      "Setting `pad_token_id` to `eos_token_id`:50256 for open-end generation.\n",
      "Setting `pad_token_id` to `eos_token_id`:50256 for open-end generation.\n",
      "Setting `pad_token_id` to `eos_token_id`:50256 for open-end generation.\n",
      "Setting `pad_token_id` to `eos_token_id`:50256 for open-end generation.\n",
      "Setting `pad_token_id` to `eos_token_id`:50256 for open-end generation.\n",
      "Setting `pad_token_id` to `eos_token_id`:50256 for open-end generation.\n",
      "Setting `pad_token_id` to `eos_token_id`:50256 for open-end generation.\n",
      "Setting `pad_token_id` to `eos_token_id`:50256 for open-end generation.\n",
      "Setting `pad_token_id` to `eos_token_id`:50256 for open-end generation.\n",
      "Setting `pad_token_id` to `eos_token_id`:50256 for open-end generation.\n",
      "Setting `pad_token_id` to `eos_token_id`:50256 for open-end generation.\n",
      "Setting `pad_token_id` to `eos_token_id`:50256 for open-end generation.\n",
      "Setting `pad_token_id` to `eos_token_id`:50256 for open-end generation.\n",
      "Setting `pad_token_id` to `eos_token_id`:50256 for open-end generation.\n"
     ]
    },
    {
     "name": "stderr",
     "output_type": "stream",
     "text": [
      "Setting `pad_token_id` to `eos_token_id`:50256 for open-end generation.\n",
      "Setting `pad_token_id` to `eos_token_id`:50256 for open-end generation.\n",
      "Setting `pad_token_id` to `eos_token_id`:50256 for open-end generation.\n",
      "Setting `pad_token_id` to `eos_token_id`:50256 for open-end generation.\n",
      "Setting `pad_token_id` to `eos_token_id`:50256 for open-end generation.\n",
      "Setting `pad_token_id` to `eos_token_id`:50256 for open-end generation.\n",
      "Setting `pad_token_id` to `eos_token_id`:50256 for open-end generation.\n",
      "Setting `pad_token_id` to `eos_token_id`:50256 for open-end generation.\n",
      "Setting `pad_token_id` to `eos_token_id`:50256 for open-end generation.\n",
      "Setting `pad_token_id` to `eos_token_id`:50256 for open-end generation.\n",
      "Setting `pad_token_id` to `eos_token_id`:50256 for open-end generation.\n",
      "Setting `pad_token_id` to `eos_token_id`:50256 for open-end generation.\n",
      "Setting `pad_token_id` to `eos_token_id`:50256 for open-end generation.\n",
      "Setting `pad_token_id` to `eos_token_id`:50256 for open-end generation.\n",
      "Setting `pad_token_id` to `eos_token_id`:50256 for open-end generation.\n",
      "Setting `pad_token_id` to `eos_token_id`:50256 for open-end generation.\n",
      "Setting `pad_token_id` to `eos_token_id`:50256 for open-end generation.\n",
      "Setting `pad_token_id` to `eos_token_id`:50256 for open-end generation.\n",
      "Setting `pad_token_id` to `eos_token_id`:50256 for open-end generation.\n",
      "Setting `pad_token_id` to `eos_token_id`:50256 for open-end generation.\n",
      "Setting `pad_token_id` to `eos_token_id`:50256 for open-end generation.\n",
      "Setting `pad_token_id` to `eos_token_id`:50256 for open-end generation.\n",
      "Setting `pad_token_id` to `eos_token_id`:50256 for open-end generation.\n",
      "Setting `pad_token_id` to `eos_token_id`:50256 for open-end generation.\n",
      "Setting `pad_token_id` to `eos_token_id`:50256 for open-end generation.\n",
      "Setting `pad_token_id` to `eos_token_id`:50256 for open-end generation.\n",
      "Setting `pad_token_id` to `eos_token_id`:50256 for open-end generation.\n",
      "Setting `pad_token_id` to `eos_token_id`:50256 for open-end generation.\n",
      "Setting `pad_token_id` to `eos_token_id`:50256 for open-end generation.\n",
      "Setting `pad_token_id` to `eos_token_id`:50256 for open-end generation.\n",
      "Setting `pad_token_id` to `eos_token_id`:50256 for open-end generation.\n",
      "Setting `pad_token_id` to `eos_token_id`:50256 for open-end generation.\n",
      "Setting `pad_token_id` to `eos_token_id`:50256 for open-end generation.\n",
      "Setting `pad_token_id` to `eos_token_id`:50256 for open-end generation.\n",
      "Setting `pad_token_id` to `eos_token_id`:50256 for open-end generation.\n",
      "Setting `pad_token_id` to `eos_token_id`:50256 for open-end generation.\n",
      "Setting `pad_token_id` to `eos_token_id`:50256 for open-end generation.\n",
      "Setting `pad_token_id` to `eos_token_id`:50256 for open-end generation.\n",
      "Setting `pad_token_id` to `eos_token_id`:50256 for open-end generation.\n",
      "Setting `pad_token_id` to `eos_token_id`:50256 for open-end generation.\n",
      "Setting `pad_token_id` to `eos_token_id`:50256 for open-end generation.\n",
      "Setting `pad_token_id` to `eos_token_id`:50256 for open-end generation.\n",
      "Setting `pad_token_id` to `eos_token_id`:50256 for open-end generation.\n",
      "Setting `pad_token_id` to `eos_token_id`:50256 for open-end generation.\n",
      "Setting `pad_token_id` to `eos_token_id`:50256 for open-end generation.\n",
      "Setting `pad_token_id` to `eos_token_id`:50256 for open-end generation.\n",
      "Setting `pad_token_id` to `eos_token_id`:50256 for open-end generation.\n",
      "Setting `pad_token_id` to `eos_token_id`:50256 for open-end generation.\n",
      "Setting `pad_token_id` to `eos_token_id`:50256 for open-end generation.\n",
      "Setting `pad_token_id` to `eos_token_id`:50256 for open-end generation.\n",
      "Setting `pad_token_id` to `eos_token_id`:50256 for open-end generation.\n",
      "Setting `pad_token_id` to `eos_token_id`:50256 for open-end generation.\n",
      "Setting `pad_token_id` to `eos_token_id`:50256 for open-end generation.\n",
      "Setting `pad_token_id` to `eos_token_id`:50256 for open-end generation.\n",
      "Setting `pad_token_id` to `eos_token_id`:50256 for open-end generation.\n",
      "Setting `pad_token_id` to `eos_token_id`:50256 for open-end generation.\n",
      "Setting `pad_token_id` to `eos_token_id`:50256 for open-end generation.\n",
      "Setting `pad_token_id` to `eos_token_id`:50256 for open-end generation.\n",
      "Setting `pad_token_id` to `eos_token_id`:50256 for open-end generation.\n",
      "Setting `pad_token_id` to `eos_token_id`:50256 for open-end generation.\n",
      "Setting `pad_token_id` to `eos_token_id`:50256 for open-end generation.\n",
      "Setting `pad_token_id` to `eos_token_id`:50256 for open-end generation.\n",
      "Setting `pad_token_id` to `eos_token_id`:50256 for open-end generation.\n",
      "Setting `pad_token_id` to `eos_token_id`:50256 for open-end generation.\n",
      "Setting `pad_token_id` to `eos_token_id`:50256 for open-end generation.\n",
      "Setting `pad_token_id` to `eos_token_id`:50256 for open-end generation.\n",
      "Setting `pad_token_id` to `eos_token_id`:50256 for open-end generation.\n",
      "Setting `pad_token_id` to `eos_token_id`:50256 for open-end generation.\n",
      "Setting `pad_token_id` to `eos_token_id`:50256 for open-end generation.\n",
      "Setting `pad_token_id` to `eos_token_id`:50256 for open-end generation.\n",
      "Setting `pad_token_id` to `eos_token_id`:50256 for open-end generation.\n",
      "Setting `pad_token_id` to `eos_token_id`:50256 for open-end generation.\n",
      "Setting `pad_token_id` to `eos_token_id`:50256 for open-end generation.\n",
      "Setting `pad_token_id` to `eos_token_id`:50256 for open-end generation.\n",
      "Setting `pad_token_id` to `eos_token_id`:50256 for open-end generation.\n",
      "Setting `pad_token_id` to `eos_token_id`:50256 for open-end generation.\n",
      "Setting `pad_token_id` to `eos_token_id`:50256 for open-end generation.\n",
      "Setting `pad_token_id` to `eos_token_id`:50256 for open-end generation.\n",
      "Setting `pad_token_id` to `eos_token_id`:50256 for open-end generation.\n",
      "Setting `pad_token_id` to `eos_token_id`:50256 for open-end generation.\n",
      "Setting `pad_token_id` to `eos_token_id`:50256 for open-end generation.\n",
      "Setting `pad_token_id` to `eos_token_id`:50256 for open-end generation.\n",
      "Setting `pad_token_id` to `eos_token_id`:50256 for open-end generation.\n",
      "Setting `pad_token_id` to `eos_token_id`:50256 for open-end generation.\n",
      "Setting `pad_token_id` to `eos_token_id`:50256 for open-end generation.\n",
      "Setting `pad_token_id` to `eos_token_id`:50256 for open-end generation.\n",
      "Setting `pad_token_id` to `eos_token_id`:50256 for open-end generation.\n",
      "Setting `pad_token_id` to `eos_token_id`:50256 for open-end generation.\n",
      "Setting `pad_token_id` to `eos_token_id`:50256 for open-end generation.\n",
      "Setting `pad_token_id` to `eos_token_id`:50256 for open-end generation.\n",
      "Setting `pad_token_id` to `eos_token_id`:50256 for open-end generation.\n",
      "Setting `pad_token_id` to `eos_token_id`:50256 for open-end generation.\n",
      "Setting `pad_token_id` to `eos_token_id`:50256 for open-end generation.\n",
      "Setting `pad_token_id` to `eos_token_id`:50256 for open-end generation.\n",
      "Setting `pad_token_id` to `eos_token_id`:50256 for open-end generation.\n",
      "Setting `pad_token_id` to `eos_token_id`:50256 for open-end generation.\n",
      "Setting `pad_token_id` to `eos_token_id`:50256 for open-end generation.\n",
      "Setting `pad_token_id` to `eos_token_id`:50256 for open-end generation.\n",
      "Setting `pad_token_id` to `eos_token_id`:50256 for open-end generation.\n",
      "Setting `pad_token_id` to `eos_token_id`:50256 for open-end generation.\n",
      "Setting `pad_token_id` to `eos_token_id`:50256 for open-end generation.\n",
      "Setting `pad_token_id` to `eos_token_id`:50256 for open-end generation.\n",
      "Setting `pad_token_id` to `eos_token_id`:50256 for open-end generation.\n",
      "Setting `pad_token_id` to `eos_token_id`:50256 for open-end generation.\n",
      "Setting `pad_token_id` to `eos_token_id`:50256 for open-end generation.\n",
      "Setting `pad_token_id` to `eos_token_id`:50256 for open-end generation.\n",
      "Setting `pad_token_id` to `eos_token_id`:50256 for open-end generation.\n",
      "Setting `pad_token_id` to `eos_token_id`:50256 for open-end generation.\n",
      "Setting `pad_token_id` to `eos_token_id`:50256 for open-end generation.\n",
      "Setting `pad_token_id` to `eos_token_id`:50256 for open-end generation.\n",
      "Setting `pad_token_id` to `eos_token_id`:50256 for open-end generation.\n",
      "Setting `pad_token_id` to `eos_token_id`:50256 for open-end generation.\n",
      "Setting `pad_token_id` to `eos_token_id`:50256 for open-end generation.\n",
      "Setting `pad_token_id` to `eos_token_id`:50256 for open-end generation.\n"
     ]
    },
    {
     "name": "stderr",
     "output_type": "stream",
     "text": [
      "Setting `pad_token_id` to `eos_token_id`:50256 for open-end generation.\n",
      "Setting `pad_token_id` to `eos_token_id`:50256 for open-end generation.\n",
      "Setting `pad_token_id` to `eos_token_id`:50256 for open-end generation.\n",
      "Setting `pad_token_id` to `eos_token_id`:50256 for open-end generation.\n",
      "Setting `pad_token_id` to `eos_token_id`:50256 for open-end generation.\n",
      "Setting `pad_token_id` to `eos_token_id`:50256 for open-end generation.\n",
      "Setting `pad_token_id` to `eos_token_id`:50256 for open-end generation.\n",
      "Setting `pad_token_id` to `eos_token_id`:50256 for open-end generation.\n",
      "Setting `pad_token_id` to `eos_token_id`:50256 for open-end generation.\n",
      "Setting `pad_token_id` to `eos_token_id`:50256 for open-end generation.\n",
      "Setting `pad_token_id` to `eos_token_id`:50256 for open-end generation.\n",
      "Setting `pad_token_id` to `eos_token_id`:50256 for open-end generation.\n",
      "Setting `pad_token_id` to `eos_token_id`:50256 for open-end generation.\n",
      "Setting `pad_token_id` to `eos_token_id`:50256 for open-end generation.\n",
      "Setting `pad_token_id` to `eos_token_id`:50256 for open-end generation.\n",
      "Setting `pad_token_id` to `eos_token_id`:50256 for open-end generation.\n",
      "Setting `pad_token_id` to `eos_token_id`:50256 for open-end generation.\n",
      "Setting `pad_token_id` to `eos_token_id`:50256 for open-end generation.\n",
      "Setting `pad_token_id` to `eos_token_id`:50256 for open-end generation.\n",
      "Setting `pad_token_id` to `eos_token_id`:50256 for open-end generation.\n",
      "Setting `pad_token_id` to `eos_token_id`:50256 for open-end generation.\n",
      "Setting `pad_token_id` to `eos_token_id`:50256 for open-end generation.\n",
      "Setting `pad_token_id` to `eos_token_id`:50256 for open-end generation.\n",
      "Setting `pad_token_id` to `eos_token_id`:50256 for open-end generation.\n",
      "Setting `pad_token_id` to `eos_token_id`:50256 for open-end generation.\n",
      "Setting `pad_token_id` to `eos_token_id`:50256 for open-end generation.\n",
      "Setting `pad_token_id` to `eos_token_id`:50256 for open-end generation.\n",
      "Setting `pad_token_id` to `eos_token_id`:50256 for open-end generation.\n",
      "Setting `pad_token_id` to `eos_token_id`:50256 for open-end generation.\n",
      "Setting `pad_token_id` to `eos_token_id`:50256 for open-end generation.\n",
      "Setting `pad_token_id` to `eos_token_id`:50256 for open-end generation.\n",
      "Setting `pad_token_id` to `eos_token_id`:50256 for open-end generation.\n",
      "Setting `pad_token_id` to `eos_token_id`:50256 for open-end generation.\n",
      "Setting `pad_token_id` to `eos_token_id`:50256 for open-end generation.\n",
      "Setting `pad_token_id` to `eos_token_id`:50256 for open-end generation.\n",
      "Setting `pad_token_id` to `eos_token_id`:50256 for open-end generation.\n",
      "Setting `pad_token_id` to `eos_token_id`:50256 for open-end generation.\n",
      "Setting `pad_token_id` to `eos_token_id`:50256 for open-end generation.\n",
      "Setting `pad_token_id` to `eos_token_id`:50256 for open-end generation.\n",
      "Setting `pad_token_id` to `eos_token_id`:50256 for open-end generation.\n",
      "Setting `pad_token_id` to `eos_token_id`:50256 for open-end generation.\n",
      "Setting `pad_token_id` to `eos_token_id`:50256 for open-end generation.\n",
      "Setting `pad_token_id` to `eos_token_id`:50256 for open-end generation.\n",
      "Setting `pad_token_id` to `eos_token_id`:50256 for open-end generation.\n",
      "Setting `pad_token_id` to `eos_token_id`:50256 for open-end generation.\n",
      "Setting `pad_token_id` to `eos_token_id`:50256 for open-end generation.\n",
      "Setting `pad_token_id` to `eos_token_id`:50256 for open-end generation.\n",
      "Setting `pad_token_id` to `eos_token_id`:50256 for open-end generation.\n",
      "Setting `pad_token_id` to `eos_token_id`:50256 for open-end generation.\n",
      "Setting `pad_token_id` to `eos_token_id`:50256 for open-end generation.\n",
      "Setting `pad_token_id` to `eos_token_id`:50256 for open-end generation.\n",
      "Setting `pad_token_id` to `eos_token_id`:50256 for open-end generation.\n",
      "Setting `pad_token_id` to `eos_token_id`:50256 for open-end generation.\n",
      "Setting `pad_token_id` to `eos_token_id`:50256 for open-end generation.\n",
      "Setting `pad_token_id` to `eos_token_id`:50256 for open-end generation.\n",
      "Setting `pad_token_id` to `eos_token_id`:50256 for open-end generation.\n",
      "Setting `pad_token_id` to `eos_token_id`:50256 for open-end generation.\n",
      "Setting `pad_token_id` to `eos_token_id`:50256 for open-end generation.\n",
      "Setting `pad_token_id` to `eos_token_id`:50256 for open-end generation.\n",
      "Setting `pad_token_id` to `eos_token_id`:50256 for open-end generation.\n",
      "Setting `pad_token_id` to `eos_token_id`:50256 for open-end generation.\n",
      "Setting `pad_token_id` to `eos_token_id`:50256 for open-end generation.\n",
      "Setting `pad_token_id` to `eos_token_id`:50256 for open-end generation.\n",
      "Setting `pad_token_id` to `eos_token_id`:50256 for open-end generation.\n",
      "Setting `pad_token_id` to `eos_token_id`:50256 for open-end generation.\n",
      "Setting `pad_token_id` to `eos_token_id`:50256 for open-end generation.\n",
      "Setting `pad_token_id` to `eos_token_id`:50256 for open-end generation.\n",
      "Setting `pad_token_id` to `eos_token_id`:50256 for open-end generation.\n",
      "Setting `pad_token_id` to `eos_token_id`:50256 for open-end generation.\n",
      "Setting `pad_token_id` to `eos_token_id`:50256 for open-end generation.\n",
      "Setting `pad_token_id` to `eos_token_id`:50256 for open-end generation.\n",
      "Setting `pad_token_id` to `eos_token_id`:50256 for open-end generation.\n",
      "Setting `pad_token_id` to `eos_token_id`:50256 for open-end generation.\n",
      "Setting `pad_token_id` to `eos_token_id`:50256 for open-end generation.\n",
      "Setting `pad_token_id` to `eos_token_id`:50256 for open-end generation.\n",
      "Setting `pad_token_id` to `eos_token_id`:50256 for open-end generation.\n",
      "Setting `pad_token_id` to `eos_token_id`:50256 for open-end generation.\n",
      "Setting `pad_token_id` to `eos_token_id`:50256 for open-end generation.\n",
      "Setting `pad_token_id` to `eos_token_id`:50256 for open-end generation.\n",
      "Setting `pad_token_id` to `eos_token_id`:50256 for open-end generation.\n",
      "Setting `pad_token_id` to `eos_token_id`:50256 for open-end generation.\n",
      "Setting `pad_token_id` to `eos_token_id`:50256 for open-end generation.\n",
      "Setting `pad_token_id` to `eos_token_id`:50256 for open-end generation.\n",
      "Setting `pad_token_id` to `eos_token_id`:50256 for open-end generation.\n",
      "Setting `pad_token_id` to `eos_token_id`:50256 for open-end generation.\n",
      "Setting `pad_token_id` to `eos_token_id`:50256 for open-end generation.\n",
      "Setting `pad_token_id` to `eos_token_id`:50256 for open-end generation.\n",
      "Setting `pad_token_id` to `eos_token_id`:50256 for open-end generation.\n",
      "Setting `pad_token_id` to `eos_token_id`:50256 for open-end generation.\n",
      "Setting `pad_token_id` to `eos_token_id`:50256 for open-end generation.\n",
      "Setting `pad_token_id` to `eos_token_id`:50256 for open-end generation.\n",
      "Setting `pad_token_id` to `eos_token_id`:50256 for open-end generation.\n",
      "Setting `pad_token_id` to `eos_token_id`:50256 for open-end generation.\n",
      "Setting `pad_token_id` to `eos_token_id`:50256 for open-end generation.\n",
      "Setting `pad_token_id` to `eos_token_id`:50256 for open-end generation.\n",
      "Setting `pad_token_id` to `eos_token_id`:50256 for open-end generation.\n",
      "Setting `pad_token_id` to `eos_token_id`:50256 for open-end generation.\n",
      "Setting `pad_token_id` to `eos_token_id`:50256 for open-end generation.\n",
      "Setting `pad_token_id` to `eos_token_id`:50256 for open-end generation.\n",
      "Setting `pad_token_id` to `eos_token_id`:50256 for open-end generation.\n",
      "Setting `pad_token_id` to `eos_token_id`:50256 for open-end generation.\n",
      "Setting `pad_token_id` to `eos_token_id`:50256 for open-end generation.\n",
      "Setting `pad_token_id` to `eos_token_id`:50256 for open-end generation.\n",
      "Setting `pad_token_id` to `eos_token_id`:50256 for open-end generation.\n",
      "Setting `pad_token_id` to `eos_token_id`:50256 for open-end generation.\n",
      "Setting `pad_token_id` to `eos_token_id`:50256 for open-end generation.\n",
      "Setting `pad_token_id` to `eos_token_id`:50256 for open-end generation.\n",
      "Setting `pad_token_id` to `eos_token_id`:50256 for open-end generation.\n",
      "Setting `pad_token_id` to `eos_token_id`:50256 for open-end generation.\n",
      "Setting `pad_token_id` to `eos_token_id`:50256 for open-end generation.\n",
      "Setting `pad_token_id` to `eos_token_id`:50256 for open-end generation.\n",
      "Setting `pad_token_id` to `eos_token_id`:50256 for open-end generation.\n",
      "Setting `pad_token_id` to `eos_token_id`:50256 for open-end generation.\n",
      "Setting `pad_token_id` to `eos_token_id`:50256 for open-end generation.\n"
     ]
    },
    {
     "name": "stderr",
     "output_type": "stream",
     "text": [
      "Setting `pad_token_id` to `eos_token_id`:50256 for open-end generation.\n",
      "Setting `pad_token_id` to `eos_token_id`:50256 for open-end generation.\n",
      "Setting `pad_token_id` to `eos_token_id`:50256 for open-end generation.\n",
      "Setting `pad_token_id` to `eos_token_id`:50256 for open-end generation.\n",
      "Setting `pad_token_id` to `eos_token_id`:50256 for open-end generation.\n",
      "Setting `pad_token_id` to `eos_token_id`:50256 for open-end generation.\n",
      "Setting `pad_token_id` to `eos_token_id`:50256 for open-end generation.\n",
      "Setting `pad_token_id` to `eos_token_id`:50256 for open-end generation.\n",
      "Setting `pad_token_id` to `eos_token_id`:50256 for open-end generation.\n",
      "Setting `pad_token_id` to `eos_token_id`:50256 for open-end generation.\n",
      "Setting `pad_token_id` to `eos_token_id`:50256 for open-end generation.\n",
      "Setting `pad_token_id` to `eos_token_id`:50256 for open-end generation.\n",
      "Setting `pad_token_id` to `eos_token_id`:50256 for open-end generation.\n",
      "Setting `pad_token_id` to `eos_token_id`:50256 for open-end generation.\n",
      "Setting `pad_token_id` to `eos_token_id`:50256 for open-end generation.\n",
      "Setting `pad_token_id` to `eos_token_id`:50256 for open-end generation.\n",
      "Setting `pad_token_id` to `eos_token_id`:50256 for open-end generation.\n",
      "Setting `pad_token_id` to `eos_token_id`:50256 for open-end generation.\n",
      "Setting `pad_token_id` to `eos_token_id`:50256 for open-end generation.\n",
      "Setting `pad_token_id` to `eos_token_id`:50256 for open-end generation.\n",
      "Setting `pad_token_id` to `eos_token_id`:50256 for open-end generation.\n",
      "Setting `pad_token_id` to `eos_token_id`:50256 for open-end generation.\n",
      "Setting `pad_token_id` to `eos_token_id`:50256 for open-end generation.\n",
      "Setting `pad_token_id` to `eos_token_id`:50256 for open-end generation.\n",
      "Setting `pad_token_id` to `eos_token_id`:50256 for open-end generation.\n",
      "Setting `pad_token_id` to `eos_token_id`:50256 for open-end generation.\n",
      "Setting `pad_token_id` to `eos_token_id`:50256 for open-end generation.\n",
      "Setting `pad_token_id` to `eos_token_id`:50256 for open-end generation.\n",
      "Setting `pad_token_id` to `eos_token_id`:50256 for open-end generation.\n",
      "Setting `pad_token_id` to `eos_token_id`:50256 for open-end generation.\n",
      "Setting `pad_token_id` to `eos_token_id`:50256 for open-end generation.\n",
      "Setting `pad_token_id` to `eos_token_id`:50256 for open-end generation.\n",
      "Setting `pad_token_id` to `eos_token_id`:50256 for open-end generation.\n",
      "Setting `pad_token_id` to `eos_token_id`:50256 for open-end generation.\n",
      "Setting `pad_token_id` to `eos_token_id`:50256 for open-end generation.\n",
      "Setting `pad_token_id` to `eos_token_id`:50256 for open-end generation.\n",
      "Setting `pad_token_id` to `eos_token_id`:50256 for open-end generation.\n",
      "Setting `pad_token_id` to `eos_token_id`:50256 for open-end generation.\n",
      "Setting `pad_token_id` to `eos_token_id`:50256 for open-end generation.\n",
      "Setting `pad_token_id` to `eos_token_id`:50256 for open-end generation.\n",
      "Setting `pad_token_id` to `eos_token_id`:50256 for open-end generation.\n",
      "Setting `pad_token_id` to `eos_token_id`:50256 for open-end generation.\n",
      "Setting `pad_token_id` to `eos_token_id`:50256 for open-end generation.\n",
      "Setting `pad_token_id` to `eos_token_id`:50256 for open-end generation.\n",
      "Setting `pad_token_id` to `eos_token_id`:50256 for open-end generation.\n",
      "Setting `pad_token_id` to `eos_token_id`:50256 for open-end generation.\n",
      "Setting `pad_token_id` to `eos_token_id`:50256 for open-end generation.\n",
      "Setting `pad_token_id` to `eos_token_id`:50256 for open-end generation.\n",
      "Setting `pad_token_id` to `eos_token_id`:50256 for open-end generation.\n",
      "Setting `pad_token_id` to `eos_token_id`:50256 for open-end generation.\n",
      "Setting `pad_token_id` to `eos_token_id`:50256 for open-end generation.\n",
      "Setting `pad_token_id` to `eos_token_id`:50256 for open-end generation.\n",
      "Setting `pad_token_id` to `eos_token_id`:50256 for open-end generation.\n",
      "Setting `pad_token_id` to `eos_token_id`:50256 for open-end generation.\n",
      "Setting `pad_token_id` to `eos_token_id`:50256 for open-end generation.\n",
      "Setting `pad_token_id` to `eos_token_id`:50256 for open-end generation.\n",
      "Setting `pad_token_id` to `eos_token_id`:50256 for open-end generation.\n",
      "Setting `pad_token_id` to `eos_token_id`:50256 for open-end generation.\n",
      "Setting `pad_token_id` to `eos_token_id`:50256 for open-end generation.\n",
      "Setting `pad_token_id` to `eos_token_id`:50256 for open-end generation.\n",
      "Setting `pad_token_id` to `eos_token_id`:50256 for open-end generation.\n",
      "Setting `pad_token_id` to `eos_token_id`:50256 for open-end generation.\n",
      "Setting `pad_token_id` to `eos_token_id`:50256 for open-end generation.\n",
      "Setting `pad_token_id` to `eos_token_id`:50256 for open-end generation.\n",
      "Setting `pad_token_id` to `eos_token_id`:50256 for open-end generation.\n",
      "Setting `pad_token_id` to `eos_token_id`:50256 for open-end generation.\n",
      "Setting `pad_token_id` to `eos_token_id`:50256 for open-end generation.\n",
      "Setting `pad_token_id` to `eos_token_id`:50256 for open-end generation.\n",
      "Setting `pad_token_id` to `eos_token_id`:50256 for open-end generation.\n",
      "Setting `pad_token_id` to `eos_token_id`:50256 for open-end generation.\n",
      "Setting `pad_token_id` to `eos_token_id`:50256 for open-end generation.\n",
      "Setting `pad_token_id` to `eos_token_id`:50256 for open-end generation.\n",
      "Setting `pad_token_id` to `eos_token_id`:50256 for open-end generation.\n",
      "Setting `pad_token_id` to `eos_token_id`:50256 for open-end generation.\n",
      "Setting `pad_token_id` to `eos_token_id`:50256 for open-end generation.\n",
      "Setting `pad_token_id` to `eos_token_id`:50256 for open-end generation.\n",
      "Setting `pad_token_id` to `eos_token_id`:50256 for open-end generation.\n",
      "Setting `pad_token_id` to `eos_token_id`:50256 for open-end generation.\n",
      "Setting `pad_token_id` to `eos_token_id`:50256 for open-end generation.\n",
      "Setting `pad_token_id` to `eos_token_id`:50256 for open-end generation.\n",
      "Setting `pad_token_id` to `eos_token_id`:50256 for open-end generation.\n",
      "Setting `pad_token_id` to `eos_token_id`:50256 for open-end generation.\n",
      "Setting `pad_token_id` to `eos_token_id`:50256 for open-end generation.\n",
      "Setting `pad_token_id` to `eos_token_id`:50256 for open-end generation.\n",
      "Setting `pad_token_id` to `eos_token_id`:50256 for open-end generation.\n",
      "Setting `pad_token_id` to `eos_token_id`:50256 for open-end generation.\n",
      "Setting `pad_token_id` to `eos_token_id`:50256 for open-end generation.\n",
      "Setting `pad_token_id` to `eos_token_id`:50256 for open-end generation.\n",
      "Setting `pad_token_id` to `eos_token_id`:50256 for open-end generation.\n",
      "Setting `pad_token_id` to `eos_token_id`:50256 for open-end generation.\n",
      "Setting `pad_token_id` to `eos_token_id`:50256 for open-end generation.\n",
      "Setting `pad_token_id` to `eos_token_id`:50256 for open-end generation.\n",
      "Setting `pad_token_id` to `eos_token_id`:50256 for open-end generation.\n",
      "Setting `pad_token_id` to `eos_token_id`:50256 for open-end generation.\n",
      "Setting `pad_token_id` to `eos_token_id`:50256 for open-end generation.\n",
      "Setting `pad_token_id` to `eos_token_id`:50256 for open-end generation.\n",
      "Setting `pad_token_id` to `eos_token_id`:50256 for open-end generation.\n",
      "Setting `pad_token_id` to `eos_token_id`:50256 for open-end generation.\n",
      "Setting `pad_token_id` to `eos_token_id`:50256 for open-end generation.\n",
      "Setting `pad_token_id` to `eos_token_id`:50256 for open-end generation.\n",
      "Setting `pad_token_id` to `eos_token_id`:50256 for open-end generation.\n",
      "Setting `pad_token_id` to `eos_token_id`:50256 for open-end generation.\n",
      "Setting `pad_token_id` to `eos_token_id`:50256 for open-end generation.\n",
      "Setting `pad_token_id` to `eos_token_id`:50256 for open-end generation.\n",
      "Setting `pad_token_id` to `eos_token_id`:50256 for open-end generation.\n",
      "Setting `pad_token_id` to `eos_token_id`:50256 for open-end generation.\n",
      "Setting `pad_token_id` to `eos_token_id`:50256 for open-end generation.\n",
      "Setting `pad_token_id` to `eos_token_id`:50256 for open-end generation.\n",
      "Setting `pad_token_id` to `eos_token_id`:50256 for open-end generation.\n",
      "Setting `pad_token_id` to `eos_token_id`:50256 for open-end generation.\n",
      "Setting `pad_token_id` to `eos_token_id`:50256 for open-end generation.\n",
      "Setting `pad_token_id` to `eos_token_id`:50256 for open-end generation.\n",
      "Setting `pad_token_id` to `eos_token_id`:50256 for open-end generation.\n",
      "Setting `pad_token_id` to `eos_token_id`:50256 for open-end generation.\n"
     ]
    },
    {
     "name": "stderr",
     "output_type": "stream",
     "text": [
      "Setting `pad_token_id` to `eos_token_id`:50256 for open-end generation.\n",
      "Setting `pad_token_id` to `eos_token_id`:50256 for open-end generation.\n",
      "Setting `pad_token_id` to `eos_token_id`:50256 for open-end generation.\n",
      "Setting `pad_token_id` to `eos_token_id`:50256 for open-end generation.\n",
      "Setting `pad_token_id` to `eos_token_id`:50256 for open-end generation.\n",
      "Setting `pad_token_id` to `eos_token_id`:50256 for open-end generation.\n",
      "Setting `pad_token_id` to `eos_token_id`:50256 for open-end generation.\n",
      "Setting `pad_token_id` to `eos_token_id`:50256 for open-end generation.\n",
      "Setting `pad_token_id` to `eos_token_id`:50256 for open-end generation.\n",
      "Setting `pad_token_id` to `eos_token_id`:50256 for open-end generation.\n",
      "Setting `pad_token_id` to `eos_token_id`:50256 for open-end generation.\n",
      "Setting `pad_token_id` to `eos_token_id`:50256 for open-end generation.\n",
      "Setting `pad_token_id` to `eos_token_id`:50256 for open-end generation.\n",
      "Setting `pad_token_id` to `eos_token_id`:50256 for open-end generation.\n",
      "Setting `pad_token_id` to `eos_token_id`:50256 for open-end generation.\n",
      "Setting `pad_token_id` to `eos_token_id`:50256 for open-end generation.\n",
      "Setting `pad_token_id` to `eos_token_id`:50256 for open-end generation.\n",
      "Setting `pad_token_id` to `eos_token_id`:50256 for open-end generation.\n",
      "Setting `pad_token_id` to `eos_token_id`:50256 for open-end generation.\n",
      "Setting `pad_token_id` to `eos_token_id`:50256 for open-end generation.\n",
      "Setting `pad_token_id` to `eos_token_id`:50256 for open-end generation.\n",
      "Setting `pad_token_id` to `eos_token_id`:50256 for open-end generation.\n",
      "Setting `pad_token_id` to `eos_token_id`:50256 for open-end generation.\n",
      "Setting `pad_token_id` to `eos_token_id`:50256 for open-end generation.\n",
      "Setting `pad_token_id` to `eos_token_id`:50256 for open-end generation.\n",
      "Setting `pad_token_id` to `eos_token_id`:50256 for open-end generation.\n",
      "Setting `pad_token_id` to `eos_token_id`:50256 for open-end generation.\n",
      "Setting `pad_token_id` to `eos_token_id`:50256 for open-end generation.\n",
      "Setting `pad_token_id` to `eos_token_id`:50256 for open-end generation.\n",
      "Setting `pad_token_id` to `eos_token_id`:50256 for open-end generation.\n",
      "Setting `pad_token_id` to `eos_token_id`:50256 for open-end generation.\n",
      "Setting `pad_token_id` to `eos_token_id`:50256 for open-end generation.\n",
      "Setting `pad_token_id` to `eos_token_id`:50256 for open-end generation.\n",
      "Setting `pad_token_id` to `eos_token_id`:50256 for open-end generation.\n",
      "Setting `pad_token_id` to `eos_token_id`:50256 for open-end generation.\n",
      "Setting `pad_token_id` to `eos_token_id`:50256 for open-end generation.\n",
      "Setting `pad_token_id` to `eos_token_id`:50256 for open-end generation.\n",
      "Setting `pad_token_id` to `eos_token_id`:50256 for open-end generation.\n",
      "Setting `pad_token_id` to `eos_token_id`:50256 for open-end generation.\n",
      "Setting `pad_token_id` to `eos_token_id`:50256 for open-end generation.\n",
      "Setting `pad_token_id` to `eos_token_id`:50256 for open-end generation.\n",
      "Setting `pad_token_id` to `eos_token_id`:50256 for open-end generation.\n",
      "Setting `pad_token_id` to `eos_token_id`:50256 for open-end generation.\n",
      "Setting `pad_token_id` to `eos_token_id`:50256 for open-end generation.\n",
      "Setting `pad_token_id` to `eos_token_id`:50256 for open-end generation.\n",
      "Setting `pad_token_id` to `eos_token_id`:50256 for open-end generation.\n",
      "Setting `pad_token_id` to `eos_token_id`:50256 for open-end generation.\n",
      "Setting `pad_token_id` to `eos_token_id`:50256 for open-end generation.\n",
      "Setting `pad_token_id` to `eos_token_id`:50256 for open-end generation.\n",
      "Setting `pad_token_id` to `eos_token_id`:50256 for open-end generation.\n",
      "Setting `pad_token_id` to `eos_token_id`:50256 for open-end generation.\n",
      "Setting `pad_token_id` to `eos_token_id`:50256 for open-end generation.\n",
      "Setting `pad_token_id` to `eos_token_id`:50256 for open-end generation.\n",
      "Setting `pad_token_id` to `eos_token_id`:50256 for open-end generation.\n",
      "Setting `pad_token_id` to `eos_token_id`:50256 for open-end generation.\n",
      "Setting `pad_token_id` to `eos_token_id`:50256 for open-end generation.\n",
      "Setting `pad_token_id` to `eos_token_id`:50256 for open-end generation.\n",
      "Setting `pad_token_id` to `eos_token_id`:50256 for open-end generation.\n",
      "Setting `pad_token_id` to `eos_token_id`:50256 for open-end generation.\n",
      "Setting `pad_token_id` to `eos_token_id`:50256 for open-end generation.\n",
      "Setting `pad_token_id` to `eos_token_id`:50256 for open-end generation.\n",
      "Setting `pad_token_id` to `eos_token_id`:50256 for open-end generation.\n",
      "Setting `pad_token_id` to `eos_token_id`:50256 for open-end generation.\n",
      "Setting `pad_token_id` to `eos_token_id`:50256 for open-end generation.\n",
      "Setting `pad_token_id` to `eos_token_id`:50256 for open-end generation.\n",
      "Setting `pad_token_id` to `eos_token_id`:50256 for open-end generation.\n",
      "Setting `pad_token_id` to `eos_token_id`:50256 for open-end generation.\n",
      "Setting `pad_token_id` to `eos_token_id`:50256 for open-end generation.\n",
      "Setting `pad_token_id` to `eos_token_id`:50256 for open-end generation.\n",
      "Setting `pad_token_id` to `eos_token_id`:50256 for open-end generation.\n",
      "Setting `pad_token_id` to `eos_token_id`:50256 for open-end generation.\n",
      "Setting `pad_token_id` to `eos_token_id`:50256 for open-end generation.\n",
      "Setting `pad_token_id` to `eos_token_id`:50256 for open-end generation.\n",
      "Setting `pad_token_id` to `eos_token_id`:50256 for open-end generation.\n",
      "Setting `pad_token_id` to `eos_token_id`:50256 for open-end generation.\n",
      "Setting `pad_token_id` to `eos_token_id`:50256 for open-end generation.\n",
      "Setting `pad_token_id` to `eos_token_id`:50256 for open-end generation.\n",
      "Setting `pad_token_id` to `eos_token_id`:50256 for open-end generation.\n",
      "Setting `pad_token_id` to `eos_token_id`:50256 for open-end generation.\n",
      "Setting `pad_token_id` to `eos_token_id`:50256 for open-end generation.\n",
      "Setting `pad_token_id` to `eos_token_id`:50256 for open-end generation.\n",
      "Setting `pad_token_id` to `eos_token_id`:50256 for open-end generation.\n",
      "Setting `pad_token_id` to `eos_token_id`:50256 for open-end generation.\n",
      "Setting `pad_token_id` to `eos_token_id`:50256 for open-end generation.\n",
      "Setting `pad_token_id` to `eos_token_id`:50256 for open-end generation.\n",
      "Setting `pad_token_id` to `eos_token_id`:50256 for open-end generation.\n",
      "Setting `pad_token_id` to `eos_token_id`:50256 for open-end generation.\n",
      "Setting `pad_token_id` to `eos_token_id`:50256 for open-end generation.\n",
      "Setting `pad_token_id` to `eos_token_id`:50256 for open-end generation.\n",
      "Setting `pad_token_id` to `eos_token_id`:50256 for open-end generation.\n",
      "Setting `pad_token_id` to `eos_token_id`:50256 for open-end generation.\n",
      "Setting `pad_token_id` to `eos_token_id`:50256 for open-end generation.\n",
      "Setting `pad_token_id` to `eos_token_id`:50256 for open-end generation.\n",
      "Setting `pad_token_id` to `eos_token_id`:50256 for open-end generation.\n",
      "Setting `pad_token_id` to `eos_token_id`:50256 for open-end generation.\n",
      "Setting `pad_token_id` to `eos_token_id`:50256 for open-end generation.\n",
      "Setting `pad_token_id` to `eos_token_id`:50256 for open-end generation.\n",
      "Setting `pad_token_id` to `eos_token_id`:50256 for open-end generation.\n",
      "Setting `pad_token_id` to `eos_token_id`:50256 for open-end generation.\n",
      "Setting `pad_token_id` to `eos_token_id`:50256 for open-end generation.\n",
      "Setting `pad_token_id` to `eos_token_id`:50256 for open-end generation.\n",
      "Setting `pad_token_id` to `eos_token_id`:50256 for open-end generation.\n",
      "Setting `pad_token_id` to `eos_token_id`:50256 for open-end generation.\n",
      "Setting `pad_token_id` to `eos_token_id`:50256 for open-end generation.\n",
      "Setting `pad_token_id` to `eos_token_id`:50256 for open-end generation.\n",
      "Setting `pad_token_id` to `eos_token_id`:50256 for open-end generation.\n",
      "Setting `pad_token_id` to `eos_token_id`:50256 for open-end generation.\n",
      "Setting `pad_token_id` to `eos_token_id`:50256 for open-end generation.\n",
      "Setting `pad_token_id` to `eos_token_id`:50256 for open-end generation.\n",
      "Setting `pad_token_id` to `eos_token_id`:50256 for open-end generation.\n",
      "Setting `pad_token_id` to `eos_token_id`:50256 for open-end generation.\n",
      "Setting `pad_token_id` to `eos_token_id`:50256 for open-end generation.\n",
      "Setting `pad_token_id` to `eos_token_id`:50256 for open-end generation.\n",
      "Setting `pad_token_id` to `eos_token_id`:50256 for open-end generation.\n"
     ]
    },
    {
     "name": "stderr",
     "output_type": "stream",
     "text": [
      "Setting `pad_token_id` to `eos_token_id`:50256 for open-end generation.\n",
      "Setting `pad_token_id` to `eos_token_id`:50256 for open-end generation.\n",
      "Setting `pad_token_id` to `eos_token_id`:50256 for open-end generation.\n",
      "Setting `pad_token_id` to `eos_token_id`:50256 for open-end generation.\n",
      "Setting `pad_token_id` to `eos_token_id`:50256 for open-end generation.\n",
      "Setting `pad_token_id` to `eos_token_id`:50256 for open-end generation.\n",
      "Setting `pad_token_id` to `eos_token_id`:50256 for open-end generation.\n",
      "Setting `pad_token_id` to `eos_token_id`:50256 for open-end generation.\n",
      "Setting `pad_token_id` to `eos_token_id`:50256 for open-end generation.\n",
      "Setting `pad_token_id` to `eos_token_id`:50256 for open-end generation.\n",
      "Setting `pad_token_id` to `eos_token_id`:50256 for open-end generation.\n",
      "Setting `pad_token_id` to `eos_token_id`:50256 for open-end generation.\n",
      "Setting `pad_token_id` to `eos_token_id`:50256 for open-end generation.\n",
      "Setting `pad_token_id` to `eos_token_id`:50256 for open-end generation.\n",
      "Setting `pad_token_id` to `eos_token_id`:50256 for open-end generation.\n",
      "Setting `pad_token_id` to `eos_token_id`:50256 for open-end generation.\n",
      "Setting `pad_token_id` to `eos_token_id`:50256 for open-end generation.\n",
      "Setting `pad_token_id` to `eos_token_id`:50256 for open-end generation.\n",
      "Setting `pad_token_id` to `eos_token_id`:50256 for open-end generation.\n",
      "Setting `pad_token_id` to `eos_token_id`:50256 for open-end generation.\n",
      "Setting `pad_token_id` to `eos_token_id`:50256 for open-end generation.\n",
      "Setting `pad_token_id` to `eos_token_id`:50256 for open-end generation.\n",
      "Setting `pad_token_id` to `eos_token_id`:50256 for open-end generation.\n",
      "Setting `pad_token_id` to `eos_token_id`:50256 for open-end generation.\n",
      "Setting `pad_token_id` to `eos_token_id`:50256 for open-end generation.\n",
      "Setting `pad_token_id` to `eos_token_id`:50256 for open-end generation.\n",
      "Setting `pad_token_id` to `eos_token_id`:50256 for open-end generation.\n",
      "Setting `pad_token_id` to `eos_token_id`:50256 for open-end generation.\n",
      "Setting `pad_token_id` to `eos_token_id`:50256 for open-end generation.\n",
      "Setting `pad_token_id` to `eos_token_id`:50256 for open-end generation.\n",
      "Setting `pad_token_id` to `eos_token_id`:50256 for open-end generation.\n",
      "Setting `pad_token_id` to `eos_token_id`:50256 for open-end generation.\n",
      "Setting `pad_token_id` to `eos_token_id`:50256 for open-end generation.\n",
      "Setting `pad_token_id` to `eos_token_id`:50256 for open-end generation.\n",
      "Setting `pad_token_id` to `eos_token_id`:50256 for open-end generation.\n",
      "Setting `pad_token_id` to `eos_token_id`:50256 for open-end generation.\n",
      "Setting `pad_token_id` to `eos_token_id`:50256 for open-end generation.\n",
      "Setting `pad_token_id` to `eos_token_id`:50256 for open-end generation.\n",
      "Setting `pad_token_id` to `eos_token_id`:50256 for open-end generation.\n",
      "Setting `pad_token_id` to `eos_token_id`:50256 for open-end generation.\n",
      "Setting `pad_token_id` to `eos_token_id`:50256 for open-end generation.\n",
      "Setting `pad_token_id` to `eos_token_id`:50256 for open-end generation.\n",
      "Setting `pad_token_id` to `eos_token_id`:50256 for open-end generation.\n",
      "Setting `pad_token_id` to `eos_token_id`:50256 for open-end generation.\n",
      "Setting `pad_token_id` to `eos_token_id`:50256 for open-end generation.\n",
      "Setting `pad_token_id` to `eos_token_id`:50256 for open-end generation.\n",
      "Setting `pad_token_id` to `eos_token_id`:50256 for open-end generation.\n",
      "Setting `pad_token_id` to `eos_token_id`:50256 for open-end generation.\n",
      "Setting `pad_token_id` to `eos_token_id`:50256 for open-end generation.\n",
      "Setting `pad_token_id` to `eos_token_id`:50256 for open-end generation.\n",
      "Setting `pad_token_id` to `eos_token_id`:50256 for open-end generation.\n",
      "Setting `pad_token_id` to `eos_token_id`:50256 for open-end generation.\n",
      "Setting `pad_token_id` to `eos_token_id`:50256 for open-end generation.\n",
      "Setting `pad_token_id` to `eos_token_id`:50256 for open-end generation.\n",
      "Setting `pad_token_id` to `eos_token_id`:50256 for open-end generation.\n",
      "Setting `pad_token_id` to `eos_token_id`:50256 for open-end generation.\n",
      "Setting `pad_token_id` to `eos_token_id`:50256 for open-end generation.\n",
      "Setting `pad_token_id` to `eos_token_id`:50256 for open-end generation.\n",
      "Setting `pad_token_id` to `eos_token_id`:50256 for open-end generation.\n",
      "Setting `pad_token_id` to `eos_token_id`:50256 for open-end generation.\n",
      "Setting `pad_token_id` to `eos_token_id`:50256 for open-end generation.\n",
      "Setting `pad_token_id` to `eos_token_id`:50256 for open-end generation.\n",
      "Setting `pad_token_id` to `eos_token_id`:50256 for open-end generation.\n",
      "Setting `pad_token_id` to `eos_token_id`:50256 for open-end generation.\n",
      "Setting `pad_token_id` to `eos_token_id`:50256 for open-end generation.\n",
      "Setting `pad_token_id` to `eos_token_id`:50256 for open-end generation.\n",
      "Setting `pad_token_id` to `eos_token_id`:50256 for open-end generation.\n",
      "Setting `pad_token_id` to `eos_token_id`:50256 for open-end generation.\n",
      "Setting `pad_token_id` to `eos_token_id`:50256 for open-end generation.\n",
      "Setting `pad_token_id` to `eos_token_id`:50256 for open-end generation.\n",
      "Setting `pad_token_id` to `eos_token_id`:50256 for open-end generation.\n",
      "Setting `pad_token_id` to `eos_token_id`:50256 for open-end generation.\n",
      "Setting `pad_token_id` to `eos_token_id`:50256 for open-end generation.\n",
      "Setting `pad_token_id` to `eos_token_id`:50256 for open-end generation.\n",
      "Setting `pad_token_id` to `eos_token_id`:50256 for open-end generation.\n",
      "Setting `pad_token_id` to `eos_token_id`:50256 for open-end generation.\n",
      "Setting `pad_token_id` to `eos_token_id`:50256 for open-end generation.\n",
      "Setting `pad_token_id` to `eos_token_id`:50256 for open-end generation.\n",
      "Setting `pad_token_id` to `eos_token_id`:50256 for open-end generation.\n",
      "Setting `pad_token_id` to `eos_token_id`:50256 for open-end generation.\n",
      "Setting `pad_token_id` to `eos_token_id`:50256 for open-end generation.\n",
      "Setting `pad_token_id` to `eos_token_id`:50256 for open-end generation.\n",
      "Setting `pad_token_id` to `eos_token_id`:50256 for open-end generation.\n",
      "Setting `pad_token_id` to `eos_token_id`:50256 for open-end generation.\n",
      "Setting `pad_token_id` to `eos_token_id`:50256 for open-end generation.\n",
      "Setting `pad_token_id` to `eos_token_id`:50256 for open-end generation.\n",
      "Setting `pad_token_id` to `eos_token_id`:50256 for open-end generation.\n",
      "Setting `pad_token_id` to `eos_token_id`:50256 for open-end generation.\n",
      "Setting `pad_token_id` to `eos_token_id`:50256 for open-end generation.\n",
      "Setting `pad_token_id` to `eos_token_id`:50256 for open-end generation.\n",
      "Setting `pad_token_id` to `eos_token_id`:50256 for open-end generation.\n",
      "Setting `pad_token_id` to `eos_token_id`:50256 for open-end generation.\n",
      "Setting `pad_token_id` to `eos_token_id`:50256 for open-end generation.\n",
      "Setting `pad_token_id` to `eos_token_id`:50256 for open-end generation.\n",
      "Setting `pad_token_id` to `eos_token_id`:50256 for open-end generation.\n",
      "Setting `pad_token_id` to `eos_token_id`:50256 for open-end generation.\n",
      "Setting `pad_token_id` to `eos_token_id`:50256 for open-end generation.\n",
      "Setting `pad_token_id` to `eos_token_id`:50256 for open-end generation.\n",
      "Setting `pad_token_id` to `eos_token_id`:50256 for open-end generation.\n",
      "Setting `pad_token_id` to `eos_token_id`:50256 for open-end generation.\n",
      "Setting `pad_token_id` to `eos_token_id`:50256 for open-end generation.\n",
      "Setting `pad_token_id` to `eos_token_id`:50256 for open-end generation.\n",
      "Setting `pad_token_id` to `eos_token_id`:50256 for open-end generation.\n",
      "Setting `pad_token_id` to `eos_token_id`:50256 for open-end generation.\n",
      "Setting `pad_token_id` to `eos_token_id`:50256 for open-end generation.\n",
      "Setting `pad_token_id` to `eos_token_id`:50256 for open-end generation.\n",
      "Setting `pad_token_id` to `eos_token_id`:50256 for open-end generation.\n",
      "Setting `pad_token_id` to `eos_token_id`:50256 for open-end generation.\n",
      "Setting `pad_token_id` to `eos_token_id`:50256 for open-end generation.\n",
      "Setting `pad_token_id` to `eos_token_id`:50256 for open-end generation.\n",
      "Setting `pad_token_id` to `eos_token_id`:50256 for open-end generation.\n",
      "Setting `pad_token_id` to `eos_token_id`:50256 for open-end generation.\n",
      "Setting `pad_token_id` to `eos_token_id`:50256 for open-end generation.\n",
      "Setting `pad_token_id` to `eos_token_id`:50256 for open-end generation.\n"
     ]
    },
    {
     "name": "stderr",
     "output_type": "stream",
     "text": [
      "Setting `pad_token_id` to `eos_token_id`:50256 for open-end generation.\n",
      "Setting `pad_token_id` to `eos_token_id`:50256 for open-end generation.\n",
      "Setting `pad_token_id` to `eos_token_id`:50256 for open-end generation.\n",
      "Setting `pad_token_id` to `eos_token_id`:50256 for open-end generation.\n",
      "Setting `pad_token_id` to `eos_token_id`:50256 for open-end generation.\n",
      "Setting `pad_token_id` to `eos_token_id`:50256 for open-end generation.\n",
      "Setting `pad_token_id` to `eos_token_id`:50256 for open-end generation.\n",
      "Setting `pad_token_id` to `eos_token_id`:50256 for open-end generation.\n",
      "Setting `pad_token_id` to `eos_token_id`:50256 for open-end generation.\n",
      "Setting `pad_token_id` to `eos_token_id`:50256 for open-end generation.\n",
      "Setting `pad_token_id` to `eos_token_id`:50256 for open-end generation.\n",
      "Setting `pad_token_id` to `eos_token_id`:50256 for open-end generation.\n",
      "Setting `pad_token_id` to `eos_token_id`:50256 for open-end generation.\n",
      "Setting `pad_token_id` to `eos_token_id`:50256 for open-end generation.\n",
      "Setting `pad_token_id` to `eos_token_id`:50256 for open-end generation.\n",
      "Setting `pad_token_id` to `eos_token_id`:50256 for open-end generation.\n",
      "Setting `pad_token_id` to `eos_token_id`:50256 for open-end generation.\n",
      "Setting `pad_token_id` to `eos_token_id`:50256 for open-end generation.\n",
      "Setting `pad_token_id` to `eos_token_id`:50256 for open-end generation.\n",
      "Setting `pad_token_id` to `eos_token_id`:50256 for open-end generation.\n",
      "Setting `pad_token_id` to `eos_token_id`:50256 for open-end generation.\n",
      "Setting `pad_token_id` to `eos_token_id`:50256 for open-end generation.\n",
      "Setting `pad_token_id` to `eos_token_id`:50256 for open-end generation.\n",
      "Setting `pad_token_id` to `eos_token_id`:50256 for open-end generation.\n",
      "Setting `pad_token_id` to `eos_token_id`:50256 for open-end generation.\n",
      "Setting `pad_token_id` to `eos_token_id`:50256 for open-end generation.\n",
      "Setting `pad_token_id` to `eos_token_id`:50256 for open-end generation.\n",
      "Setting `pad_token_id` to `eos_token_id`:50256 for open-end generation.\n",
      "Setting `pad_token_id` to `eos_token_id`:50256 for open-end generation.\n",
      "Setting `pad_token_id` to `eos_token_id`:50256 for open-end generation.\n",
      "Setting `pad_token_id` to `eos_token_id`:50256 for open-end generation.\n",
      "Setting `pad_token_id` to `eos_token_id`:50256 for open-end generation.\n",
      "Setting `pad_token_id` to `eos_token_id`:50256 for open-end generation.\n",
      "Setting `pad_token_id` to `eos_token_id`:50256 for open-end generation.\n",
      "Setting `pad_token_id` to `eos_token_id`:50256 for open-end generation.\n",
      "Setting `pad_token_id` to `eos_token_id`:50256 for open-end generation.\n",
      "Setting `pad_token_id` to `eos_token_id`:50256 for open-end generation.\n",
      "Setting `pad_token_id` to `eos_token_id`:50256 for open-end generation.\n",
      "Setting `pad_token_id` to `eos_token_id`:50256 for open-end generation.\n",
      "Setting `pad_token_id` to `eos_token_id`:50256 for open-end generation.\n",
      "Setting `pad_token_id` to `eos_token_id`:50256 for open-end generation.\n",
      "Setting `pad_token_id` to `eos_token_id`:50256 for open-end generation.\n",
      "Setting `pad_token_id` to `eos_token_id`:50256 for open-end generation.\n",
      "Setting `pad_token_id` to `eos_token_id`:50256 for open-end generation.\n",
      "Setting `pad_token_id` to `eos_token_id`:50256 for open-end generation.\n",
      "Setting `pad_token_id` to `eos_token_id`:50256 for open-end generation.\n",
      "Setting `pad_token_id` to `eos_token_id`:50256 for open-end generation.\n",
      "Setting `pad_token_id` to `eos_token_id`:50256 for open-end generation.\n",
      "Setting `pad_token_id` to `eos_token_id`:50256 for open-end generation.\n",
      "Setting `pad_token_id` to `eos_token_id`:50256 for open-end generation.\n",
      "Setting `pad_token_id` to `eos_token_id`:50256 for open-end generation.\n",
      "Setting `pad_token_id` to `eos_token_id`:50256 for open-end generation.\n",
      "Setting `pad_token_id` to `eos_token_id`:50256 for open-end generation.\n",
      "Setting `pad_token_id` to `eos_token_id`:50256 for open-end generation.\n",
      "Setting `pad_token_id` to `eos_token_id`:50256 for open-end generation.\n",
      "Setting `pad_token_id` to `eos_token_id`:50256 for open-end generation.\n",
      "Setting `pad_token_id` to `eos_token_id`:50256 for open-end generation.\n",
      "Setting `pad_token_id` to `eos_token_id`:50256 for open-end generation.\n",
      "Setting `pad_token_id` to `eos_token_id`:50256 for open-end generation.\n",
      "Setting `pad_token_id` to `eos_token_id`:50256 for open-end generation.\n",
      "Setting `pad_token_id` to `eos_token_id`:50256 for open-end generation.\n",
      "Setting `pad_token_id` to `eos_token_id`:50256 for open-end generation.\n",
      "Setting `pad_token_id` to `eos_token_id`:50256 for open-end generation.\n",
      "Setting `pad_token_id` to `eos_token_id`:50256 for open-end generation.\n",
      "Setting `pad_token_id` to `eos_token_id`:50256 for open-end generation.\n",
      "Setting `pad_token_id` to `eos_token_id`:50256 for open-end generation.\n",
      "Setting `pad_token_id` to `eos_token_id`:50256 for open-end generation.\n",
      "Setting `pad_token_id` to `eos_token_id`:50256 for open-end generation.\n",
      "Setting `pad_token_id` to `eos_token_id`:50256 for open-end generation.\n",
      "Setting `pad_token_id` to `eos_token_id`:50256 for open-end generation.\n",
      "Setting `pad_token_id` to `eos_token_id`:50256 for open-end generation.\n",
      "Setting `pad_token_id` to `eos_token_id`:50256 for open-end generation.\n",
      "Setting `pad_token_id` to `eos_token_id`:50256 for open-end generation.\n",
      "Setting `pad_token_id` to `eos_token_id`:50256 for open-end generation.\n",
      "Setting `pad_token_id` to `eos_token_id`:50256 for open-end generation.\n",
      "Setting `pad_token_id` to `eos_token_id`:50256 for open-end generation.\n",
      "Setting `pad_token_id` to `eos_token_id`:50256 for open-end generation.\n",
      "Setting `pad_token_id` to `eos_token_id`:50256 for open-end generation.\n",
      "Setting `pad_token_id` to `eos_token_id`:50256 for open-end generation.\n",
      "Setting `pad_token_id` to `eos_token_id`:50256 for open-end generation.\n",
      "Setting `pad_token_id` to `eos_token_id`:50256 for open-end generation.\n",
      "Setting `pad_token_id` to `eos_token_id`:50256 for open-end generation.\n",
      "Setting `pad_token_id` to `eos_token_id`:50256 for open-end generation.\n",
      "Setting `pad_token_id` to `eos_token_id`:50256 for open-end generation.\n",
      "Setting `pad_token_id` to `eos_token_id`:50256 for open-end generation.\n",
      "Setting `pad_token_id` to `eos_token_id`:50256 for open-end generation.\n",
      "Setting `pad_token_id` to `eos_token_id`:50256 for open-end generation.\n",
      "Setting `pad_token_id` to `eos_token_id`:50256 for open-end generation.\n",
      "Setting `pad_token_id` to `eos_token_id`:50256 for open-end generation.\n",
      "Setting `pad_token_id` to `eos_token_id`:50256 for open-end generation.\n",
      "Setting `pad_token_id` to `eos_token_id`:50256 for open-end generation.\n",
      "Setting `pad_token_id` to `eos_token_id`:50256 for open-end generation.\n",
      "Setting `pad_token_id` to `eos_token_id`:50256 for open-end generation.\n",
      "Setting `pad_token_id` to `eos_token_id`:50256 for open-end generation.\n",
      "Setting `pad_token_id` to `eos_token_id`:50256 for open-end generation.\n",
      "Setting `pad_token_id` to `eos_token_id`:50256 for open-end generation.\n",
      "Setting `pad_token_id` to `eos_token_id`:50256 for open-end generation.\n",
      "Setting `pad_token_id` to `eos_token_id`:50256 for open-end generation.\n",
      "Setting `pad_token_id` to `eos_token_id`:50256 for open-end generation.\n",
      "Setting `pad_token_id` to `eos_token_id`:50256 for open-end generation.\n",
      "Setting `pad_token_id` to `eos_token_id`:50256 for open-end generation.\n",
      "Setting `pad_token_id` to `eos_token_id`:50256 for open-end generation.\n",
      "Setting `pad_token_id` to `eos_token_id`:50256 for open-end generation.\n",
      "Setting `pad_token_id` to `eos_token_id`:50256 for open-end generation.\n",
      "Setting `pad_token_id` to `eos_token_id`:50256 for open-end generation.\n",
      "Setting `pad_token_id` to `eos_token_id`:50256 for open-end generation.\n",
      "Setting `pad_token_id` to `eos_token_id`:50256 for open-end generation.\n",
      "Setting `pad_token_id` to `eos_token_id`:50256 for open-end generation.\n",
      "Setting `pad_token_id` to `eos_token_id`:50256 for open-end generation.\n",
      "Setting `pad_token_id` to `eos_token_id`:50256 for open-end generation.\n",
      "Setting `pad_token_id` to `eos_token_id`:50256 for open-end generation.\n",
      "Setting `pad_token_id` to `eos_token_id`:50256 for open-end generation.\n",
      "Setting `pad_token_id` to `eos_token_id`:50256 for open-end generation.\n",
      "Setting `pad_token_id` to `eos_token_id`:50256 for open-end generation.\n"
     ]
    },
    {
     "name": "stderr",
     "output_type": "stream",
     "text": [
      "Setting `pad_token_id` to `eos_token_id`:50256 for open-end generation.\n",
      "Setting `pad_token_id` to `eos_token_id`:50256 for open-end generation.\n",
      "Setting `pad_token_id` to `eos_token_id`:50256 for open-end generation.\n",
      "Setting `pad_token_id` to `eos_token_id`:50256 for open-end generation.\n",
      "Setting `pad_token_id` to `eos_token_id`:50256 for open-end generation.\n",
      "Setting `pad_token_id` to `eos_token_id`:50256 for open-end generation.\n",
      "Setting `pad_token_id` to `eos_token_id`:50256 for open-end generation.\n",
      "Setting `pad_token_id` to `eos_token_id`:50256 for open-end generation.\n",
      "Setting `pad_token_id` to `eos_token_id`:50256 for open-end generation.\n",
      "Setting `pad_token_id` to `eos_token_id`:50256 for open-end generation.\n",
      "Setting `pad_token_id` to `eos_token_id`:50256 for open-end generation.\n",
      "Setting `pad_token_id` to `eos_token_id`:50256 for open-end generation.\n",
      "Setting `pad_token_id` to `eos_token_id`:50256 for open-end generation.\n",
      "Setting `pad_token_id` to `eos_token_id`:50256 for open-end generation.\n",
      "Setting `pad_token_id` to `eos_token_id`:50256 for open-end generation.\n",
      "Setting `pad_token_id` to `eos_token_id`:50256 for open-end generation.\n",
      "Setting `pad_token_id` to `eos_token_id`:50256 for open-end generation.\n",
      "Setting `pad_token_id` to `eos_token_id`:50256 for open-end generation.\n",
      "Setting `pad_token_id` to `eos_token_id`:50256 for open-end generation.\n",
      "Setting `pad_token_id` to `eos_token_id`:50256 for open-end generation.\n",
      "Setting `pad_token_id` to `eos_token_id`:50256 for open-end generation.\n",
      "Setting `pad_token_id` to `eos_token_id`:50256 for open-end generation.\n",
      "Setting `pad_token_id` to `eos_token_id`:50256 for open-end generation.\n",
      "Setting `pad_token_id` to `eos_token_id`:50256 for open-end generation.\n",
      "Setting `pad_token_id` to `eos_token_id`:50256 for open-end generation.\n",
      "Setting `pad_token_id` to `eos_token_id`:50256 for open-end generation.\n",
      "Setting `pad_token_id` to `eos_token_id`:50256 for open-end generation.\n",
      "Setting `pad_token_id` to `eos_token_id`:50256 for open-end generation.\n",
      "Setting `pad_token_id` to `eos_token_id`:50256 for open-end generation.\n",
      "Setting `pad_token_id` to `eos_token_id`:50256 for open-end generation.\n",
      "Setting `pad_token_id` to `eos_token_id`:50256 for open-end generation.\n",
      "Setting `pad_token_id` to `eos_token_id`:50256 for open-end generation.\n",
      "Setting `pad_token_id` to `eos_token_id`:50256 for open-end generation.\n",
      "Setting `pad_token_id` to `eos_token_id`:50256 for open-end generation.\n",
      "Setting `pad_token_id` to `eos_token_id`:50256 for open-end generation.\n",
      "Setting `pad_token_id` to `eos_token_id`:50256 for open-end generation.\n",
      "Setting `pad_token_id` to `eos_token_id`:50256 for open-end generation.\n",
      "Setting `pad_token_id` to `eos_token_id`:50256 for open-end generation.\n",
      "Setting `pad_token_id` to `eos_token_id`:50256 for open-end generation.\n",
      "Setting `pad_token_id` to `eos_token_id`:50256 for open-end generation.\n",
      "Setting `pad_token_id` to `eos_token_id`:50256 for open-end generation.\n",
      "Setting `pad_token_id` to `eos_token_id`:50256 for open-end generation.\n",
      "Setting `pad_token_id` to `eos_token_id`:50256 for open-end generation.\n",
      "Setting `pad_token_id` to `eos_token_id`:50256 for open-end generation.\n",
      "Setting `pad_token_id` to `eos_token_id`:50256 for open-end generation.\n",
      "Setting `pad_token_id` to `eos_token_id`:50256 for open-end generation.\n",
      "Setting `pad_token_id` to `eos_token_id`:50256 for open-end generation.\n",
      "Setting `pad_token_id` to `eos_token_id`:50256 for open-end generation.\n",
      "Setting `pad_token_id` to `eos_token_id`:50256 for open-end generation.\n",
      "Setting `pad_token_id` to `eos_token_id`:50256 for open-end generation.\n",
      "Setting `pad_token_id` to `eos_token_id`:50256 for open-end generation.\n",
      "Setting `pad_token_id` to `eos_token_id`:50256 for open-end generation.\n",
      "Setting `pad_token_id` to `eos_token_id`:50256 for open-end generation.\n",
      "Setting `pad_token_id` to `eos_token_id`:50256 for open-end generation.\n",
      "Setting `pad_token_id` to `eos_token_id`:50256 for open-end generation.\n",
      "Setting `pad_token_id` to `eos_token_id`:50256 for open-end generation.\n",
      "Setting `pad_token_id` to `eos_token_id`:50256 for open-end generation.\n",
      "Setting `pad_token_id` to `eos_token_id`:50256 for open-end generation.\n",
      "Setting `pad_token_id` to `eos_token_id`:50256 for open-end generation.\n",
      "Setting `pad_token_id` to `eos_token_id`:50256 for open-end generation.\n",
      "Setting `pad_token_id` to `eos_token_id`:50256 for open-end generation.\n",
      "Setting `pad_token_id` to `eos_token_id`:50256 for open-end generation.\n",
      "Setting `pad_token_id` to `eos_token_id`:50256 for open-end generation.\n",
      "Setting `pad_token_id` to `eos_token_id`:50256 for open-end generation.\n",
      "Setting `pad_token_id` to `eos_token_id`:50256 for open-end generation.\n",
      "Setting `pad_token_id` to `eos_token_id`:50256 for open-end generation.\n",
      "Setting `pad_token_id` to `eos_token_id`:50256 for open-end generation.\n",
      "Setting `pad_token_id` to `eos_token_id`:50256 for open-end generation.\n",
      "Setting `pad_token_id` to `eos_token_id`:50256 for open-end generation.\n",
      "Setting `pad_token_id` to `eos_token_id`:50256 for open-end generation.\n",
      "Setting `pad_token_id` to `eos_token_id`:50256 for open-end generation.\n",
      "Setting `pad_token_id` to `eos_token_id`:50256 for open-end generation.\n",
      "Setting `pad_token_id` to `eos_token_id`:50256 for open-end generation.\n",
      "Setting `pad_token_id` to `eos_token_id`:50256 for open-end generation.\n",
      "Setting `pad_token_id` to `eos_token_id`:50256 for open-end generation.\n",
      "Setting `pad_token_id` to `eos_token_id`:50256 for open-end generation.\n",
      "Setting `pad_token_id` to `eos_token_id`:50256 for open-end generation.\n",
      "Setting `pad_token_id` to `eos_token_id`:50256 for open-end generation.\n",
      "Setting `pad_token_id` to `eos_token_id`:50256 for open-end generation.\n",
      "Setting `pad_token_id` to `eos_token_id`:50256 for open-end generation.\n",
      "Setting `pad_token_id` to `eos_token_id`:50256 for open-end generation.\n",
      "Setting `pad_token_id` to `eos_token_id`:50256 for open-end generation.\n",
      "Setting `pad_token_id` to `eos_token_id`:50256 for open-end generation.\n",
      "Setting `pad_token_id` to `eos_token_id`:50256 for open-end generation.\n",
      "Setting `pad_token_id` to `eos_token_id`:50256 for open-end generation.\n",
      "Setting `pad_token_id` to `eos_token_id`:50256 for open-end generation.\n",
      "Setting `pad_token_id` to `eos_token_id`:50256 for open-end generation.\n",
      "Setting `pad_token_id` to `eos_token_id`:50256 for open-end generation.\n",
      "Setting `pad_token_id` to `eos_token_id`:50256 for open-end generation.\n",
      "Setting `pad_token_id` to `eos_token_id`:50256 for open-end generation.\n",
      "Setting `pad_token_id` to `eos_token_id`:50256 for open-end generation.\n",
      "Setting `pad_token_id` to `eos_token_id`:50256 for open-end generation.\n",
      "Setting `pad_token_id` to `eos_token_id`:50256 for open-end generation.\n",
      "Setting `pad_token_id` to `eos_token_id`:50256 for open-end generation.\n",
      "Setting `pad_token_id` to `eos_token_id`:50256 for open-end generation.\n",
      "Setting `pad_token_id` to `eos_token_id`:50256 for open-end generation.\n",
      "Setting `pad_token_id` to `eos_token_id`:50256 for open-end generation.\n",
      "Setting `pad_token_id` to `eos_token_id`:50256 for open-end generation.\n",
      "Setting `pad_token_id` to `eos_token_id`:50256 for open-end generation.\n",
      "Setting `pad_token_id` to `eos_token_id`:50256 for open-end generation.\n",
      "Setting `pad_token_id` to `eos_token_id`:50256 for open-end generation.\n",
      "Setting `pad_token_id` to `eos_token_id`:50256 for open-end generation.\n",
      "Setting `pad_token_id` to `eos_token_id`:50256 for open-end generation.\n",
      "Setting `pad_token_id` to `eos_token_id`:50256 for open-end generation.\n",
      "Setting `pad_token_id` to `eos_token_id`:50256 for open-end generation.\n",
      "Setting `pad_token_id` to `eos_token_id`:50256 for open-end generation.\n",
      "Setting `pad_token_id` to `eos_token_id`:50256 for open-end generation.\n",
      "Setting `pad_token_id` to `eos_token_id`:50256 for open-end generation.\n",
      "Setting `pad_token_id` to `eos_token_id`:50256 for open-end generation.\n",
      "Setting `pad_token_id` to `eos_token_id`:50256 for open-end generation.\n",
      "Setting `pad_token_id` to `eos_token_id`:50256 for open-end generation.\n",
      "Setting `pad_token_id` to `eos_token_id`:50256 for open-end generation.\n",
      "Setting `pad_token_id` to `eos_token_id`:50256 for open-end generation.\n",
      "Setting `pad_token_id` to `eos_token_id`:50256 for open-end generation.\n"
     ]
    },
    {
     "name": "stderr",
     "output_type": "stream",
     "text": [
      "Setting `pad_token_id` to `eos_token_id`:50256 for open-end generation.\n",
      "Setting `pad_token_id` to `eos_token_id`:50256 for open-end generation.\n",
      "Setting `pad_token_id` to `eos_token_id`:50256 for open-end generation.\n",
      "Setting `pad_token_id` to `eos_token_id`:50256 for open-end generation.\n",
      "Setting `pad_token_id` to `eos_token_id`:50256 for open-end generation.\n",
      "Setting `pad_token_id` to `eos_token_id`:50256 for open-end generation.\n",
      "Setting `pad_token_id` to `eos_token_id`:50256 for open-end generation.\n",
      "Setting `pad_token_id` to `eos_token_id`:50256 for open-end generation.\n",
      "Setting `pad_token_id` to `eos_token_id`:50256 for open-end generation.\n",
      "Setting `pad_token_id` to `eos_token_id`:50256 for open-end generation.\n",
      "Setting `pad_token_id` to `eos_token_id`:50256 for open-end generation.\n",
      "Setting `pad_token_id` to `eos_token_id`:50256 for open-end generation.\n",
      "Setting `pad_token_id` to `eos_token_id`:50256 for open-end generation.\n",
      "Setting `pad_token_id` to `eos_token_id`:50256 for open-end generation.\n",
      "Setting `pad_token_id` to `eos_token_id`:50256 for open-end generation.\n",
      "Setting `pad_token_id` to `eos_token_id`:50256 for open-end generation.\n",
      "Setting `pad_token_id` to `eos_token_id`:50256 for open-end generation.\n",
      "Setting `pad_token_id` to `eos_token_id`:50256 for open-end generation.\n",
      "Setting `pad_token_id` to `eos_token_id`:50256 for open-end generation.\n",
      "Setting `pad_token_id` to `eos_token_id`:50256 for open-end generation.\n",
      "Setting `pad_token_id` to `eos_token_id`:50256 for open-end generation.\n",
      "Setting `pad_token_id` to `eos_token_id`:50256 for open-end generation.\n",
      "Setting `pad_token_id` to `eos_token_id`:50256 for open-end generation.\n",
      "Setting `pad_token_id` to `eos_token_id`:50256 for open-end generation.\n",
      "Setting `pad_token_id` to `eos_token_id`:50256 for open-end generation.\n",
      "Setting `pad_token_id` to `eos_token_id`:50256 for open-end generation.\n",
      "Setting `pad_token_id` to `eos_token_id`:50256 for open-end generation.\n",
      "Setting `pad_token_id` to `eos_token_id`:50256 for open-end generation.\n",
      "Setting `pad_token_id` to `eos_token_id`:50256 for open-end generation.\n",
      "Setting `pad_token_id` to `eos_token_id`:50256 for open-end generation.\n",
      "Setting `pad_token_id` to `eos_token_id`:50256 for open-end generation.\n",
      "Setting `pad_token_id` to `eos_token_id`:50256 for open-end generation.\n",
      "Setting `pad_token_id` to `eos_token_id`:50256 for open-end generation.\n",
      "Setting `pad_token_id` to `eos_token_id`:50256 for open-end generation.\n",
      "Setting `pad_token_id` to `eos_token_id`:50256 for open-end generation.\n",
      "Setting `pad_token_id` to `eos_token_id`:50256 for open-end generation.\n",
      "Setting `pad_token_id` to `eos_token_id`:50256 for open-end generation.\n",
      "Setting `pad_token_id` to `eos_token_id`:50256 for open-end generation.\n",
      "Setting `pad_token_id` to `eos_token_id`:50256 for open-end generation.\n",
      "Setting `pad_token_id` to `eos_token_id`:50256 for open-end generation.\n",
      "Setting `pad_token_id` to `eos_token_id`:50256 for open-end generation.\n",
      "Setting `pad_token_id` to `eos_token_id`:50256 for open-end generation.\n",
      "Setting `pad_token_id` to `eos_token_id`:50256 for open-end generation.\n",
      "Setting `pad_token_id` to `eos_token_id`:50256 for open-end generation.\n",
      "Setting `pad_token_id` to `eos_token_id`:50256 for open-end generation.\n",
      "Setting `pad_token_id` to `eos_token_id`:50256 for open-end generation.\n",
      "Setting `pad_token_id` to `eos_token_id`:50256 for open-end generation.\n",
      "Setting `pad_token_id` to `eos_token_id`:50256 for open-end generation.\n",
      "Setting `pad_token_id` to `eos_token_id`:50256 for open-end generation.\n",
      "Setting `pad_token_id` to `eos_token_id`:50256 for open-end generation.\n",
      "Setting `pad_token_id` to `eos_token_id`:50256 for open-end generation.\n",
      "Setting `pad_token_id` to `eos_token_id`:50256 for open-end generation.\n",
      "Setting `pad_token_id` to `eos_token_id`:50256 for open-end generation.\n",
      "Setting `pad_token_id` to `eos_token_id`:50256 for open-end generation.\n",
      "Setting `pad_token_id` to `eos_token_id`:50256 for open-end generation.\n",
      "Setting `pad_token_id` to `eos_token_id`:50256 for open-end generation.\n",
      "Setting `pad_token_id` to `eos_token_id`:50256 for open-end generation.\n",
      "Setting `pad_token_id` to `eos_token_id`:50256 for open-end generation.\n",
      "Setting `pad_token_id` to `eos_token_id`:50256 for open-end generation.\n",
      "Setting `pad_token_id` to `eos_token_id`:50256 for open-end generation.\n",
      "Setting `pad_token_id` to `eos_token_id`:50256 for open-end generation.\n",
      "Setting `pad_token_id` to `eos_token_id`:50256 for open-end generation.\n",
      "Setting `pad_token_id` to `eos_token_id`:50256 for open-end generation.\n",
      "Setting `pad_token_id` to `eos_token_id`:50256 for open-end generation.\n",
      "Setting `pad_token_id` to `eos_token_id`:50256 for open-end generation.\n",
      "Setting `pad_token_id` to `eos_token_id`:50256 for open-end generation.\n",
      "Setting `pad_token_id` to `eos_token_id`:50256 for open-end generation.\n",
      "Setting `pad_token_id` to `eos_token_id`:50256 for open-end generation.\n",
      "Setting `pad_token_id` to `eos_token_id`:50256 for open-end generation.\n",
      "Setting `pad_token_id` to `eos_token_id`:50256 for open-end generation.\n",
      "Setting `pad_token_id` to `eos_token_id`:50256 for open-end generation.\n",
      "Setting `pad_token_id` to `eos_token_id`:50256 for open-end generation.\n",
      "Setting `pad_token_id` to `eos_token_id`:50256 for open-end generation.\n",
      "Setting `pad_token_id` to `eos_token_id`:50256 for open-end generation.\n",
      "Setting `pad_token_id` to `eos_token_id`:50256 for open-end generation.\n",
      "Setting `pad_token_id` to `eos_token_id`:50256 for open-end generation.\n",
      "Setting `pad_token_id` to `eos_token_id`:50256 for open-end generation.\n",
      "Setting `pad_token_id` to `eos_token_id`:50256 for open-end generation.\n"
     ]
    }
   ],
   "source": [
    "ground_truths = []\n",
    "predictions = {}\n",
    "\n",
    "for prompt in selected_prompts:\n",
    "    \n",
    "    # Ablate the last layer MLP.\n",
    "    for num_ablation_layers in range(0, 32, 3):\n",
    "        \n",
    "        mask = torch.ones((model.config.num_hidden_layers, model.config.intermediate_size), dtype=torch.bool)\n",
    "        if num_ablation_layers > 0:\n",
    "            mask[-num_ablation_layers:, :] = False\n",
    "        \n",
    "        attach_hooks(model.model, ablate_neurons(mask))\n",
    "        \n",
    "        input_ids, input_and_completion_ids, result = generate(model, tokenizer, prompt, do_display=False)\n",
    "        \n",
    "        if num_ablation_layers == 0:\n",
    "            ground_truths.append(prompt+result)\n",
    "        \n",
    "        if num_ablation_layers not in predictions:\n",
    "            predictions[num_ablation_layers] = []\n",
    "        \n",
    "        predictions[num_ablation_layers].append(prompt+result)\n",
    "        \n",
    "\n",
    "    detach_hooks(model.model)"
   ]
  },
  {
   "cell_type": "code",
   "execution_count": 8,
   "metadata": {
    "scrolled": true
   },
   "outputs": [
    {
     "name": "stderr",
     "output_type": "stream",
     "text": [
      "Loading checkpoint shards: 100%|██████████| 2/2 [00:01<00:00,  1.30it/s]\n",
      "Special tokens have been added in the vocabulary, make sure the associated word embeddings are fine-tuned or trained.\n",
      "100%|██████████| 7/7 [00:05<00:00,  1.22it/s]\n",
      "Loading checkpoint shards: 100%|██████████| 2/2 [00:01<00:00,  1.27it/s]\n",
      "Special tokens have been added in the vocabulary, make sure the associated word embeddings are fine-tuned or trained.\n",
      "100%|██████████| 7/7 [00:05<00:00,  1.22it/s]\n",
      "Loading checkpoint shards: 100%|██████████| 2/2 [00:01<00:00,  1.39it/s]\n",
      "Special tokens have been added in the vocabulary, make sure the associated word embeddings are fine-tuned or trained.\n",
      "100%|██████████| 7/7 [00:05<00:00,  1.22it/s]\n",
      "Loading checkpoint shards: 100%|██████████| 2/2 [00:01<00:00,  1.50it/s]\n",
      "Special tokens have been added in the vocabulary, make sure the associated word embeddings are fine-tuned or trained.\n",
      "100%|██████████| 7/7 [00:05<00:00,  1.22it/s]\n",
      "Loading checkpoint shards: 100%|██████████| 2/2 [00:01<00:00,  1.57it/s]\n",
      "Special tokens have been added in the vocabulary, make sure the associated word embeddings are fine-tuned or trained.\n",
      "100%|██████████| 7/7 [00:05<00:00,  1.22it/s]\n",
      "Loading checkpoint shards: 100%|██████████| 2/2 [00:01<00:00,  1.66it/s]\n",
      "Special tokens have been added in the vocabulary, make sure the associated word embeddings are fine-tuned or trained.\n",
      "100%|██████████| 7/7 [00:05<00:00,  1.35it/s]\n",
      "Loading checkpoint shards: 100%|██████████| 2/2 [00:01<00:00,  1.67it/s]\n",
      "Special tokens have been added in the vocabulary, make sure the associated word embeddings are fine-tuned or trained.\n",
      "100%|██████████| 7/7 [00:05<00:00,  1.24it/s]\n",
      "Loading checkpoint shards: 100%|██████████| 2/2 [00:01<00:00,  1.73it/s]\n",
      "Special tokens have been added in the vocabulary, make sure the associated word embeddings are fine-tuned or trained.\n",
      "100%|██████████| 7/7 [00:04<00:00,  1.40it/s]\n",
      "Loading checkpoint shards: 100%|██████████| 2/2 [00:01<00:00,  1.75it/s]\n",
      "Special tokens have been added in the vocabulary, make sure the associated word embeddings are fine-tuned or trained.\n",
      "100%|██████████| 7/7 [00:05<00:00,  1.22it/s]\n",
      "Loading checkpoint shards: 100%|██████████| 2/2 [00:01<00:00,  1.72it/s]\n",
      "Special tokens have been added in the vocabulary, make sure the associated word embeddings are fine-tuned or trained.\n",
      "100%|██████████| 7/7 [00:05<00:00,  1.22it/s]\n",
      "Loading checkpoint shards: 100%|██████████| 2/2 [00:01<00:00,  1.73it/s]\n",
      "Special tokens have been added in the vocabulary, make sure the associated word embeddings are fine-tuned or trained.\n",
      "100%|██████████| 7/7 [00:05<00:00,  1.24it/s]\n"
     ]
    }
   ],
   "source": [
    "import evaluate\n",
    "from typing import List\n",
    "\n",
    "results = {}\n",
    "\n",
    "rouge = evaluate.load(\"rouge\", module_type=\"metric\", cache_dir=CACHE_DIR)\n",
    "perplexity = evaluate.load(\"perplexity\", module_type=\"metric\", cache_dir=CACHE_DIR)\n",
    "wer = evaluate.load(\"wer\", module_type=\"metric\", cache_dir=CACHE_DIR)\n",
    "\n",
    "for key, value in predictions.items():\n",
    "    rouge_result = rouge.compute(references=ground_truths, predictions=value)\n",
    "    perplexity_result = perplexity.compute(predictions=value, model_id='microsoft/phi-2')\n",
    "    wer_result = wer.compute(references=ground_truths, predictions=value)\n",
    "    \n",
    "    results[key] = {\n",
    "        'rouge_result': rouge_result,\n",
    "        'perplexity_result': perplexity_result,\n",
    "        'wer_result': wer_result\n",
    "    }"
   ]
  },
  {
   "cell_type": "code",
   "execution_count": 11,
   "metadata": {
    "scrolled": false
   },
   "outputs": [
    {
     "data": {
      "image/png": "[encoded data removed]",
      "text/plain": [
       "<Figure size 1000x600 with 1 Axes>"
      ]
     },
     "metadata": {},
     "output_type": "display_data"
    }
   ],
   "source": [
    "import matplotlib.pyplot as plt\n",
    "\n",
    "keys = list(results.keys())\n",
    "wer_results = [results[key]['wer_result'] for key in keys]\n",
    "\n",
    "# Creating the bar graph\n",
    "plt.figure(figsize=(10, 6))\n",
    "plt.bar(keys, wer_results, color='skyblue')\n",
    "\n",
    "plt.xlabel('Layer Removed')\n",
    "plt.ylabel('WER Result')\n",
    "plt.title('WER Results for Predictions')\n",
    "plt.xticks(rotation=45, ha=\"right\")\n",
    "\n",
    "plt.show()"
   ]
  },
  {
   "cell_type": "code",
   "execution_count": 13,
   "metadata": {},
   "outputs": [
    {
     "data": {
      "image/png": "[encoded data removed]",
      "text/plain": [
       "<Figure size 1000x600 with 1 Axes>"
      ]
     },
     "metadata": {},
     "output_type": "display_data"
    }
   ],
   "source": [
    "keys = list(results.keys())\n",
    "mean_perplexities = [results[key]['perplexity_result']['mean_perplexity'] for key in keys]\n",
    "\n",
    "# Creating the bar graph for mean perplexity\n",
    "plt.figure(figsize=(10, 6))\n",
    "plt.bar(keys, mean_perplexities, color='lightgreen')\n",
    "\n",
    "plt.xlabel('Layer Removed')\n",
    "plt.ylabel('Mean Perplexity')\n",
    "plt.title('Mean Perplexity for Predictions')\n",
    "plt.xticks(rotation=45, ha=\"right\")\n",
    "\n",
    "plt.show()"
   ]
  },
  {
   "cell_type": "code",
   "execution_count": 16,
   "metadata": {},
   "outputs": [
    {
     "data": {
      "text/markdown": [
       "# Visualizing How Log-Likelihood Evolves, and For Which Tokens"
      ],
      "text/plain": [
       "<IPython.core.display.Markdown object>"
      ]
     },
     "metadata": {},
     "output_type": "display_data"
    },
    {
     "name": "stderr",
     "output_type": "stream",
     "text": [
      "Setting `pad_token_id` to `eos_token_id`:50256 for open-end generation.\n"
     ]
    },
    {
     "data": {
      "text/markdown": [
       "## Ablating MLP 32 / 32"
      ],
      "text/plain": [
       "<IPython.core.display.Markdown object>"
      ]
     },
     "metadata": {},
     "output_type": "display_data"
    },
    {
     "name": "stdout",
     "output_type": "stream",
     "text": [
      "Average deflection: 0.07768365740776062\n",
      "Worst deflection: 0.0336986780166626\n"
     ]
    },
    {
     "data": {
      "text/html": [
       "<pre><span class='token' style='background-color:rgb(240.0, 240, 240.0)'>Instruct</span><span class='token' style='background-color:rgb(240.0, 240, 240.0)'>:</span><span class='token' style='background-color:rgb(240.0, 240, 240.0)'>&nbsp;What</span><span class='token' style='background-color:rgb(240.0, 240, 240.0)'>&nbsp;is</span><span class='token' style='background-color:rgb(240.0, 240, 240.0)'>&nbsp;1</span><span class='token' style='background-color:rgb(240.0, 240, 240.0)'>&nbsp;+</span><span class='token' style='background-color:rgb(240.0, 240, 240.0)'>&nbsp;234</span><span class='token' style='background-color:rgb(240.0, 240, 240.0)'>?</span><span class='token' style='background-color:rgb(240.0, 240, 240.0)'>\n",
       "</span><span class='token' style='background-color:rgb(240.0, 240, 240.0)'>\n",
       "</span><span class='token' style='background-color:rgb(240.0, 240, 240.0)'>Output</span><span class='token' style='background-color:rgb(240.0, 240, 240.0)'>:</span><span class='token' style='background-color:rgb(240.0, 240, 240.0)'>&nbsp;1</span><span class='token' style='background-color:rgb(240.0, 240, 240.0)'>&nbsp;+</span><span class='token' style='background-color:rgb(240.0, 240, 240.0)'>&nbsp;234</span><span class='token' style='background-color:rgb(240.0, 240, 240.0)'>&nbsp;=</span><span class='token' style='background-color:rgb(231.91232299804688, 240, 231.91232299804688)'>&nbsp;235</span><span class='token' style='background-color:rgb(218.36245727539062, 240, 218.36245727539062)'>\n",
       "</span><span class='token' style='background-color:rgb(213.79299926757812, 240, 213.79299926757812)'>\n",
       "</span></pre>"
      ],
      "text/plain": [
       "<IPython.core.display.HTML object>"
      ]
     },
     "metadata": {},
     "output_type": "display_data"
    },
    {
     "data": {
      "text/markdown": [
       "## Ablating MLP 31 / 32"
      ],
      "text/plain": [
       "<IPython.core.display.Markdown object>"
      ]
     },
     "metadata": {},
     "output_type": "display_data"
    },
    {
     "name": "stdout",
     "output_type": "stream",
     "text": [
      "Average deflection: -0.16328978538513184\n",
      "Worst deflection: -0.2753016948699951\n"
     ]
    },
    {
     "data": {
      "text/html": [
       "<pre><span class='token' style='background-color:rgb(240.0, 240, 240.0)'>Instruct</span><span class='token' style='background-color:rgb(240.0, 240, 240.0)'>:</span><span class='token' style='background-color:rgb(240.0, 240, 240.0)'>&nbsp;What</span><span class='token' style='background-color:rgb(240.0, 240, 240.0)'>&nbsp;is</span><span class='token' style='background-color:rgb(240.0, 240, 240.0)'>&nbsp;1</span><span class='token' style='background-color:rgb(240.0, 240, 240.0)'>&nbsp;+</span><span class='token' style='background-color:rgb(240.0, 240, 240.0)'>&nbsp;234</span><span class='token' style='background-color:rgb(240.0, 240, 240.0)'>?</span><span class='token' style='background-color:rgb(240.0, 240, 240.0)'>\n",
       "</span><span class='token' style='background-color:rgb(240.0, 240, 240.0)'>\n",
       "</span><span class='token' style='background-color:rgb(240.0, 240, 240.0)'>Output</span><span class='token' style='background-color:rgb(240.0, 240, 240.0)'>:</span><span class='token' style='background-color:rgb(240.0, 240, 240.0)'>&nbsp;1</span><span class='token' style='background-color:rgb(240.0, 240, 240.0)'>&nbsp;+</span><span class='token' style='background-color:rgb(240.0, 240, 240.0)'>&nbsp;234</span><span class='token' style='background-color:rgb(240.0, 240, 240.0)'>&nbsp;=</span><span class='token' style='background-color:rgb(240, 173.92759704589844, 173.92759704589844)'>&nbsp;235</span><span class='token' style='background-color:rgb(240, 207.42385864257812, 207.42385864257812)'>\n",
       "</span><span class='token' style='background-color:rgb(240, 221.0798797607422, 221.0798797607422)'>\n",
       "</span></pre>"
      ],
      "text/plain": [
       "<IPython.core.display.HTML object>"
      ]
     },
     "metadata": {},
     "output_type": "display_data"
    },
    {
     "data": {
      "text/markdown": [
       "## Ablating MLP 30 / 32"
      ],
      "text/plain": [
       "<IPython.core.display.Markdown object>"
      ]
     },
     "metadata": {},
     "output_type": "display_data"
    },
    {
     "name": "stdout",
     "output_type": "stream",
     "text": [
      "Average deflection: -0.01605325937271118\n",
      "Worst deflection: -0.030004426836967468\n"
     ]
    },
    {
     "data": {
      "text/html": [
       "<pre><span class='token' style='background-color:rgb(240.0, 240, 240.0)'>Instruct</span><span class='token' style='background-color:rgb(240.0, 240, 240.0)'>:</span><span class='token' style='background-color:rgb(240.0, 240, 240.0)'>&nbsp;What</span><span class='token' style='background-color:rgb(240.0, 240, 240.0)'>&nbsp;is</span><span class='token' style='background-color:rgb(240.0, 240, 240.0)'>&nbsp;1</span><span class='token' style='background-color:rgb(240.0, 240, 240.0)'>&nbsp;+</span><span class='token' style='background-color:rgb(240.0, 240, 240.0)'>&nbsp;234</span><span class='token' style='background-color:rgb(240.0, 240, 240.0)'>?</span><span class='token' style='background-color:rgb(240.0, 240, 240.0)'>\n",
       "</span><span class='token' style='background-color:rgb(240.0, 240, 240.0)'>\n",
       "</span><span class='token' style='background-color:rgb(240.0, 240, 240.0)'>Output</span><span class='token' style='background-color:rgb(240.0, 240, 240.0)'>:</span><span class='token' style='background-color:rgb(240.0, 240, 240.0)'>&nbsp;1</span><span class='token' style='background-color:rgb(240.0, 240, 240.0)'>&nbsp;+</span><span class='token' style='background-color:rgb(240.0, 240, 240.0)'>&nbsp;234</span><span class='token' style='background-color:rgb(240.0, 240, 240.0)'>&nbsp;=</span><span class='token' style='background-color:rgb(240, 239.1479034423828, 239.1479034423828)'>&nbsp;235</span><span class='token' style='background-color:rgb(240, 232.79893493652344, 232.79893493652344)'>\n",
       "</span><span class='token' style='background-color:rgb(240, 236.49481201171875, 236.49481201171875)'>\n",
       "</span></pre>"
      ],
      "text/plain": [
       "<IPython.core.display.HTML object>"
      ]
     },
     "metadata": {},
     "output_type": "display_data"
    },
    {
     "data": {
      "text/markdown": [
       "## Ablating MLP 29 / 32"
      ],
      "text/plain": [
       "<IPython.core.display.Markdown object>"
      ]
     },
     "metadata": {},
     "output_type": "display_data"
    },
    {
     "name": "stdout",
     "output_type": "stream",
     "text": [
      "Average deflection: -0.027332646772265434\n",
      "Worst deflection: -0.10021320730447769\n"
     ]
    },
    {
     "data": {
      "text/html": [
       "<pre><span class='token' style='background-color:rgb(240.0, 240, 240.0)'>Instruct</span><span class='token' style='background-color:rgb(240.0, 240, 240.0)'>:</span><span class='token' style='background-color:rgb(240.0, 240, 240.0)'>&nbsp;What</span><span class='token' style='background-color:rgb(240.0, 240, 240.0)'>&nbsp;is</span><span class='token' style='background-color:rgb(240.0, 240, 240.0)'>&nbsp;1</span><span class='token' style='background-color:rgb(240.0, 240, 240.0)'>&nbsp;+</span><span class='token' style='background-color:rgb(240.0, 240, 240.0)'>&nbsp;234</span><span class='token' style='background-color:rgb(240.0, 240, 240.0)'>?</span><span class='token' style='background-color:rgb(240.0, 240, 240.0)'>\n",
       "</span><span class='token' style='background-color:rgb(240.0, 240, 240.0)'>\n",
       "</span><span class='token' style='background-color:rgb(240.0, 240, 240.0)'>Output</span><span class='token' style='background-color:rgb(240.0, 240, 240.0)'>:</span><span class='token' style='background-color:rgb(240.0, 240, 240.0)'>&nbsp;1</span><span class='token' style='background-color:rgb(240.0, 240, 240.0)'>&nbsp;+</span><span class='token' style='background-color:rgb(240.0, 240, 240.0)'>&nbsp;234</span><span class='token' style='background-color:rgb(240.0, 240, 240.0)'>&nbsp;=</span><span class='token' style='background-color:rgb(240, 215.94882202148438, 215.94882202148438)'>&nbsp;235</span><span class='token' style='background-color:rgb(238.3939971923828, 240, 238.3939971923828)'>\n",
       "</span><span class='token' style='background-color:rgb(237.2343292236328, 240, 237.2343292236328)'>\n",
       "</span></pre>"
      ],
      "text/plain": [
       "<IPython.core.display.HTML object>"
      ]
     },
     "metadata": {},
     "output_type": "display_data"
    },
    {
     "data": {
      "text/markdown": [
       "## Ablating MLP 28 / 32"
      ],
      "text/plain": [
       "<IPython.core.display.Markdown object>"
      ]
     },
     "metadata": {},
     "output_type": "display_data"
    },
    {
     "name": "stdout",
     "output_type": "stream",
     "text": [
      "Average deflection: -0.02445281855762005\n",
      "Worst deflection: -0.035516709089279175\n"
     ]
    },
    {
     "data": {
      "text/html": [
       "<pre><span class='token' style='background-color:rgb(240.0, 240, 240.0)'>Instruct</span><span class='token' style='background-color:rgb(240.0, 240, 240.0)'>:</span><span class='token' style='background-color:rgb(240.0, 240, 240.0)'>&nbsp;What</span><span class='token' style='background-color:rgb(240.0, 240, 240.0)'>&nbsp;is</span><span class='token' style='background-color:rgb(240.0, 240, 240.0)'>&nbsp;1</span><span class='token' style='background-color:rgb(240.0, 240, 240.0)'>&nbsp;+</span><span class='token' style='background-color:rgb(240.0, 240, 240.0)'>&nbsp;234</span><span class='token' style='background-color:rgb(240.0, 240, 240.0)'>?</span><span class='token' style='background-color:rgb(240.0, 240, 240.0)'>\n",
       "</span><span class='token' style='background-color:rgb(240.0, 240, 240.0)'>\n",
       "</span><span class='token' style='background-color:rgb(240.0, 240, 240.0)'>Output</span><span class='token' style='background-color:rgb(240.0, 240, 240.0)'>:</span><span class='token' style='background-color:rgb(240.0, 240, 240.0)'>&nbsp;1</span><span class='token' style='background-color:rgb(240.0, 240, 240.0)'>&nbsp;+</span><span class='token' style='background-color:rgb(240.0, 240, 240.0)'>&nbsp;234</span><span class='token' style='background-color:rgb(240.0, 240, 240.0)'>&nbsp;=</span><span class='token' style='background-color:rgb(240, 235.9480743408203, 235.9480743408203)'>&nbsp;235</span><span class='token' style='background-color:rgb(240, 231.47598266601562, 231.47598266601562)'>\n",
       "</span><span class='token' style='background-color:rgb(240, 234.9698944091797, 234.9698944091797)'>\n",
       "</span></pre>"
      ],
      "text/plain": [
       "<IPython.core.display.HTML object>"
      ]
     },
     "metadata": {},
     "output_type": "display_data"
    },
    {
     "data": {
      "text/markdown": [
       "## Ablating MLP 27 / 32"
      ],
      "text/plain": [
       "<IPython.core.display.Markdown object>"
      ]
     },
     "metadata": {},
     "output_type": "display_data"
    },
    {
     "name": "stdout",
     "output_type": "stream",
     "text": [
      "Average deflection: -0.05928967893123627\n",
      "Worst deflection: -0.17928975820541382\n"
     ]
    },
    {
     "data": {
      "text/html": [
       "<pre><span class='token' style='background-color:rgb(240.0, 240, 240.0)'>Instruct</span><span class='token' style='background-color:rgb(240.0, 240, 240.0)'>:</span><span class='token' style='background-color:rgb(240.0, 240, 240.0)'>&nbsp;What</span><span class='token' style='background-color:rgb(240.0, 240, 240.0)'>&nbsp;is</span><span class='token' style='background-color:rgb(240.0, 240, 240.0)'>&nbsp;1</span><span class='token' style='background-color:rgb(240.0, 240, 240.0)'>&nbsp;+</span><span class='token' style='background-color:rgb(240.0, 240, 240.0)'>&nbsp;234</span><span class='token' style='background-color:rgb(240.0, 240, 240.0)'>?</span><span class='token' style='background-color:rgb(240.0, 240, 240.0)'>\n",
       "</span><span class='token' style='background-color:rgb(240.0, 240, 240.0)'>\n",
       "</span><span class='token' style='background-color:rgb(240.0, 240, 240.0)'>Output</span><span class='token' style='background-color:rgb(240.0, 240, 240.0)'>:</span><span class='token' style='background-color:rgb(240.0, 240, 240.0)'>&nbsp;1</span><span class='token' style='background-color:rgb(240.0, 240, 240.0)'>&nbsp;+</span><span class='token' style='background-color:rgb(240.0, 240, 240.0)'>&nbsp;234</span><span class='token' style='background-color:rgb(240.0, 240, 240.0)'>&nbsp;=</span><span class='token' style='background-color:rgb(240, 196.970458984375, 196.970458984375)'>&nbsp;235</span><span class='token' style='background-color:rgb(232.49595642089844, 240, 232.49595642089844)'>\n",
       "</span><span class='token' style='background-color:rgb(240, 232.83692932128906, 232.83692932128906)'>\n",
       "</span></pre>"
      ],
      "text/plain": [
       "<IPython.core.display.HTML object>"
      ]
     },
     "metadata": {},
     "output_type": "display_data"
    },
    {
     "data": {
      "text/markdown": [
       "## Ablating MLP 26 / 32"
      ],
      "text/plain": [
       "<IPython.core.display.Markdown object>"
      ]
     },
     "metadata": {},
     "output_type": "display_data"
    },
    {
     "name": "stdout",
     "output_type": "stream",
     "text": [
      "Average deflection: -0.035049185156822205\n",
      "Worst deflection: -0.08637324720621109\n"
     ]
    },
    {
     "data": {
      "text/html": [
       "<pre><span class='token' style='background-color:rgb(240.0, 240, 240.0)'>Instruct</span><span class='token' style='background-color:rgb(240.0, 240, 240.0)'>:</span><span class='token' style='background-color:rgb(240.0, 240, 240.0)'>&nbsp;What</span><span class='token' style='background-color:rgb(240.0, 240, 240.0)'>&nbsp;is</span><span class='token' style='background-color:rgb(240.0, 240, 240.0)'>&nbsp;1</span><span class='token' style='background-color:rgb(240.0, 240, 240.0)'>&nbsp;+</span><span class='token' style='background-color:rgb(240.0, 240, 240.0)'>&nbsp;234</span><span class='token' style='background-color:rgb(240.0, 240, 240.0)'>?</span><span class='token' style='background-color:rgb(240.0, 240, 240.0)'>\n",
       "</span><span class='token' style='background-color:rgb(240.0, 240, 240.0)'>\n",
       "</span><span class='token' style='background-color:rgb(240.0, 240, 240.0)'>Output</span><span class='token' style='background-color:rgb(240.0, 240, 240.0)'>:</span><span class='token' style='background-color:rgb(240.0, 240, 240.0)'>&nbsp;1</span><span class='token' style='background-color:rgb(240.0, 240, 240.0)'>&nbsp;+</span><span class='token' style='background-color:rgb(240.0, 240, 240.0)'>&nbsp;234</span><span class='token' style='background-color:rgb(240.0, 240, 240.0)'>&nbsp;=</span><span class='token' style='background-color:rgb(240, 219.27041625976562, 219.27041625976562)'>&nbsp;235</span><span class='token' style='background-color:rgb(240, 238.89962768554688, 238.89962768554688)'>\n",
       "</span><span class='token' style='background-color:rgb(240, 236.5945587158203, 236.5945587158203)'>\n",
       "</span></pre>"
      ],
      "text/plain": [
       "<IPython.core.display.HTML object>"
      ]
     },
     "metadata": {},
     "output_type": "display_data"
    },
    {
     "data": {
      "text/markdown": [
       "## Ablating MLP 25 / 32"
      ],
      "text/plain": [
       "<IPython.core.display.Markdown object>"
      ]
     },
     "metadata": {},
     "output_type": "display_data"
    },
    {
     "name": "stdout",
     "output_type": "stream",
     "text": [
      "Average deflection: -0.0681414008140564\n",
      "Worst deflection: -0.2265840768814087\n"
     ]
    },
    {
     "data": {
      "text/html": [
       "<pre><span class='token' style='background-color:rgb(240.0, 240, 240.0)'>Instruct</span><span class='token' style='background-color:rgb(240.0, 240, 240.0)'>:</span><span class='token' style='background-color:rgb(240.0, 240, 240.0)'>&nbsp;What</span><span class='token' style='background-color:rgb(240.0, 240, 240.0)'>&nbsp;is</span><span class='token' style='background-color:rgb(240.0, 240, 240.0)'>&nbsp;1</span><span class='token' style='background-color:rgb(240.0, 240, 240.0)'>&nbsp;+</span><span class='token' style='background-color:rgb(240.0, 240, 240.0)'>&nbsp;234</span><span class='token' style='background-color:rgb(240.0, 240, 240.0)'>?</span><span class='token' style='background-color:rgb(240.0, 240, 240.0)'>\n",
       "</span><span class='token' style='background-color:rgb(240.0, 240, 240.0)'>\n",
       "</span><span class='token' style='background-color:rgb(240.0, 240, 240.0)'>Output</span><span class='token' style='background-color:rgb(240.0, 240, 240.0)'>:</span><span class='token' style='background-color:rgb(240.0, 240, 240.0)'>&nbsp;1</span><span class='token' style='background-color:rgb(240.0, 240, 240.0)'>&nbsp;+</span><span class='token' style='background-color:rgb(240.0, 240, 240.0)'>&nbsp;234</span><span class='token' style='background-color:rgb(240.0, 240, 240.0)'>&nbsp;=</span><span class='token' style='background-color:rgb(240, 185.6198272705078, 185.6198272705078)'>&nbsp;235</span><span class='token' style='background-color:rgb(240, 238.8822021484375, 238.8822021484375)'>\n",
       "</span><span class='token' style='background-color:rgb(233.56382751464844, 240, 233.56382751464844)'>\n",
       "</span></pre>"
      ],
      "text/plain": [
       "<IPython.core.display.HTML object>"
      ]
     },
     "metadata": {},
     "output_type": "display_data"
    },
    {
     "data": {
      "text/markdown": [
       "## Ablating MLP 24 / 32"
      ],
      "text/plain": [
       "<IPython.core.display.Markdown object>"
      ]
     },
     "metadata": {},
     "output_type": "display_data"
    },
    {
     "name": "stdout",
     "output_type": "stream",
     "text": [
      "Average deflection: -0.036493390798568726\n",
      "Worst deflection: -0.053367577493190765\n"
     ]
    },
    {
     "data": {
      "text/html": [
       "<pre><span class='token' style='background-color:rgb(240.0, 240, 240.0)'>Instruct</span><span class='token' style='background-color:rgb(240.0, 240, 240.0)'>:</span><span class='token' style='background-color:rgb(240.0, 240, 240.0)'>&nbsp;What</span><span class='token' style='background-color:rgb(240.0, 240, 240.0)'>&nbsp;is</span><span class='token' style='background-color:rgb(240.0, 240, 240.0)'>&nbsp;1</span><span class='token' style='background-color:rgb(240.0, 240, 240.0)'>&nbsp;+</span><span class='token' style='background-color:rgb(240.0, 240, 240.0)'>&nbsp;234</span><span class='token' style='background-color:rgb(240.0, 240, 240.0)'>?</span><span class='token' style='background-color:rgb(240.0, 240, 240.0)'>\n",
       "</span><span class='token' style='background-color:rgb(240.0, 240, 240.0)'>\n",
       "</span><span class='token' style='background-color:rgb(240.0, 240, 240.0)'>Output</span><span class='token' style='background-color:rgb(240.0, 240, 240.0)'>:</span><span class='token' style='background-color:rgb(240.0, 240, 240.0)'>&nbsp;1</span><span class='token' style='background-color:rgb(240.0, 240, 240.0)'>&nbsp;+</span><span class='token' style='background-color:rgb(240.0, 240, 240.0)'>&nbsp;234</span><span class='token' style='background-color:rgb(240.0, 240, 240.0)'>&nbsp;=</span><span class='token' style='background-color:rgb(240, 227.19178771972656, 227.19178771972656)'>&nbsp;235</span><span class='token' style='background-color:rgb(240, 238.56503295898438, 238.56503295898438)'>\n",
       "</span><span class='token' style='background-color:rgb(240, 227.9679412841797, 227.9679412841797)'>\n",
       "</span></pre>"
      ],
      "text/plain": [
       "<IPython.core.display.HTML object>"
      ]
     },
     "metadata": {},
     "output_type": "display_data"
    },
    {
     "data": {
      "text/markdown": [
       "## Ablating MLP 23 / 32"
      ],
      "text/plain": [
       "<IPython.core.display.Markdown object>"
      ]
     },
     "metadata": {},
     "output_type": "display_data"
    },
    {
     "name": "stdout",
     "output_type": "stream",
     "text": [
      "Average deflection: -0.02271135523915291\n",
      "Worst deflection: -0.09711600095033646\n"
     ]
    },
    {
     "data": {
      "text/html": [
       "<pre><span class='token' style='background-color:rgb(240.0, 240, 240.0)'>Instruct</span><span class='token' style='background-color:rgb(240.0, 240, 240.0)'>:</span><span class='token' style='background-color:rgb(240.0, 240, 240.0)'>&nbsp;What</span><span class='token' style='background-color:rgb(240.0, 240, 240.0)'>&nbsp;is</span><span class='token' style='background-color:rgb(240.0, 240, 240.0)'>&nbsp;1</span><span class='token' style='background-color:rgb(240.0, 240, 240.0)'>&nbsp;+</span><span class='token' style='background-color:rgb(240.0, 240, 240.0)'>&nbsp;234</span><span class='token' style='background-color:rgb(240.0, 240, 240.0)'>?</span><span class='token' style='background-color:rgb(240.0, 240, 240.0)'>\n",
       "</span><span class='token' style='background-color:rgb(240.0, 240, 240.0)'>\n",
       "</span><span class='token' style='background-color:rgb(240.0, 240, 240.0)'>Output</span><span class='token' style='background-color:rgb(240.0, 240, 240.0)'>:</span><span class='token' style='background-color:rgb(240.0, 240, 240.0)'>&nbsp;1</span><span class='token' style='background-color:rgb(240.0, 240, 240.0)'>&nbsp;+</span><span class='token' style='background-color:rgb(240.0, 240, 240.0)'>&nbsp;234</span><span class='token' style='background-color:rgb(240.0, 240, 240.0)'>&nbsp;=</span><span class='token' style='background-color:rgb(240, 216.69216918945312, 216.69216918945312)'>&nbsp;235</span><span class='token' style='background-color:rgb(234.90650939941406, 240, 234.90650939941406)'>\n",
       "</span><span class='token' style='background-color:rgb(238.13783264160156, 240, 238.13783264160156)'>\n",
       "</span></pre>"
      ],
      "text/plain": [
       "<IPython.core.display.HTML object>"
      ]
     },
     "metadata": {},
     "output_type": "display_data"
    },
    {
     "data": {
      "text/markdown": [
       "## Ablating MLP 22 / 32"
      ],
      "text/plain": [
       "<IPython.core.display.Markdown object>"
      ]
     },
     "metadata": {},
     "output_type": "display_data"
    },
    {
     "name": "stdout",
     "output_type": "stream",
     "text": [
      "Average deflection: -0.15600799024105072\n",
      "Worst deflection: -0.47297778725624084\n"
     ]
    },
    {
     "data": {
      "text/html": [
       "<pre><span class='token' style='background-color:rgb(240.0, 240, 240.0)'>Instruct</span><span class='token' style='background-color:rgb(240.0, 240, 240.0)'>:</span><span class='token' style='background-color:rgb(240.0, 240, 240.0)'>&nbsp;What</span><span class='token' style='background-color:rgb(240.0, 240, 240.0)'>&nbsp;is</span><span class='token' style='background-color:rgb(240.0, 240, 240.0)'>&nbsp;1</span><span class='token' style='background-color:rgb(240.0, 240, 240.0)'>&nbsp;+</span><span class='token' style='background-color:rgb(240.0, 240, 240.0)'>&nbsp;234</span><span class='token' style='background-color:rgb(240.0, 240, 240.0)'>?</span><span class='token' style='background-color:rgb(240.0, 240, 240.0)'>\n",
       "</span><span class='token' style='background-color:rgb(240.0, 240, 240.0)'>\n",
       "</span><span class='token' style='background-color:rgb(240.0, 240, 240.0)'>Output</span><span class='token' style='background-color:rgb(240.0, 240, 240.0)'>:</span><span class='token' style='background-color:rgb(240.0, 240, 240.0)'>&nbsp;1</span><span class='token' style='background-color:rgb(240.0, 240, 240.0)'>&nbsp;+</span><span class='token' style='background-color:rgb(240.0, 240, 240.0)'>&nbsp;234</span><span class='token' style='background-color:rgb(240.0, 240, 240.0)'>&nbsp;=</span><span class='token' style='background-color:rgb(240, 126.48533630371094, 126.48533630371094)'>&nbsp;235</span><span class='token' style='background-color:rgb(236.3204803466797, 240, 236.3204803466797)'>\n",
       "</span><span class='token' style='background-color:rgb(240, 237.5093994140625, 237.5093994140625)'>\n",
       "</span></pre>"
      ],
      "text/plain": [
       "<IPython.core.display.HTML object>"
      ]
     },
     "metadata": {},
     "output_type": "display_data"
    },
    {
     "data": {
      "text/markdown": [
       "## Ablating MLP 21 / 32"
      ],
      "text/plain": [
       "<IPython.core.display.Markdown object>"
      ]
     },
     "metadata": {},
     "output_type": "display_data"
    },
    {
     "name": "stdout",
     "output_type": "stream",
     "text": [
      "Average deflection: 0.022839127108454704\n",
      "Worst deflection: -0.002008497714996338\n"
     ]
    },
    {
     "data": {
      "text/html": [
       "<pre><span class='token' style='background-color:rgb(240.0, 240, 240.0)'>Instruct</span><span class='token' style='background-color:rgb(240.0, 240, 240.0)'>:</span><span class='token' style='background-color:rgb(240.0, 240, 240.0)'>&nbsp;What</span><span class='token' style='background-color:rgb(240.0, 240, 240.0)'>&nbsp;is</span><span class='token' style='background-color:rgb(240.0, 240, 240.0)'>&nbsp;1</span><span class='token' style='background-color:rgb(240.0, 240, 240.0)'>&nbsp;+</span><span class='token' style='background-color:rgb(240.0, 240, 240.0)'>&nbsp;234</span><span class='token' style='background-color:rgb(240.0, 240, 240.0)'>?</span><span class='token' style='background-color:rgb(240.0, 240, 240.0)'>\n",
       "</span><span class='token' style='background-color:rgb(240.0, 240, 240.0)'>\n",
       "</span><span class='token' style='background-color:rgb(240.0, 240, 240.0)'>Output</span><span class='token' style='background-color:rgb(240.0, 240, 240.0)'>:</span><span class='token' style='background-color:rgb(240.0, 240, 240.0)'>&nbsp;1</span><span class='token' style='background-color:rgb(240.0, 240, 240.0)'>&nbsp;+</span><span class='token' style='background-color:rgb(240.0, 240, 240.0)'>&nbsp;234</span><span class='token' style='background-color:rgb(240.0, 240, 240.0)'>&nbsp;=</span><span class='token' style='background-color:rgb(225.20584106445312, 240, 225.20584106445312)'>&nbsp;235</span><span class='token' style='background-color:rgb(237.86795043945312, 240, 237.86795043945312)'>\n",
       "</span><span class='token' style='background-color:rgb(240, 239.51795959472656, 239.51795959472656)'>\n",
       "</span></pre>"
      ],
      "text/plain": [
       "<IPython.core.display.HTML object>"
      ]
     },
     "metadata": {},
     "output_type": "display_data"
    },
    {
     "data": {
      "text/markdown": [
       "## Ablating MLP 20 / 32"
      ],
      "text/plain": [
       "<IPython.core.display.Markdown object>"
      ]
     },
     "metadata": {},
     "output_type": "display_data"
    },
    {
     "name": "stdout",
     "output_type": "stream",
     "text": [
      "Average deflection: 0.03132982552051544\n",
      "Worst deflection: 0.008688375353813171\n"
     ]
    },
    {
     "data": {
      "text/html": [
       "<pre><span class='token' style='background-color:rgb(240.0, 240, 240.0)'>Instruct</span><span class='token' style='background-color:rgb(240.0, 240, 240.0)'>:</span><span class='token' style='background-color:rgb(240.0, 240, 240.0)'>&nbsp;What</span><span class='token' style='background-color:rgb(240.0, 240, 240.0)'>&nbsp;is</span><span class='token' style='background-color:rgb(240.0, 240, 240.0)'>&nbsp;1</span><span class='token' style='background-color:rgb(240.0, 240, 240.0)'>&nbsp;+</span><span class='token' style='background-color:rgb(240.0, 240, 240.0)'>&nbsp;234</span><span class='token' style='background-color:rgb(240.0, 240, 240.0)'>?</span><span class='token' style='background-color:rgb(240.0, 240, 240.0)'>\n",
       "</span><span class='token' style='background-color:rgb(240.0, 240, 240.0)'>\n",
       "</span><span class='token' style='background-color:rgb(240.0, 240, 240.0)'>Output</span><span class='token' style='background-color:rgb(240.0, 240, 240.0)'>:</span><span class='token' style='background-color:rgb(240.0, 240, 240.0)'>&nbsp;1</span><span class='token' style='background-color:rgb(240.0, 240, 240.0)'>&nbsp;+</span><span class='token' style='background-color:rgb(240.0, 240, 240.0)'>&nbsp;234</span><span class='token' style='background-color:rgb(240.0, 240, 240.0)'>&nbsp;=</span><span class='token' style='background-color:rgb(229.22998046875, 240, 229.22998046875)'>&nbsp;235</span><span class='token' style='background-color:rgb(237.91477966308594, 240, 237.91477966308594)'>\n",
       "</span><span class='token' style='background-color:rgb(230.29776000976562, 240, 230.29776000976562)'>\n",
       "</span></pre>"
      ],
      "text/plain": [
       "<IPython.core.display.HTML object>"
      ]
     },
     "metadata": {},
     "output_type": "display_data"
    },
    {
     "data": {
      "text/markdown": [
       "## Ablating MLP 19 / 32"
      ],
      "text/plain": [
       "<IPython.core.display.Markdown object>"
      ]
     },
     "metadata": {},
     "output_type": "display_data"
    },
    {
     "name": "stdout",
     "output_type": "stream",
     "text": [
      "Average deflection: -0.06590586155653\n",
      "Worst deflection: -0.17163318395614624\n"
     ]
    },
    {
     "data": {
      "text/html": [
       "<pre><span class='token' style='background-color:rgb(240.0, 240, 240.0)'>Instruct</span><span class='token' style='background-color:rgb(240.0, 240, 240.0)'>:</span><span class='token' style='background-color:rgb(240.0, 240, 240.0)'>&nbsp;What</span><span class='token' style='background-color:rgb(240.0, 240, 240.0)'>&nbsp;is</span><span class='token' style='background-color:rgb(240.0, 240, 240.0)'>&nbsp;1</span><span class='token' style='background-color:rgb(240.0, 240, 240.0)'>&nbsp;+</span><span class='token' style='background-color:rgb(240.0, 240, 240.0)'>&nbsp;234</span><span class='token' style='background-color:rgb(240.0, 240, 240.0)'>?</span><span class='token' style='background-color:rgb(240.0, 240, 240.0)'>\n",
       "</span><span class='token' style='background-color:rgb(240.0, 240, 240.0)'>\n",
       "</span><span class='token' style='background-color:rgb(240.0, 240, 240.0)'>Output</span><span class='token' style='background-color:rgb(240.0, 240, 240.0)'>:</span><span class='token' style='background-color:rgb(240.0, 240, 240.0)'>&nbsp;1</span><span class='token' style='background-color:rgb(240.0, 240, 240.0)'>&nbsp;+</span><span class='token' style='background-color:rgb(240.0, 240, 240.0)'>&nbsp;234</span><span class='token' style='background-color:rgb(240.0, 240, 240.0)'>&nbsp;=</span><span class='token' style='background-color:rgb(240, 198.8080291748047, 198.8080291748047)'>&nbsp;235</span><span class='token' style='background-color:rgb(240, 238.56651306152344, 238.56651306152344)'>\n",
       "</span><span class='token' style='background-color:rgb(240, 235.1732177734375, 235.1732177734375)'>\n",
       "</span></pre>"
      ],
      "text/plain": [
       "<IPython.core.display.HTML object>"
      ]
     },
     "metadata": {},
     "output_type": "display_data"
    },
    {
     "data": {
      "text/markdown": [
       "## Ablating MLP 18 / 32"
      ],
      "text/plain": [
       "<IPython.core.display.Markdown object>"
      ]
     },
     "metadata": {},
     "output_type": "display_data"
    },
    {
     "name": "stdout",
     "output_type": "stream",
     "text": [
      "Average deflection: 0.025586340576410294\n",
      "Worst deflection: 0.020445644855499268\n"
     ]
    },
    {
     "data": {
      "text/html": [
       "<pre><span class='token' style='background-color:rgb(240.0, 240, 240.0)'>Instruct</span><span class='token' style='background-color:rgb(240.0, 240, 240.0)'>:</span><span class='token' style='background-color:rgb(240.0, 240, 240.0)'>&nbsp;What</span><span class='token' style='background-color:rgb(240.0, 240, 240.0)'>&nbsp;is</span><span class='token' style='background-color:rgb(240.0, 240, 240.0)'>&nbsp;1</span><span class='token' style='background-color:rgb(240.0, 240, 240.0)'>&nbsp;+</span><span class='token' style='background-color:rgb(240.0, 240, 240.0)'>&nbsp;234</span><span class='token' style='background-color:rgb(240.0, 240, 240.0)'>?</span><span class='token' style='background-color:rgb(240.0, 240, 240.0)'>\n",
       "</span><span class='token' style='background-color:rgb(240.0, 240, 240.0)'>\n",
       "</span><span class='token' style='background-color:rgb(240.0, 240, 240.0)'>Output</span><span class='token' style='background-color:rgb(240.0, 240, 240.0)'>:</span><span class='token' style='background-color:rgb(240.0, 240, 240.0)'>&nbsp;1</span><span class='token' style='background-color:rgb(240.0, 240, 240.0)'>&nbsp;+</span><span class='token' style='background-color:rgb(240.0, 240, 240.0)'>&nbsp;234</span><span class='token' style='background-color:rgb(240.0, 240, 240.0)'>&nbsp;=</span><span class='token' style='background-color:rgb(233.19638061523438, 240, 233.19638061523438)'>&nbsp;235</span><span class='token' style='background-color:rgb(233.2884063720703, 240, 233.2884063720703)'>\n",
       "</span><span class='token' style='background-color:rgb(235.09304809570312, 240, 235.09304809570312)'>\n",
       "</span></pre>"
      ],
      "text/plain": [
       "<IPython.core.display.HTML object>"
      ]
     },
     "metadata": {},
     "output_type": "display_data"
    },
    {
     "data": {
      "text/markdown": [
       "## Ablating MLP 17 / 32"
      ],
      "text/plain": [
       "<IPython.core.display.Markdown object>"
      ]
     },
     "metadata": {},
     "output_type": "display_data"
    },
    {
     "name": "stdout",
     "output_type": "stream",
     "text": [
      "Average deflection: 0.005048148334026337\n",
      "Worst deflection: -0.016864530742168427\n"
     ]
    },
    {
     "data": {
      "text/html": [
       "<pre><span class='token' style='background-color:rgb(240.0, 240, 240.0)'>Instruct</span><span class='token' style='background-color:rgb(240.0, 240, 240.0)'>:</span><span class='token' style='background-color:rgb(240.0, 240, 240.0)'>&nbsp;What</span><span class='token' style='background-color:rgb(240.0, 240, 240.0)'>&nbsp;is</span><span class='token' style='background-color:rgb(240.0, 240, 240.0)'>&nbsp;1</span><span class='token' style='background-color:rgb(240.0, 240, 240.0)'>&nbsp;+</span><span class='token' style='background-color:rgb(240.0, 240, 240.0)'>&nbsp;234</span><span class='token' style='background-color:rgb(240.0, 240, 240.0)'>?</span><span class='token' style='background-color:rgb(240.0, 240, 240.0)'>\n",
       "</span><span class='token' style='background-color:rgb(240.0, 240, 240.0)'>\n",
       "</span><span class='token' style='background-color:rgb(240.0, 240, 240.0)'>Output</span><span class='token' style='background-color:rgb(240.0, 240, 240.0)'>:</span><span class='token' style='background-color:rgb(240.0, 240, 240.0)'>&nbsp;1</span><span class='token' style='background-color:rgb(240.0, 240, 240.0)'>&nbsp;+</span><span class='token' style='background-color:rgb(240.0, 240, 240.0)'>&nbsp;234</span><span class='token' style='background-color:rgb(240.0, 240, 240.0)'>&nbsp;=</span><span class='token' style='background-color:rgb(240, 235.9525146484375, 235.9525146484375)'>&nbsp;235</span><span class='token' style='background-color:rgb(237.14529418945312, 240, 237.14529418945312)'>\n",
       "</span><span class='token' style='background-color:rgb(235.17254638671875, 240, 235.17254638671875)'>\n",
       "</span></pre>"
      ],
      "text/plain": [
       "<IPython.core.display.HTML object>"
      ]
     },
     "metadata": {},
     "output_type": "display_data"
    },
    {
     "data": {
      "text/markdown": [
       "## Ablating MLP 16 / 32"
      ],
      "text/plain": [
       "<IPython.core.display.Markdown object>"
      ]
     },
     "metadata": {},
     "output_type": "display_data"
    },
    {
     "name": "stdout",
     "output_type": "stream",
     "text": [
      "Average deflection: -0.06899186968803406\n",
      "Worst deflection: -0.15759199857711792\n"
     ]
    },
    {
     "data": {
      "text/html": [
       "<pre><span class='token' style='background-color:rgb(240.0, 240, 240.0)'>Instruct</span><span class='token' style='background-color:rgb(240.0, 240, 240.0)'>:</span><span class='token' style='background-color:rgb(240.0, 240, 240.0)'>&nbsp;What</span><span class='token' style='background-color:rgb(240.0, 240, 240.0)'>&nbsp;is</span><span class='token' style='background-color:rgb(240.0, 240, 240.0)'>&nbsp;1</span><span class='token' style='background-color:rgb(240.0, 240, 240.0)'>&nbsp;+</span><span class='token' style='background-color:rgb(240.0, 240, 240.0)'>&nbsp;234</span><span class='token' style='background-color:rgb(240.0, 240, 240.0)'>?</span><span class='token' style='background-color:rgb(240.0, 240, 240.0)'>\n",
       "</span><span class='token' style='background-color:rgb(240.0, 240, 240.0)'>\n",
       "</span><span class='token' style='background-color:rgb(240.0, 240, 240.0)'>Output</span><span class='token' style='background-color:rgb(240.0, 240, 240.0)'>:</span><span class='token' style='background-color:rgb(240.0, 240, 240.0)'>&nbsp;1</span><span class='token' style='background-color:rgb(240.0, 240, 240.0)'>&nbsp;+</span><span class='token' style='background-color:rgb(240.0, 240, 240.0)'>&nbsp;234</span><span class='token' style='background-color:rgb(240.0, 240, 240.0)'>&nbsp;=</span><span class='token' style='background-color:rgb(240, 202.17791748046875, 202.17791748046875)'>&nbsp;235</span><span class='token' style='background-color:rgb(240, 238.38809204101562, 238.38809204101562)'>\n",
       "</span><span class='token' style='background-color:rgb(240, 229.75982666015625, 229.75982666015625)'>\n",
       "</span></pre>"
      ],
      "text/plain": [
       "<IPython.core.display.HTML object>"
      ]
     },
     "metadata": {},
     "output_type": "display_data"
    },
    {
     "data": {
      "text/markdown": [
       "## Ablating MLP 15 / 32"
      ],
      "text/plain": [
       "<IPython.core.display.Markdown object>"
      ]
     },
     "metadata": {},
     "output_type": "display_data"
    },
    {
     "name": "stdout",
     "output_type": "stream",
     "text": [
      "Average deflection: -0.05841604992747307\n",
      "Worst deflection: -0.1488637626171112\n"
     ]
    },
    {
     "data": {
      "text/html": [
       "<pre><span class='token' style='background-color:rgb(240.0, 240, 240.0)'>Instruct</span><span class='token' style='background-color:rgb(240.0, 240, 240.0)'>:</span><span class='token' style='background-color:rgb(240.0, 240, 240.0)'>&nbsp;What</span><span class='token' style='background-color:rgb(240.0, 240, 240.0)'>&nbsp;is</span><span class='token' style='background-color:rgb(240.0, 240, 240.0)'>&nbsp;1</span><span class='token' style='background-color:rgb(240.0, 240, 240.0)'>&nbsp;+</span><span class='token' style='background-color:rgb(240.0, 240, 240.0)'>&nbsp;234</span><span class='token' style='background-color:rgb(240.0, 240, 240.0)'>?</span><span class='token' style='background-color:rgb(240.0, 240, 240.0)'>\n",
       "</span><span class='token' style='background-color:rgb(240.0, 240, 240.0)'>\n",
       "</span><span class='token' style='background-color:rgb(240.0, 240, 240.0)'>Output</span><span class='token' style='background-color:rgb(240.0, 240, 240.0)'>:</span><span class='token' style='background-color:rgb(240.0, 240, 240.0)'>&nbsp;1</span><span class='token' style='background-color:rgb(240.0, 240, 240.0)'>&nbsp;+</span><span class='token' style='background-color:rgb(240.0, 240, 240.0)'>&nbsp;234</span><span class='token' style='background-color:rgb(240.0, 240, 240.0)'>&nbsp;=</span><span class='token' style='background-color:rgb(240, 204.27268981933594, 204.27268981933594)'>&nbsp;235</span><span class='token' style='background-color:rgb(240, 235.8590087890625, 235.8590087890625)'>\n",
       "</span><span class='token' style='background-color:rgb(240, 237.80874633789062, 237.80874633789062)'>\n",
       "</span></pre>"
      ],
      "text/plain": [
       "<IPython.core.display.HTML object>"
      ]
     },
     "metadata": {},
     "output_type": "display_data"
    },
    {
     "data": {
      "text/markdown": [
       "## Ablating MLP 14 / 32"
      ],
      "text/plain": [
       "<IPython.core.display.Markdown object>"
      ]
     },
     "metadata": {},
     "output_type": "display_data"
    },
    {
     "name": "stdout",
     "output_type": "stream",
     "text": [
      "Average deflection: -0.021835900843143463\n",
      "Worst deflection: -0.057647861540317535\n"
     ]
    },
    {
     "data": {
      "text/html": [
       "<pre><span class='token' style='background-color:rgb(240.0, 240, 240.0)'>Instruct</span><span class='token' style='background-color:rgb(240.0, 240, 240.0)'>:</span><span class='token' style='background-color:rgb(240.0, 240, 240.0)'>&nbsp;What</span><span class='token' style='background-color:rgb(240.0, 240, 240.0)'>&nbsp;is</span><span class='token' style='background-color:rgb(240.0, 240, 240.0)'>&nbsp;1</span><span class='token' style='background-color:rgb(240.0, 240, 240.0)'>&nbsp;+</span><span class='token' style='background-color:rgb(240.0, 240, 240.0)'>&nbsp;234</span><span class='token' style='background-color:rgb(240.0, 240, 240.0)'>?</span><span class='token' style='background-color:rgb(240.0, 240, 240.0)'>\n",
       "</span><span class='token' style='background-color:rgb(240.0, 240, 240.0)'>\n",
       "</span><span class='token' style='background-color:rgb(240.0, 240, 240.0)'>Output</span><span class='token' style='background-color:rgb(240.0, 240, 240.0)'>:</span><span class='token' style='background-color:rgb(240.0, 240, 240.0)'>&nbsp;1</span><span class='token' style='background-color:rgb(240.0, 240, 240.0)'>&nbsp;+</span><span class='token' style='background-color:rgb(240.0, 240, 240.0)'>&nbsp;234</span><span class='token' style='background-color:rgb(240.0, 240, 240.0)'>&nbsp;=</span><span class='token' style='background-color:rgb(240, 226.1645050048828, 226.1645050048828)'>&nbsp;235</span><span class='token' style='background-color:rgb(237.96170043945312, 240, 237.96170043945312)'>\n",
       "</span><span class='token' style='background-color:rgb(240, 236.07533264160156, 236.07533264160156)'>\n",
       "</span></pre>"
      ],
      "text/plain": [
       "<IPython.core.display.HTML object>"
      ]
     },
     "metadata": {},
     "output_type": "display_data"
    },
    {
     "data": {
      "text/markdown": [
       "## Ablating MLP 13 / 32"
      ],
      "text/plain": [
       "<IPython.core.display.Markdown object>"
      ]
     },
     "metadata": {},
     "output_type": "display_data"
    },
    {
     "name": "stdout",
     "output_type": "stream",
     "text": [
      "Average deflection: -0.008968241512775421\n",
      "Worst deflection: -0.03584178537130356\n"
     ]
    },
    {
     "data": {
      "text/html": [
       "<pre><span class='token' style='background-color:rgb(240.0, 240, 240.0)'>Instruct</span><span class='token' style='background-color:rgb(240.0, 240, 240.0)'>:</span><span class='token' style='background-color:rgb(240.0, 240, 240.0)'>&nbsp;What</span><span class='token' style='background-color:rgb(240.0, 240, 240.0)'>&nbsp;is</span><span class='token' style='background-color:rgb(240.0, 240, 240.0)'>&nbsp;1</span><span class='token' style='background-color:rgb(240.0, 240, 240.0)'>&nbsp;+</span><span class='token' style='background-color:rgb(240.0, 240, 240.0)'>&nbsp;234</span><span class='token' style='background-color:rgb(240.0, 240, 240.0)'>?</span><span class='token' style='background-color:rgb(240.0, 240, 240.0)'>\n",
       "</span><span class='token' style='background-color:rgb(240.0, 240, 240.0)'>\n",
       "</span><span class='token' style='background-color:rgb(240.0, 240, 240.0)'>Output</span><span class='token' style='background-color:rgb(240.0, 240, 240.0)'>:</span><span class='token' style='background-color:rgb(240.0, 240, 240.0)'>&nbsp;1</span><span class='token' style='background-color:rgb(240.0, 240, 240.0)'>&nbsp;+</span><span class='token' style='background-color:rgb(240.0, 240, 240.0)'>&nbsp;234</span><span class='token' style='background-color:rgb(240.0, 240, 240.0)'>&nbsp;=</span><span class='token' style='background-color:rgb(240, 231.39797973632812, 231.39797973632812)'>&nbsp;235</span><span class='token' style='background-color:rgb(237.166015625, 240, 237.166015625)'>\n",
       "</span><span class='token' style='background-color:rgb(240, 239.31089782714844, 239.31089782714844)'>\n",
       "</span></pre>"
      ],
      "text/plain": [
       "<IPython.core.display.HTML object>"
      ]
     },
     "metadata": {},
     "output_type": "display_data"
    },
    {
     "data": {
      "text/markdown": [
       "## Ablating MLP 12 / 32"
      ],
      "text/plain": [
       "<IPython.core.display.Markdown object>"
      ]
     },
     "metadata": {},
     "output_type": "display_data"
    },
    {
     "name": "stdout",
     "output_type": "stream",
     "text": [
      "Average deflection: -0.04161371290683746\n",
      "Worst deflection: -0.07598749548196793\n"
     ]
    },
    {
     "data": {
      "text/html": [
       "<pre><span class='token' style='background-color:rgb(240.0, 240, 240.0)'>Instruct</span><span class='token' style='background-color:rgb(240.0, 240, 240.0)'>:</span><span class='token' style='background-color:rgb(240.0, 240, 240.0)'>&nbsp;What</span><span class='token' style='background-color:rgb(240.0, 240, 240.0)'>&nbsp;is</span><span class='token' style='background-color:rgb(240.0, 240, 240.0)'>&nbsp;1</span><span class='token' style='background-color:rgb(240.0, 240, 240.0)'>&nbsp;+</span><span class='token' style='background-color:rgb(240.0, 240, 240.0)'>&nbsp;234</span><span class='token' style='background-color:rgb(240.0, 240, 240.0)'>?</span><span class='token' style='background-color:rgb(240.0, 240, 240.0)'>\n",
       "</span><span class='token' style='background-color:rgb(240.0, 240, 240.0)'>\n",
       "</span><span class='token' style='background-color:rgb(240.0, 240, 240.0)'>Output</span><span class='token' style='background-color:rgb(240.0, 240, 240.0)'>:</span><span class='token' style='background-color:rgb(240.0, 240, 240.0)'>&nbsp;1</span><span class='token' style='background-color:rgb(240.0, 240, 240.0)'>&nbsp;+</span><span class='token' style='background-color:rgb(240.0, 240, 240.0)'>&nbsp;234</span><span class='token' style='background-color:rgb(240.0, 240, 240.0)'>&nbsp;=</span><span class='token' style='background-color:rgb(240, 221.76300048828125, 221.76300048828125)'>&nbsp;235</span><span class='token' style='background-color:rgb(237.6601104736328, 240, 237.6601104736328)'>\n",
       "</span><span class='token' style='background-color:rgb(240, 225.93524169921875, 225.93524169921875)'>\n",
       "</span></pre>"
      ],
      "text/plain": [
       "<IPython.core.display.HTML object>"
      ]
     },
     "metadata": {},
     "output_type": "display_data"
    },
    {
     "data": {
      "text/markdown": [
       "## Ablating MLP 11 / 32"
      ],
      "text/plain": [
       "<IPython.core.display.Markdown object>"
      ]
     },
     "metadata": {},
     "output_type": "display_data"
    },
    {
     "name": "stdout",
     "output_type": "stream",
     "text": [
      "Average deflection: -0.020339228212833405\n",
      "Worst deflection: -0.039547473192214966\n"
     ]
    },
    {
     "data": {
      "text/html": [
       "<pre><span class='token' style='background-color:rgb(240.0, 240, 240.0)'>Instruct</span><span class='token' style='background-color:rgb(240.0, 240, 240.0)'>:</span><span class='token' style='background-color:rgb(240.0, 240, 240.0)'>&nbsp;What</span><span class='token' style='background-color:rgb(240.0, 240, 240.0)'>&nbsp;is</span><span class='token' style='background-color:rgb(240.0, 240, 240.0)'>&nbsp;1</span><span class='token' style='background-color:rgb(240.0, 240, 240.0)'>&nbsp;+</span><span class='token' style='background-color:rgb(240.0, 240, 240.0)'>&nbsp;234</span><span class='token' style='background-color:rgb(240.0, 240, 240.0)'>?</span><span class='token' style='background-color:rgb(240.0, 240, 240.0)'>\n",
       "</span><span class='token' style='background-color:rgb(240.0, 240, 240.0)'>\n",
       "</span><span class='token' style='background-color:rgb(240.0, 240, 240.0)'>Output</span><span class='token' style='background-color:rgb(240.0, 240, 240.0)'>:</span><span class='token' style='background-color:rgb(240.0, 240, 240.0)'>&nbsp;1</span><span class='token' style='background-color:rgb(240.0, 240, 240.0)'>&nbsp;+</span><span class='token' style='background-color:rgb(240.0, 240, 240.0)'>&nbsp;234</span><span class='token' style='background-color:rgb(240.0, 240, 240.0)'>&nbsp;=</span><span class='token' style='background-color:rgb(237.64500427246094, 240, 237.64500427246094)'>&nbsp;235</span><span class='token' style='background-color:rgb(240, 232.49215698242188, 232.49215698242188)'>\n",
       "</span><span class='token' style='background-color:rgb(240, 230.50860595703125, 230.50860595703125)'>\n",
       "</span></pre>"
      ],
      "text/plain": [
       "<IPython.core.display.HTML object>"
      ]
     },
     "metadata": {},
     "output_type": "display_data"
    },
    {
     "data": {
      "text/markdown": [
       "## Ablating MLP 10 / 32"
      ],
      "text/plain": [
       "<IPython.core.display.Markdown object>"
      ]
     },
     "metadata": {},
     "output_type": "display_data"
    },
    {
     "name": "stdout",
     "output_type": "stream",
     "text": [
      "Average deflection: 0.006217678543180227\n",
      "Worst deflection: -0.06522640585899353\n"
     ]
    },
    {
     "data": {
      "text/html": [
       "<pre><span class='token' style='background-color:rgb(240.0, 240, 240.0)'>Instruct</span><span class='token' style='background-color:rgb(240.0, 240, 240.0)'>:</span><span class='token' style='background-color:rgb(240.0, 240, 240.0)'>&nbsp;What</span><span class='token' style='background-color:rgb(240.0, 240, 240.0)'>&nbsp;is</span><span class='token' style='background-color:rgb(240.0, 240, 240.0)'>&nbsp;1</span><span class='token' style='background-color:rgb(240.0, 240, 240.0)'>&nbsp;+</span><span class='token' style='background-color:rgb(240.0, 240, 240.0)'>&nbsp;234</span><span class='token' style='background-color:rgb(240.0, 240, 240.0)'>?</span><span class='token' style='background-color:rgb(240.0, 240, 240.0)'>\n",
       "</span><span class='token' style='background-color:rgb(240.0, 240, 240.0)'>\n",
       "</span><span class='token' style='background-color:rgb(240.0, 240, 240.0)'>Output</span><span class='token' style='background-color:rgb(240.0, 240, 240.0)'>:</span><span class='token' style='background-color:rgb(240.0, 240, 240.0)'>&nbsp;1</span><span class='token' style='background-color:rgb(240.0, 240, 240.0)'>&nbsp;+</span><span class='token' style='background-color:rgb(240.0, 240, 240.0)'>&nbsp;234</span><span class='token' style='background-color:rgb(240.0, 240, 240.0)'>&nbsp;=</span><span class='token' style='background-color:rgb(228.86666870117188, 240, 228.86666870117188)'>&nbsp;235</span><span class='token' style='background-color:rgb(231.00225830078125, 240, 231.00225830078125)'>\n",
       "</span><span class='token' style='background-color:rgb(240, 224.3456573486328, 224.3456573486328)'>\n",
       "</span></pre>"
      ],
      "text/plain": [
       "<IPython.core.display.HTML object>"
      ]
     },
     "metadata": {},
     "output_type": "display_data"
    },
    {
     "data": {
      "text/markdown": [
       "## Ablating MLP 9 / 32"
      ],
      "text/plain": [
       "<IPython.core.display.Markdown object>"
      ]
     },
     "metadata": {},
     "output_type": "display_data"
    },
    {
     "name": "stdout",
     "output_type": "stream",
     "text": [
      "Average deflection: -0.11548216640949249\n",
      "Worst deflection: -0.4787823259830475\n"
     ]
    },
    {
     "data": {
      "text/html": [
       "<pre><span class='token' style='background-color:rgb(240.0, 240, 240.0)'>Instruct</span><span class='token' style='background-color:rgb(240.0, 240, 240.0)'>:</span><span class='token' style='background-color:rgb(240.0, 240, 240.0)'>&nbsp;What</span><span class='token' style='background-color:rgb(240.0, 240, 240.0)'>&nbsp;is</span><span class='token' style='background-color:rgb(240.0, 240, 240.0)'>&nbsp;1</span><span class='token' style='background-color:rgb(240.0, 240, 240.0)'>&nbsp;+</span><span class='token' style='background-color:rgb(240.0, 240, 240.0)'>&nbsp;234</span><span class='token' style='background-color:rgb(240.0, 240, 240.0)'>?</span><span class='token' style='background-color:rgb(240.0, 240, 240.0)'>\n",
       "</span><span class='token' style='background-color:rgb(240.0, 240, 240.0)'>\n",
       "</span><span class='token' style='background-color:rgb(240.0, 240, 240.0)'>Output</span><span class='token' style='background-color:rgb(240.0, 240, 240.0)'>:</span><span class='token' style='background-color:rgb(240.0, 240, 240.0)'>&nbsp;1</span><span class='token' style='background-color:rgb(240.0, 240, 240.0)'>&nbsp;+</span><span class='token' style='background-color:rgb(240.0, 240, 240.0)'>&nbsp;234</span><span class='token' style='background-color:rgb(240.0, 240, 240.0)'>&nbsp;=</span><span class='token' style='background-color:rgb(222.05348205566406, 240, 222.05348205566406)'>&nbsp;235</span><span class='token' style='background-color:rgb(226.18592834472656, 240, 226.18592834472656)'>\n",
       "</span><span class='token' style='background-color:rgb(240, 125.09224700927734, 125.09224700927734)'>\n",
       "</span></pre>"
      ],
      "text/plain": [
       "<IPython.core.display.HTML object>"
      ]
     },
     "metadata": {},
     "output_type": "display_data"
    },
    {
     "data": {
      "text/markdown": [
       "## Ablating MLP 8 / 32"
      ],
      "text/plain": [
       "<IPython.core.display.Markdown object>"
      ]
     },
     "metadata": {},
     "output_type": "display_data"
    },
    {
     "name": "stdout",
     "output_type": "stream",
     "text": [
      "Average deflection: -0.06585612148046494\n",
      "Worst deflection: -0.2753565013408661\n"
     ]
    },
    {
     "data": {
      "text/html": [
       "<pre><span class='token' style='background-color:rgb(240.0, 240, 240.0)'>Instruct</span><span class='token' style='background-color:rgb(240.0, 240, 240.0)'>:</span><span class='token' style='background-color:rgb(240.0, 240, 240.0)'>&nbsp;What</span><span class='token' style='background-color:rgb(240.0, 240, 240.0)'>&nbsp;is</span><span class='token' style='background-color:rgb(240.0, 240, 240.0)'>&nbsp;1</span><span class='token' style='background-color:rgb(240.0, 240, 240.0)'>&nbsp;+</span><span class='token' style='background-color:rgb(240.0, 240, 240.0)'>&nbsp;234</span><span class='token' style='background-color:rgb(240.0, 240, 240.0)'>?</span><span class='token' style='background-color:rgb(240.0, 240, 240.0)'>\n",
       "</span><span class='token' style='background-color:rgb(240.0, 240, 240.0)'>\n",
       "</span><span class='token' style='background-color:rgb(240.0, 240, 240.0)'>Output</span><span class='token' style='background-color:rgb(240.0, 240, 240.0)'>:</span><span class='token' style='background-color:rgb(240.0, 240, 240.0)'>&nbsp;1</span><span class='token' style='background-color:rgb(240.0, 240, 240.0)'>&nbsp;+</span><span class='token' style='background-color:rgb(240.0, 240, 240.0)'>&nbsp;234</span><span class='token' style='background-color:rgb(240.0, 240, 240.0)'>&nbsp;=</span><span class='token' style='background-color:rgb(238.6072998046875, 240, 238.6072998046875)'>&nbsp;235</span><span class='token' style='background-color:rgb(222.7235565185547, 240, 222.7235565185547)'>\n",
       "</span><span class='token' style='background-color:rgb(240, 173.9144287109375, 173.9144287109375)'>\n",
       "</span></pre>"
      ],
      "text/plain": [
       "<IPython.core.display.HTML object>"
      ]
     },
     "metadata": {},
     "output_type": "display_data"
    },
    {
     "data": {
      "text/markdown": [
       "## Ablating MLP 7 / 32"
      ],
      "text/plain": [
       "<IPython.core.display.Markdown object>"
      ]
     },
     "metadata": {},
     "output_type": "display_data"
    },
    {
     "name": "stdout",
     "output_type": "stream",
     "text": [
      "Average deflection: -0.01864797994494438\n",
      "Worst deflection: -0.07712939381599426\n"
     ]
    },
    {
     "data": {
      "text/html": [
       "<pre><span class='token' style='background-color:rgb(240.0, 240, 240.0)'>Instruct</span><span class='token' style='background-color:rgb(240.0, 240, 240.0)'>:</span><span class='token' style='background-color:rgb(240.0, 240, 240.0)'>&nbsp;What</span><span class='token' style='background-color:rgb(240.0, 240, 240.0)'>&nbsp;is</span><span class='token' style='background-color:rgb(240.0, 240, 240.0)'>&nbsp;1</span><span class='token' style='background-color:rgb(240.0, 240, 240.0)'>&nbsp;+</span><span class='token' style='background-color:rgb(240.0, 240, 240.0)'>&nbsp;234</span><span class='token' style='background-color:rgb(240.0, 240, 240.0)'>?</span><span class='token' style='background-color:rgb(240.0, 240, 240.0)'>\n",
       "</span><span class='token' style='background-color:rgb(240.0, 240, 240.0)'>\n",
       "</span><span class='token' style='background-color:rgb(240.0, 240, 240.0)'>Output</span><span class='token' style='background-color:rgb(240.0, 240, 240.0)'>:</span><span class='token' style='background-color:rgb(240.0, 240, 240.0)'>&nbsp;1</span><span class='token' style='background-color:rgb(240.0, 240, 240.0)'>&nbsp;+</span><span class='token' style='background-color:rgb(240.0, 240, 240.0)'>&nbsp;234</span><span class='token' style='background-color:rgb(240.0, 240, 240.0)'>&nbsp;=</span><span class='token' style='background-color:rgb(239.1955108642578, 240, 239.1955108642578)'>&nbsp;235</span><span class='token' style='background-color:rgb(235.71998596191406, 240, 235.71998596191406)'>\n",
       "</span><span class='token' style='background-color:rgb(240, 221.48895263671875, 221.48895263671875)'>\n",
       "</span></pre>"
      ],
      "text/plain": [
       "<IPython.core.display.HTML object>"
      ]
     },
     "metadata": {},
     "output_type": "display_data"
    },
    {
     "data": {
      "text/markdown": [
       "## Ablating MLP 6 / 32"
      ],
      "text/plain": [
       "<IPython.core.display.Markdown object>"
      ]
     },
     "metadata": {},
     "output_type": "display_data"
    },
    {
     "name": "stdout",
     "output_type": "stream",
     "text": [
      "Average deflection: 0.022339878603816032\n",
      "Worst deflection: -0.04454684257507324\n"
     ]
    },
    {
     "data": {
      "text/html": [
       "<pre><span class='token' style='background-color:rgb(240.0, 240, 240.0)'>Instruct</span><span class='token' style='background-color:rgb(240.0, 240, 240.0)'>:</span><span class='token' style='background-color:rgb(240.0, 240, 240.0)'>&nbsp;What</span><span class='token' style='background-color:rgb(240.0, 240, 240.0)'>&nbsp;is</span><span class='token' style='background-color:rgb(240.0, 240, 240.0)'>&nbsp;1</span><span class='token' style='background-color:rgb(240.0, 240, 240.0)'>&nbsp;+</span><span class='token' style='background-color:rgb(240.0, 240, 240.0)'>&nbsp;234</span><span class='token' style='background-color:rgb(240.0, 240, 240.0)'>?</span><span class='token' style='background-color:rgb(240.0, 240, 240.0)'>\n",
       "</span><span class='token' style='background-color:rgb(240.0, 240, 240.0)'>\n",
       "</span><span class='token' style='background-color:rgb(240.0, 240, 240.0)'>Output</span><span class='token' style='background-color:rgb(240.0, 240, 240.0)'>:</span><span class='token' style='background-color:rgb(240.0, 240, 240.0)'>&nbsp;1</span><span class='token' style='background-color:rgb(240.0, 240, 240.0)'>&nbsp;+</span><span class='token' style='background-color:rgb(240.0, 240, 240.0)'>&nbsp;234</span><span class='token' style='background-color:rgb(240.0, 240, 240.0)'>&nbsp;=</span><span class='token' style='background-color:rgb(224.38888549804688, 240, 224.38888549804688)'>&nbsp;235</span><span class='token' style='background-color:rgb(228.8351593017578, 240, 228.8351593017578)'>\n",
       "</span><span class='token' style='background-color:rgb(240, 229.3087615966797, 229.3087615966797)'>\n",
       "</span></pre>"
      ],
      "text/plain": [
       "<IPython.core.display.HTML object>"
      ]
     },
     "metadata": {},
     "output_type": "display_data"
    },
    {
     "data": {
      "text/markdown": [
       "## Ablating MLP 5 / 32"
      ],
      "text/plain": [
       "<IPython.core.display.Markdown object>"
      ]
     },
     "metadata": {},
     "output_type": "display_data"
    },
    {
     "name": "stdout",
     "output_type": "stream",
     "text": [
      "Average deflection: -0.23974506556987762\n",
      "Worst deflection: -0.9196645021438599\n"
     ]
    },
    {
     "data": {
      "text/html": [
       "<pre><span class='token' style='background-color:rgb(240.0, 240, 240.0)'>Instruct</span><span class='token' style='background-color:rgb(240.0, 240, 240.0)'>:</span><span class='token' style='background-color:rgb(240.0, 240, 240.0)'>&nbsp;What</span><span class='token' style='background-color:rgb(240.0, 240, 240.0)'>&nbsp;is</span><span class='token' style='background-color:rgb(240.0, 240, 240.0)'>&nbsp;1</span><span class='token' style='background-color:rgb(240.0, 240, 240.0)'>&nbsp;+</span><span class='token' style='background-color:rgb(240.0, 240, 240.0)'>&nbsp;234</span><span class='token' style='background-color:rgb(240.0, 240, 240.0)'>?</span><span class='token' style='background-color:rgb(240.0, 240, 240.0)'>\n",
       "</span><span class='token' style='background-color:rgb(240.0, 240, 240.0)'>\n",
       "</span><span class='token' style='background-color:rgb(240.0, 240, 240.0)'>Output</span><span class='token' style='background-color:rgb(240.0, 240, 240.0)'>:</span><span class='token' style='background-color:rgb(240.0, 240, 240.0)'>&nbsp;1</span><span class='token' style='background-color:rgb(240.0, 240, 240.0)'>&nbsp;+</span><span class='token' style='background-color:rgb(240.0, 240, 240.0)'>&nbsp;234</span><span class='token' style='background-color:rgb(240.0, 240, 240.0)'>&nbsp;=</span><span class='token' style='background-color:rgb(216.0466766357422, 240, 216.0466766357422)'>&nbsp;235</span><span class='token' style='background-color:rgb(215.8502960205078, 240, 215.8502960205078)'>\n",
       "</span><span class='token' style='background-color:rgb(240, 19.280519485473633, 19.280519485473633)'>\n",
       "</span></pre>"
      ],
      "text/plain": [
       "<IPython.core.display.HTML object>"
      ]
     },
     "metadata": {},
     "output_type": "display_data"
    },
    {
     "data": {
      "text/markdown": [
       "## Ablating MLP 4 / 32"
      ],
      "text/plain": [
       "<IPython.core.display.Markdown object>"
      ]
     },
     "metadata": {},
     "output_type": "display_data"
    },
    {
     "name": "stdout",
     "output_type": "stream",
     "text": [
      "Average deflection: 0.02550864964723587\n",
      "Worst deflection: -0.0015297085046768188\n"
     ]
    },
    {
     "data": {
      "text/html": [
       "<pre><span class='token' style='background-color:rgb(240.0, 240, 240.0)'>Instruct</span><span class='token' style='background-color:rgb(240.0, 240, 240.0)'>:</span><span class='token' style='background-color:rgb(240.0, 240, 240.0)'>&nbsp;What</span><span class='token' style='background-color:rgb(240.0, 240, 240.0)'>&nbsp;is</span><span class='token' style='background-color:rgb(240.0, 240, 240.0)'>&nbsp;1</span><span class='token' style='background-color:rgb(240.0, 240, 240.0)'>&nbsp;+</span><span class='token' style='background-color:rgb(240.0, 240, 240.0)'>&nbsp;234</span><span class='token' style='background-color:rgb(240.0, 240, 240.0)'>?</span><span class='token' style='background-color:rgb(240.0, 240, 240.0)'>\n",
       "</span><span class='token' style='background-color:rgb(240.0, 240, 240.0)'>\n",
       "</span><span class='token' style='background-color:rgb(240.0, 240, 240.0)'>Output</span><span class='token' style='background-color:rgb(240.0, 240, 240.0)'>:</span><span class='token' style='background-color:rgb(240.0, 240, 240.0)'>&nbsp;1</span><span class='token' style='background-color:rgb(240.0, 240, 240.0)'>&nbsp;+</span><span class='token' style='background-color:rgb(240.0, 240, 240.0)'>&nbsp;234</span><span class='token' style='background-color:rgb(240.0, 240, 240.0)'>&nbsp;=</span><span class='token' style='background-color:rgb(238.2340850830078, 240, 238.2340850830078)'>&nbsp;235</span><span class='token' style='background-color:rgb(240, 239.63287353515625, 239.63287353515625)'>\n",
       "</span><span class='token' style='background-color:rgb(223.0325469970703, 240, 223.0325469970703)'>\n",
       "</span></pre>"
      ],
      "text/plain": [
       "<IPython.core.display.HTML object>"
      ]
     },
     "metadata": {},
     "output_type": "display_data"
    },
    {
     "data": {
      "text/markdown": [
       "## Ablating MLP 3 / 32"
      ],
      "text/plain": [
       "<IPython.core.display.Markdown object>"
      ]
     },
     "metadata": {},
     "output_type": "display_data"
    },
    {
     "name": "stdout",
     "output_type": "stream",
     "text": [
      "Average deflection: -0.030983038246631622\n",
      "Worst deflection: -0.05739569664001465\n"
     ]
    },
    {
     "data": {
      "text/html": [
       "<pre><span class='token' style='background-color:rgb(240.0, 240, 240.0)'>Instruct</span><span class='token' style='background-color:rgb(240.0, 240, 240.0)'>:</span><span class='token' style='background-color:rgb(240.0, 240, 240.0)'>&nbsp;What</span><span class='token' style='background-color:rgb(240.0, 240, 240.0)'>&nbsp;is</span><span class='token' style='background-color:rgb(240.0, 240, 240.0)'>&nbsp;1</span><span class='token' style='background-color:rgb(240.0, 240, 240.0)'>&nbsp;+</span><span class='token' style='background-color:rgb(240.0, 240, 240.0)'>&nbsp;234</span><span class='token' style='background-color:rgb(240.0, 240, 240.0)'>?</span><span class='token' style='background-color:rgb(240.0, 240, 240.0)'>\n",
       "</span><span class='token' style='background-color:rgb(240.0, 240, 240.0)'>\n",
       "</span><span class='token' style='background-color:rgb(240.0, 240, 240.0)'>Output</span><span class='token' style='background-color:rgb(240.0, 240, 240.0)'>:</span><span class='token' style='background-color:rgb(240.0, 240, 240.0)'>&nbsp;1</span><span class='token' style='background-color:rgb(240.0, 240, 240.0)'>&nbsp;+</span><span class='token' style='background-color:rgb(240.0, 240, 240.0)'>&nbsp;234</span><span class='token' style='background-color:rgb(240.0, 240, 240.0)'>&nbsp;=</span><span class='token' style='background-color:rgb(240, 233.30958557128906, 233.30958557128906)'>&nbsp;235</span><span class='token' style='background-color:rgb(240, 238.15760803222656, 238.15760803222656)'>\n",
       "</span><span class='token' style='background-color:rgb(240, 226.22503662109375, 226.22503662109375)'>\n",
       "</span></pre>"
      ],
      "text/plain": [
       "<IPython.core.display.HTML object>"
      ]
     },
     "metadata": {},
     "output_type": "display_data"
    },
    {
     "data": {
      "text/markdown": [
       "## Ablating MLP 2 / 32"
      ],
      "text/plain": [
       "<IPython.core.display.Markdown object>"
      ]
     },
     "metadata": {},
     "output_type": "display_data"
    },
    {
     "name": "stdout",
     "output_type": "stream",
     "text": [
      "Average deflection: -0.07406484335660934\n",
      "Worst deflection: -0.1627112329006195\n"
     ]
    },
    {
     "data": {
      "text/html": [
       "<pre><span class='token' style='background-color:rgb(240.0, 240, 240.0)'>Instruct</span><span class='token' style='background-color:rgb(240.0, 240, 240.0)'>:</span><span class='token' style='background-color:rgb(240.0, 240, 240.0)'>&nbsp;What</span><span class='token' style='background-color:rgb(240.0, 240, 240.0)'>&nbsp;is</span><span class='token' style='background-color:rgb(240.0, 240, 240.0)'>&nbsp;1</span><span class='token' style='background-color:rgb(240.0, 240, 240.0)'>&nbsp;+</span><span class='token' style='background-color:rgb(240.0, 240, 240.0)'>&nbsp;234</span><span class='token' style='background-color:rgb(240.0, 240, 240.0)'>?</span><span class='token' style='background-color:rgb(240.0, 240, 240.0)'>\n",
       "</span><span class='token' style='background-color:rgb(240.0, 240, 240.0)'>\n",
       "</span><span class='token' style='background-color:rgb(240.0, 240, 240.0)'>Output</span><span class='token' style='background-color:rgb(240.0, 240, 240.0)'>:</span><span class='token' style='background-color:rgb(240.0, 240, 240.0)'>&nbsp;1</span><span class='token' style='background-color:rgb(240.0, 240, 240.0)'>&nbsp;+</span><span class='token' style='background-color:rgb(240.0, 240, 240.0)'>&nbsp;234</span><span class='token' style='background-color:rgb(240.0, 240, 240.0)'>&nbsp;=</span><span class='token' style='background-color:rgb(240, 200.9492950439453, 200.9492950439453)'>&nbsp;235</span><span class='token' style='background-color:rgb(240, 237.07086181640625, 237.07086181640625)'>\n",
       "</span><span class='token' style='background-color:rgb(240, 228.6531524658203, 228.6531524658203)'>\n",
       "</span></pre>"
      ],
      "text/plain": [
       "<IPython.core.display.HTML object>"
      ]
     },
     "metadata": {},
     "output_type": "display_data"
    },
    {
     "data": {
      "text/markdown": [
       "## Ablating MLP 1 / 32"
      ],
      "text/plain": [
       "<IPython.core.display.Markdown object>"
      ]
     },
     "metadata": {},
     "output_type": "display_data"
    },
    {
     "name": "stdout",
     "output_type": "stream",
     "text": [
      "Average deflection: -5.8217973709106445\n",
      "Worst deflection: -17.025623321533203\n"
     ]
    },
    {
     "data": {
      "text/html": [
       "<pre><span class='token' style='background-color:rgb(240.0, 240, 240.0)'>Instruct</span><span class='token' style='background-color:rgb(240.0, 240, 240.0)'>:</span><span class='token' style='background-color:rgb(240.0, 240, 240.0)'>&nbsp;What</span><span class='token' style='background-color:rgb(240.0, 240, 240.0)'>&nbsp;is</span><span class='token' style='background-color:rgb(240.0, 240, 240.0)'>&nbsp;1</span><span class='token' style='background-color:rgb(240.0, 240, 240.0)'>&nbsp;+</span><span class='token' style='background-color:rgb(240.0, 240, 240.0)'>&nbsp;234</span><span class='token' style='background-color:rgb(240.0, 240, 240.0)'>?</span><span class='token' style='background-color:rgb(240.0, 240, 240.0)'>\n",
       "</span><span class='token' style='background-color:rgb(240.0, 240, 240.0)'>\n",
       "</span><span class='token' style='background-color:rgb(240.0, 240, 240.0)'>Output</span><span class='token' style='background-color:rgb(240.0, 240, 240.0)'>:</span><span class='token' style='background-color:rgb(240.0, 240, 240.0)'>&nbsp;1</span><span class='token' style='background-color:rgb(240.0, 240, 240.0)'>&nbsp;+</span><span class='token' style='background-color:rgb(240.0, 240, 240.0)'>&nbsp;234</span><span class='token' style='background-color:rgb(240.0, 240, 240.0)'>&nbsp;=</span><span class='token' style='background-color:rgb(240, 0, 0)'>&nbsp;235</span><span class='token' style='background-color:rgb(240, 79.8404541015625, 79.8404541015625)'>\n",
       "</span><span class='token' style='background-color:rgb(185.38461303710938, 240, 185.38461303710938)'>\n",
       "</span></pre>"
      ],
      "text/plain": [
       "<IPython.core.display.HTML object>"
      ]
     },
     "metadata": {},
     "output_type": "display_data"
    }
   ],
   "source": [
    "# This is called \"neuron vis\", but can really be used for anything involving a score assigned to each token.\n",
    "# In this case, visualize logprob\n",
    "from neuron_visualization import basic_neuron_vis, basic_neuron_vis_signed\n",
    "\n",
    "# Get granular nll estimates\n",
    "display(Markdown(f'# Visualizing How Log-Likelihood Evolves, and For Which Tokens'))\n",
    "\n",
    "# 1. Get ground truth.\n",
    "detach_hooks(model.model)\n",
    "input_ids, input_and_completion_ids, ground_truth = generate(model, tokenizer, \"Instruct: What is 1 + 234?\\n\\nOutput: 1 + 234 =\", do_display=False, max_new_tokens=3)\n",
    "completion_ids = input_and_completion_ids[len(input_ids):]\n",
    "\n",
    "# Calculate baseline logprobs.\n",
    "predictions_for_next_token = model(input_ids=input_and_completion_ids.unsqueeze(0))\n",
    "logits = predictions_for_next_token[0][0]\n",
    "logits_for_output_tokens = logits[len(input_ids) - 1:-1]\n",
    "logprobs_for_output_tokens = torch.log_softmax(logits_for_output_tokens, dim=-1)\n",
    "baseline_logprobs_for_sampled_output_tokens = logprobs_for_output_tokens[\n",
    "    torch.arange(logprobs_for_output_tokens.shape[0]),\n",
    "    completion_ids\n",
    "]\n",
    "\n",
    "# 2. Ablate model. See which suddens suddenly become highly unlikely (by visualizing negative logprobs).\n",
    "# for ablation_layer in range(31, 31 - 8 - 1, -1):\n",
    "for ablation_layer in range(31, -1, -1):\n",
    "    mask = torch.ones((model.config.num_hidden_layers, model.config.intermediate_size), dtype=torch.bool)\n",
    "    \n",
    "    display(Markdown(f'## Ablating MLP {ablation_layer + 1} / 32'))\n",
    "    mask[ablation_layer, :] = False\n",
    "\n",
    "# for num_ablation_layers in range(0, 5, 1):\n",
    "    # mask = torch.ones((model.config.num_hidden_layers, model.config.intermediate_size), dtype=torch.bool)\n",
    "    # if num_ablation_layers == 0:\n",
    "    #     display(Markdown(f'## Baseline'))\n",
    "    # else:\n",
    "    #     display(Markdown(f'## Ablating final {num_ablation_layers} MLPs'))\n",
    "    # if num_ablation_layers > 0:\n",
    "    #     mask[-num_ablation_layers:, :] = False\n",
    "\n",
    "    attach_hooks(model.model, ablate_neurons(mask))\n",
    "    predictions_for_next_token = model(input_ids=input_and_completion_ids.unsqueeze(0))\n",
    "    logits = predictions_for_next_token[0][0]\n",
    "    logits_for_output_tokens = logits[len(input_ids) - 1:-1]\n",
    "    logprobs_for_output_tokens = torch.log_softmax(logits_for_output_tokens, dim=-1)\n",
    "    logprobs_for_sampled_output_tokens = logprobs_for_output_tokens[\n",
    "        torch.arange(logprobs_for_output_tokens.shape[0]),\n",
    "        completion_ids\n",
    "    ]\n",
    "\n",
    "    # visualized_tokens = outputs[0].cpu()[len(inputs['input_ids'][0].cpu()):]\n",
    "    visualized_tokens = input_and_completion_ids.cpu()\n",
    "    token_names = [\n",
    "        tokenizer.decode(torch.tensor([visualized_tokens[i]]))\n",
    "        for i in range(len(visualized_tokens))\n",
    "    ]\n",
    "\n",
    "    deflections = logprobs_for_sampled_output_tokens - baseline_logprobs_for_sampled_output_tokens\n",
    "\n",
    "    colors = torch.cat([torch.zeros_like(input_ids), deflections])\n",
    "\n",
    "    print(\"Average deflection:\", deflections.mean().item())\n",
    "    print(\"Worst deflection:\", deflections.min().item())\n",
    "    html = basic_neuron_vis_signed(token_names, colors, 1)\n",
    "    display(HTML(html))\n",
    "\n",
    "detach_hooks(model.model)\n",
    "\n"
   ]
  },
  {
   "cell_type": "markdown",
   "metadata": {},
   "source": [
    "# Viewing \"kernel\" of MLP intermediate states\n",
    "\n",
    "If there MLP intermediate states represent recall coefficients - with the MLP encoder representing detection, and the MLP decoder representing triggering of the new memory - we would expect that most MLP intermediate states would be 0 (as only a sparse number of \"memories\" should be activated at any given time), or that MLP intermediate states would be correlated with meaningful concepts. Let's test this hypothesis."
   ]
  },
  {
   "cell_type": "code",
   "execution_count": null,
   "metadata": {},
   "outputs": [],
   "source": [
    "def log_neurons(neurons, layer_idx):\n",
    "    if layer_idx == 0:\n",
    "        log.append([])\n",
    "\n",
    "    log[-1].append(neurons)\n",
    "    \n",
    "    return neurons\n",
    "\n",
    "attach_hooks(model.model, log_neurons)"
   ]
  },
  {
   "cell_type": "code",
   "execution_count": null,
   "metadata": {},
   "outputs": [],
   "source": [
    "log = []\n",
    "inputs, outputs, text = run_coding_sample_2(model, tokenizer)\n",
    "\n",
    "layer_id = 0\n",
    "\n",
    "all_mlp_activations = []\n",
    "for i in range(len(log)):\n",
    "    # log[forward pass index][layer index][batch index, token index in forward pass, mlp neuron index]\n",
    "    mlp_activations = log[i][layer_id][0, -1, :]\n",
    "    all_mlp_activations.append(mlp_activations)\n",
    "\n",
    "stacked = torch.stack(all_mlp_activations, dim=0)\n",
    "\n",
    "# Scale each MLP intermediate neuron by the maximum absolute value\n",
    "scale_by_dim = torch.max(stacked.abs(), dim=0, keepdims=True).values\n",
    "stacked_scaled = stacked / (scale_by_dim + 1e-5)\n"
   ]
  },
  {
   "cell_type": "code",
   "execution_count": null,
   "metadata": {},
   "outputs": [],
   "source": [
    "import matplotlib.pyplot as plt\n",
    "\n",
    "plt.title(\"MLP activations: Last Layer (Unscaled)\")\n",
    "plt.hist(stacked.view(-1).cpu(), bins=25)\n",
    "plt.xlabel(\"MLP activation level\")\n",
    "plt.yscale(\"log\")\n",
    "plt.ylabel(\"Frequency\")\n",
    "plt.show()\n",
    "\n",
    "plt.title(\"MLP activations: Last Layer (Scaled per dim.)\")\n",
    "plt.hist(stacked_scaled.view(-1).cpu(), bins=25)\n",
    "plt.xlabel(\"MLP activation level\")\n",
    "plt.yscale(\"log\")\n",
    "plt.ylabel(\"Frequency\")\n",
    "plt.show()"
   ]
  },
  {
   "cell_type": "markdown",
   "metadata": {},
   "source": [
    "## Interpretation\n",
    "\n",
    "It seems that MLP activations are very sparse. Therefore, it will hopefully be relatively simple to find meaningful MLP neurons to visualize.\n",
    "\n",
    "To automatically determine which MLP activations are most interesting, I will calculate the variance of the activations.\n"
   ]
  },
  {
   "cell_type": "code",
   "execution_count": null,
   "metadata": {},
   "outputs": [],
   "source": [
    "from neuron_visualization import basic_neuron_vis\n",
    "\n",
    "variance = stacked.var(dim=0)\n",
    "highest_to_lowest_variance = variance.argsort(descending=True)\n",
    "visualized_tokens = outputs[0].cpu()[len(inputs['input_ids'][0].cpu()):]\n",
    "\n",
    "token_names = [\n",
    "    tokenizer.decode(torch.tensor([visualized_tokens[i]]))\n",
    "    for i in range(len(visualized_tokens))\n",
    "]\n",
    "\n",
    "visualized_neurons = highest_to_lowest_variance[:100]\n",
    "\n",
    "for neuron_i in range(len(visualized_neurons)):\n",
    "    neuron_id = visualized_neurons[neuron_i]\n",
    "    html = basic_neuron_vis(token_names, stacked[:, neuron_id], layer=layer_id, neuron_index=neuron_id)\n",
    "    display(HTML(html))\n"
   ]
  },
  {
   "cell_type": "code",
   "execution_count": null,
   "metadata": {},
   "outputs": [],
   "source": []
  },
  {
   "cell_type": "code",
   "execution_count": null,
   "metadata": {},
   "outputs": [],
   "source": []
  }
 ],
 "metadata": {
  "kernelspec": {
   "display_name": "nlp-env",
   "language": "python",
   "name": "nlp-env"
  },
  "language_info": {
   "codemirror_mode": {
    "name": "ipython",
    "version": 3
   },
   "file_extension": ".py",
   "mimetype": "text/x-python",
   "name": "python",
   "nbconvert_exporter": "python",
   "pygments_lexer": "ipython3",
   "version": "3.8.18"
  }
 },
 "nbformat": 4,
 "nbformat_minor": 4
}
