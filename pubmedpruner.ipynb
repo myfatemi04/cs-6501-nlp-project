{
 "cells": [
  {
   "cell_type": "code",
   "execution_count": 1,
   "id": "2436b2a7-c303-40d9-b44d-76c266a96bc6",
   "metadata": {},
   "outputs": [],
   "source": [
    "%load_ext autoreload\n",
    "%autoreload 2\n",
    "# Set HuggingFace cache directory to scratch to save space.\n",
    "import os\n",
    "os.environ['HUGGINGFACE_HUB_CACHE'] = '/scratch/' + os.environ['USER'] + '/huggingface_cache'\n",
    "CACHE_DIR = '/scratch/' + os.environ['USER'] + '/huggingface_cache'\n",
    "# Optional; can help when memory is tight.\n",
    "# os.environ['PYTORCH_CUDA_ALLOC_CONF'] = 'expandable_segments:True'"
   ]
  },
  {
   "cell_type": "code",
   "execution_count": 2,
   "id": "88158aee-e3dd-4d32-b969-75c607807b00",
   "metadata": {
    "tags": []
   },
   "outputs": [
    {
     "data": {
      "application/vnd.jupyter.widget-view+json": {
       "model_id": "f0d52f73ab36434e904303c5668ff68a",
       "version_major": 2,
       "version_minor": 0
      },
      "text/plain": [
       "Loading checkpoint shards:   0%|          | 0/2 [00:00<?, ?it/s]"
      ]
     },
     "metadata": {},
     "output_type": "display_data"
    },
    {
     "name": "stderr",
     "output_type": "stream",
     "text": [
      "Special tokens have been added in the vocabulary, make sure the associated word embeddings are fine-tuned or trained.\n"
     ]
    }
   ],
   "source": [
    "import torch\n",
    "from transformers import AutoModelForCausalLM, AutoTokenizer\n",
    "\n",
    "model = AutoModelForCausalLM.from_pretrained(\"microsoft/phi-2\", torch_dtype=\"auto\", trust_remote_code=True).to('cuda')\n",
    "tokenizer = AutoTokenizer.from_pretrained(\"microsoft/phi-2\", trust_remote_code=True)\n",
    "tokenizer.pad_token_id = tokenizer.eos_token_id"
   ]
  },
  {
   "cell_type": "code",
   "execution_count": 23,
   "id": "06d12958-f254-4ce5-9ab2-188d3cc8ee65",
   "metadata": {
    "tags": []
   },
   "outputs": [],
   "source": [
    "import numpy as np\n",
    "\n",
    "\"\"\"\n",
    "from transformers.activations import ACT2FN\n",
    "\n",
    "class PhiMLP(nn.Module):\n",
    "    def __init__(self, config):\n",
    "        super().__init__()\n",
    "        self.config = config\n",
    "        self.activation_fn = ACT2FN[config.hidden_act]\n",
    "        self.fc1 = nn.Linear(config.hidden_size, config.intermediate_size)\n",
    "        self.fc2 = nn.Linear(config.intermediate_size, config.hidden_size)\n",
    "\n",
    "    def forward(self, hidden_states: torch.Tensor) -> torch.Tensor:\n",
    "        hidden_states = self.fc1(hidden_states)\n",
    "        hidden_states = self.activation_fn(hidden_states)\n",
    "        hidden_states = self.fc2(hidden_states)\n",
    "        return hidden_states\n",
    "\"\"\"\n",
    "\n",
    "sum_log = [\n",
    "    torch.zeros(10240, device='cuda') for _ in range(32)\n",
    "]\n",
    "sum_square_log = [\n",
    "    torch.zeros(10240, device='cuda') for _ in range(32)\n",
    "]\n",
    "count = [\n",
    "    0 for _ in range(32)\n",
    "]\n",
    "\n",
    "\n",
    "class LoggingMLP(torch.nn.Module):\n",
    "    def __init__(self, mlp, id):\n",
    "        super().__init__()\n",
    "        \n",
    "        self.mlp = mlp\n",
    "        self.id = id\n",
    "    \n",
    "    def forward(self, hidden_states: torch.Tensor):\n",
    "        \n",
    "        pre_activation = self.mlp.fc1(hidden_states)\n",
    "        activation = self.mlp.activation_fn(pre_activation)\n",
    "        \n",
    "        i = self.id\n",
    "        sum_log[i] += activation.sum(dim=(0, 1))\n",
    "        sum_square_log[i] += (activation ** 2).sum(dim=(0, 1))\n",
    "        count[i] += activation.shape[0] * activation.shape[1] # number of tokens it's seen\n",
    "        \n",
    "        return self.mlp.fc2(activation)\n",
    "    "
   ]
  },
  {
   "cell_type": "code",
   "execution_count": 11,
   "id": "87ab67f1-2bb9-435c-bdd8-be01614b1f17",
   "metadata": {
    "tags": []
   },
   "outputs": [],
   "source": [
    "# replace MLP layers\n",
    "original_mlps = [model.model.layers[i].mlp for i in range(len(model.model.layers))]"
   ]
  },
  {
   "cell_type": "code",
   "execution_count": 7,
   "id": "5e46cbae-5bfb-427b-85cb-51bf35eddecb",
   "metadata": {
    "tags": []
   },
   "outputs": [],
   "source": [
    "import json\n",
    "\n",
    "data = json.load(open(\"/scratch/gsk6me/pubmedqa/data/pqaa_dev_set.json\"))\n"
   ]
  },
  {
   "cell_type": "code",
   "execution_count": 24,
   "id": "fd51262b-f487-40d1-938c-6847d3e739cf",
   "metadata": {
    "tags": []
   },
   "outputs": [],
   "source": [
    "for mlp_i in range(len(model.model.layers)):\n",
    "    model.model.layers[mlp_i].mlp = LoggingMLP(original_mlps[mlp_i], mlp_i)"
   ]
  },
  {
   "cell_type": "code",
   "execution_count": 26,
   "id": "3be7c899-e9fb-4f4f-a951-f814a4bc8666",
   "metadata": {
    "tags": []
   },
   "outputs": [],
   "source": [
    "tokens = tokenizer(data['25344367']['QUESTION'], return_tensors='pt').to('cuda')\n",
    "_ = model(**tokens)"
   ]
  },
  {
   "cell_type": "code",
   "execution_count": 32,
   "id": "24df5a50-11a4-437b-8afc-6662f92bcd8e",
   "metadata": {
    "tags": []
   },
   "outputs": [],
   "source": [
    "variance = (sum_square_log[0] - sum_log[0]**2)/count[0]"
   ]
  },
  {
   "cell_type": "code",
   "execution_count": 34,
   "id": "b858cc26-cc9e-4a2f-9c8b-1ad1ec9473a6",
   "metadata": {
    "tags": []
   },
   "outputs": [
    {
     "data": {
      "image/png": "[encoded data removed]",
      "text/plain": [
       "<Figure size 640x480 with 1 Axes>"
      ]
     },
     "metadata": {},
     "output_type": "display_data"
    }
   ],
   "source": [
    "import matplotlib.pyplot as plt\n",
    "\n",
    "plt.hist(variance.log10().detach().cpu().numpy())\n",
    "plt.xlabel(\"log10 variance\")\n",
    "plt.show()\n"
   ]
  },
  {
   "cell_type": "code",
   "execution_count": null,
   "id": "f2fe5e34-f96c-4f1c-8359-6c8e3312ceba",
   "metadata": {},
   "outputs": [],
   "source": []
  }
 ],
 "metadata": {
  "kernelspec": {
   "display_name": "rvt",
   "language": "python",
   "name": "rvt"
  },
  "language_info": {
   "codemirror_mode": {
    "name": "ipython",
    "version": 3
   },
   "file_extension": ".py",
   "mimetype": "text/x-python",
   "name": "python",
   "nbconvert_exporter": "python",
   "pygments_lexer": "ipython3",
   "version": "3.8.18"
  }
 },
 "nbformat": 4,
 "nbformat_minor": 5
}
