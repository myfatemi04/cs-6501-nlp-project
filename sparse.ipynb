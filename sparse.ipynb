{
 "cells": [
  {
   "cell_type": "code",
   "execution_count": 1,
   "id": "218a105d-e8e0-4d29-af94-7660f484ff02",
   "metadata": {
    "tags": []
   },
   "outputs": [],
   "source": [
    "# Let's find some good sparse features we like.\n",
    "\n",
    "%load_ext autoreload\n",
    "%autoreload 2\n",
    "\n",
    "import os\n",
    "\n",
    "os.environ['HUGGINGFACE_HUB_CACHE'] = '/scratch/gsk6me/huggingface_cache'\n"
   ]
  },
  {
   "cell_type": "code",
   "execution_count": 2,
   "id": "422d9fc3-5304-46b6-b7cd-38643bf63358",
   "metadata": {
    "tags": []
   },
   "outputs": [
    {
     "name": "stdout",
     "output_type": "stream",
     "text": [
      "Loading 0\n",
      "Loading 1\n",
      "Loading 2\n",
      "Loading 3\n",
      "Loading 4\n",
      "Loading 5\n",
      "Loading 6\n",
      "Loading 7\n",
      "Loading 8\n",
      "Loading 9\n",
      "Loading 10\n",
      "Loading 11\n"
     ]
    }
   ],
   "source": [
    "import torch\n",
    "import blobfile as bf\n",
    "import transformer_lens\n",
    "import sparse_autoencoder\n",
    "\n",
    "# Load the autoencoders\n",
    "autoencoders = []\n",
    "\n",
    "for layer_index in range(12):\n",
    "    print(\"Loading\", layer_index)\n",
    "    autoencoder_input = [\"mlp_post_act\", \"resid_delta_mlp\"][0]\n",
    "    filename = f\"az://openaipublic/sparse-autoencoder/gpt2-small/{autoencoder_input}/autoencoders/{layer_index}.pt\"\n",
    "    with bf.BlobFile(filename, mode=\"rb\", streaming=False, cache_dir='/scratch/gsk6me/sae-gpt2-small-cache') as f:\n",
    "        state_dict = torch.load(f)\n",
    "    autoencoder = sparse_autoencoder.Autoencoder.from_state_dict(state_dict)\n",
    "    autoencoders.append(autoencoder.to('cuda'))\n"
   ]
  },
  {
   "cell_type": "code",
   "execution_count": 4,
   "id": "8de634f0-a773-40c4-9400-1bab58d5fb83",
   "metadata": {
    "tags": []
   },
   "outputs": [
    {
     "data": {
      "application/vnd.jupyter.widget-view+json": {
       "model_id": "2ccf09c74df848e9bd2edac9d844e990",
       "version_major": 2,
       "version_minor": 0
      },
      "text/plain": [
       "Resolving data files:   0%|          | 0/30 [00:00<?, ?it/s]"
      ]
     },
     "metadata": {},
     "output_type": "display_data"
    }
   ],
   "source": [
    "import datasets\n",
    "\n",
    "dataset_iterable = datasets.load_dataset(\"monology/pile-uncopyrighted\", streaming=True)\n"
   ]
  },
  {
   "cell_type": "code",
   "execution_count": 3,
   "id": "b8af9507-1574-487b-ac96-3203b498c6e1",
   "metadata": {
    "tags": []
   },
   "outputs": [
    {
     "name": "stdout",
     "output_type": "stream",
     "text": [
      "Loaded pretrained model gpt2 into HookedTransformer\n"
     ]
    }
   ],
   "source": [
    "model = transformer_lens.HookedTransformer.from_pretrained(\"gpt2\", center_writing_weights=False)"
   ]
  },
  {
   "cell_type": "code",
   "execution_count": 4,
   "id": "87d26c5a-e4a6-4739-8f00-15f2321c6334",
   "metadata": {
    "tags": []
   },
   "outputs": [],
   "source": [
    "@torch.no_grad()\n",
    "def get_sparse_features(prompt):\n",
    "    tokens = model.to_tokens(prompt)  # (1, n_tokens)\n",
    "    # print(model.to_str_tokens(tokens))\n",
    "    logits, activation_cache = model.run_with_cache(tokens, remove_batch_dim=True)\n",
    "        \n",
    "    # Encode neuron activations with the autoencoder\n",
    "    device = next(model.parameters()).device\n",
    "\n",
    "    latent_activations = []\n",
    "    for autoencoder in autoencoders:\n",
    "        if autoencoder_input == \"mlp_post_act\":\n",
    "            input_tensor = activation_cache[f\"blocks.{layer_index}.mlp.hook_post\"]  # (n_tokens, n_neurons)\n",
    "        elif autoencoder_input == \"resid_delta_mlp\":\n",
    "            input_tensor = activation_cache[f\"blocks.{layer_index}.hook_mlp_out\"]  # (n_tokens, n_residual_channels)\n",
    "\n",
    "        # (n_tokens, n_latents)\n",
    "        latent_activations.append(autoencoder.encode(input_tensor))\n",
    "        \n",
    "    del activation_cache\n",
    "    \n",
    "    return (tokens, torch.stack(latent_activations, dim=0))"
   ]
  },
  {
   "cell_type": "code",
   "execution_count": 6,
   "id": "821c00a6-f522-4315-9152-26d873dc8d2b",
   "metadata": {
    "tags": []
   },
   "outputs": [],
   "source": [
    "class ActivationCache:\n",
    "    def __init__(self, n_layers, n_features, top_k=100, window_size=16):\n",
    "        self.cutoffs = torch.zeros((n_layers, n_features), device='cuda')\n",
    "        self.top_k = top_k\n",
    "        self.highest = {}\n",
    "        self.window_size = window_size\n",
    "        \n",
    "    def update_helper(self, layer, feature, activation, window_tokens):\n",
    "        # returns the new cutoff if it needs to be made\n",
    "        index_name = f\"{layer}.{feature}\"\n",
    "        if index_name not in self.highest:\n",
    "            self.highest[index_name] = []\n",
    "        # find insertion point. i = number of values we were >=.\n",
    "        # highest is sorted in ascending order.\n",
    "        i = 0\n",
    "        while i < len(self.highest[index_name]):\n",
    "            compare_act = self.highest[index_name][i][0]\n",
    "            if activation < compare_act:\n",
    "                break\n",
    "            i += 1\n",
    "            \n",
    "        rank = len(self.highest[index_name]) - i + 1\n",
    "        if rank <= self.top_k:\n",
    "            self.highest[index_name].insert(i, (activation, window_tokens))\n",
    "        \n",
    "        extra = len(self.highest[index_name]) - self.top_k\n",
    "        if extra > 0:\n",
    "            new_cutoff = self.highest[index_name][extra][0]\n",
    "            self.highest[index_name] = self.highest[index_name][extra:]\n",
    "        else:\n",
    "            new_cutoff = self.cutoffs[layer, feature]\n",
    "        return new_cutoff\n",
    "        \n",
    "    def update(self, activations, tokens, instance):\n",
    "        best = activations.max(dim=1)\n",
    "        to_update = (best.values > self.cutoffs)\n",
    "        for (layer, feature) in torch.nonzero(to_update):\n",
    "            # store a window of 16 tokens before, 16 tokens at/after\n",
    "            index = best.indices[layer, feature]\n",
    "            activation = best.values[layer, feature]\n",
    "            window_start = max(0, index - self.window_size)\n",
    "            window_end = min(len(tokens), window_start + self.window_size)\n",
    "            window_tokens = tokens[window_start:window_end]\n",
    "            \n",
    "            self.cutoffs[layer, feature] = self.update_helper(layer, feature, activation, window_tokens)\n"
   ]
  },
  {
   "cell_type": "code",
   "execution_count": null,
   "id": "c2211d9b-dbde-4e6c-a4b1-4711d05a9edf",
   "metadata": {
    "tags": []
   },
   "outputs": [],
   "source": [
    "import time\n",
    "\n",
    "start = time.time()\n",
    "feats = get_sparse_features(instance['text'])\n",
    "end = time.time()\n",
    "print(end-start)"
   ]
  },
  {
   "cell_type": "code",
   "execution_count": 47,
   "id": "ea942dbb-8bcc-4b1c-8202-3b970fa29210",
   "metadata": {
    "tags": []
   },
   "outputs": [],
   "source": [
    "feats1 = feats[1].cuda()"
   ]
  },
  {
   "cell_type": "code",
   "execution_count": 49,
   "id": "f216157d-b80c-47a6-a7db-f31d0d99ce90",
   "metadata": {
    "tags": []
   },
   "outputs": [],
   "source": [
    "highest = feats1.max(dim=1)"
   ]
  },
  {
   "cell_type": "code",
   "execution_count": 56,
   "id": "df97db33-d87d-4a0e-8b8c-3818fd34ba16",
   "metadata": {
    "tags": []
   },
   "outputs": [
    {
     "data": {
      "text/plain": [
       "torch.Size([12, 32768])"
      ]
     },
     "execution_count": 56,
     "metadata": {},
     "output_type": "execute_result"
    }
   ],
   "source": [
    "highest.indices.shape"
   ]
  },
  {
   "cell_type": "code",
   "execution_count": 6,
   "id": "a70aebb4-fa2d-47b0-8895-05563664e25a",
   "metadata": {
    "tags": []
   },
   "outputs": [
    {
     "name": "stderr",
     "output_type": "stream",
     "text": [
      "Running inference: 100%|██████████| 83/83 [00:04<00:00, 20.39it/s]\n"
     ]
    }
   ],
   "source": [
    "import tqdm\n",
    "\n",
    "# Iterate through the dataset, caching top k activations for each feature.\n",
    "top_activations = 100\n",
    "# features = {}\n",
    "\n",
    "results = []\n",
    "\n",
    "# cache = ActivationCache(12, 32768)\n",
    "\n",
    "count = 0\n",
    "max_count = 16384\n",
    "\n",
    "sentences = open(\"example_sentences/chemistry.txt\").read().split(\"\\n\")\n",
    "max_count = len(sentences)\n",
    "\n",
    "for i, text in tqdm.tqdm(enumerate(sentences), desc='Running inference', total=max_count):\n",
    "    instance = {'text': text, 'meta': 'chemistry', 'index': i}\n",
    "    # Instance -> ['text', 'meta' -> 'pile_set_name']\n",
    "    tokens, feats = get_sparse_features(instance['text'])\n",
    "    \n",
    "    # Only do first 4 layers\n",
    "    results.append((tokens.cpu(), feats.cpu()[[0, 1, 2, 3]]))\n",
    "    \n",
    "    # if count >= max_count:\n",
    "    #     break"
   ]
  },
  {
   "cell_type": "code",
   "execution_count": 11,
   "id": "aae8fec5-1755-4b9c-934e-cec575c5d017",
   "metadata": {
    "tags": []
   },
   "outputs": [],
   "source": [
    "torch.save(results, \"example_sentences/chemistry_outputs.pt\")"
   ]
  },
  {
   "cell_type": "code",
   "execution_count": 7,
   "id": "f90895d5-059b-4f0d-b8c3-ea95b828d243",
   "metadata": {
    "tags": []
   },
   "outputs": [
    {
     "name": "stdout",
     "output_type": "stream",
     "text": [
      "Loaded pretrained model gpt2 into HookedTransformer\n",
      "['<|endoftext|>', 'Expl', 'oring', ' SL', 'AM', ' techniques', ' to', ' allow', ' for', ' race', 'car', ' to', ' better', ' perceive', ' its', ' position', ' in', ' relation', ' to', ' the', ' environment', '.', ' Working', ' on', ' improving', ' route', ' planning', ' for', ' race', 'car', ' throughout', ' the', ' track', '.']\n"
     ]
    }
   ],
   "source": [
    "# Extract neuron activations with transformer_lens\n",
    "model = transformer_lens.HookedTransformer.from_pretrained(\"gpt2\", center_writing_weights=False)\n",
    "prompt = \"Exploring SLAM techniques to allow for racecar to better perceive its position in relation to the environment. Working on improving route planning for racecar throughout the track.\"\n",
    "tokens = model.to_tokens(prompt)  # (1, n_tokens)\n",
    "print(model.to_str_tokens(tokens))\n",
    "with torch.no_grad():\n",
    "    logits, activation_cache = model.run_with_cache(tokens, remove_batch_dim=True)\n",
    "\n",
    "latent_activations = []\n",
    "for autoencoder in autoencoders:\n",
    "    if autoencoder_input == \"mlp_post_act\":\n",
    "        input_tensor = activation_cache[f\"blocks.{layer_index}.mlp.hook_post\"]  # (n_tokens, n_neurons)\n",
    "    elif autoencoder_input == \"resid_delta_mlp\":\n",
    "        input_tensor = activation_cache[f\"blocks.{layer_index}.hook_mlp_out\"]  # (n_tokens, n_residual_channels)\n",
    "\n",
    "    # Encode neuron activations with the autoencoder\n",
    "    device = next(model.parameters()).device\n",
    "    autoencoder.to(device)\n",
    "    with torch.no_grad():\n",
    "        acts = autoencoder.encode(input_tensor)  # (n_tokens, n_latents)\n",
    "        latent_activations.append(acts)"
   ]
  },
  {
   "cell_type": "code",
   "execution_count": 20,
   "id": "08aa0e10-429c-4e66-a35e-af97649dad51",
   "metadata": {
    "tags": []
   },
   "outputs": [
    {
     "name": "stdout",
     "output_type": "stream",
     "text": [
      "Layer 0\n"
     ]
    },
    {
     "data": {
      "text/html": [
       "<pre style='color: black'><span class='token' style='background-color:rgb(240.0, 240, 240.0)'><|endoftext|></span><span class='token' style='background-color:rgb(240.0, 240, 240.0)'>Expl</span><span class='token' style='background-color:rgb(238.97360229492188, 240, 238.97360229492188)'>oring</span><span class='token' style='background-color:rgb(240.0, 240, 240.0)'>&nbsp;SL</span><span class='token' style='background-color:rgb(240.0, 240, 240.0)'>AM</span><span class='token' style='background-color:rgb(240.0, 240, 240.0)'>&nbsp;techniques</span><span class='token' style='background-color:rgb(240.0, 240, 240.0)'>&nbsp;to</span><span class='token' style='background-color:rgb(238.97084045410156, 240, 238.97084045410156)'>&nbsp;allow</span><span class='token' style='background-color:rgb(237.7671356201172, 240, 237.7671356201172)'>&nbsp;for</span><span class='token' style='background-color:rgb(240.0, 240, 240.0)'>&nbsp;race</span><span class='token' style='background-color:rgb(230.67935180664062, 240, 230.67935180664062)'>car</span><span class='token' style='background-color:rgb(240.0, 240, 240.0)'>&nbsp;to</span><span class='token' style='background-color:rgb(240.0, 240, 240.0)'>&nbsp;better</span><span class='token' style='background-color:rgb(237.30162048339844, 240, 237.30162048339844)'>&nbsp;perceive</span><span class='token' style='background-color:rgb(240.0, 240, 240.0)'>&nbsp;its</span><span class='token' style='background-color:rgb(240.0, 240, 240.0)'>&nbsp;position</span><span class='token' style='background-color:rgb(240.0, 240, 240.0)'>&nbsp;in</span><span class='token' style='background-color:rgb(97.2042007446289, 240, 97.2042007446289)'>&nbsp;relation</span><span class='token' style='background-color:rgb(240.0, 240, 240.0)'>&nbsp;to</span><span class='token' style='background-color:rgb(240.0, 240, 240.0)'>&nbsp;the</span><span class='token' style='background-color:rgb(240.0, 240, 240.0)'>&nbsp;environment</span><span class='token' style='background-color:rgb(240.0, 240, 240.0)'>.</span><span class='token' style='background-color:rgb(240.0, 240, 240.0)'>&nbsp;Working</span><span class='token' style='background-color:rgb(240.0, 240, 240.0)'>&nbsp;on</span><span class='token' style='background-color:rgb(240.0, 240, 240.0)'>&nbsp;improving</span><span class='token' style='background-color:rgb(240.0, 240, 240.0)'>&nbsp;route</span><span class='token' style='background-color:rgb(240.0, 240, 240.0)'>&nbsp;planning</span><span class='token' style='background-color:rgb(240.0, 240, 240.0)'>&nbsp;for</span><span class='token' style='background-color:rgb(240.0, 240, 240.0)'>&nbsp;race</span><span class='token' style='background-color:rgb(230.39878845214844, 240, 230.39878845214844)'>car</span><span class='token' style='background-color:rgb(240.0, 240, 240.0)'>&nbsp;throughout</span><span class='token' style='background-color:rgb(240.0, 240, 240.0)'>&nbsp;the</span><span class='token' style='background-color:rgb(240.0, 240, 240.0)'>&nbsp;track</span><span class='token' style='background-color:rgb(240.0, 240, 240.0)'>.</span></pre>"
      ],
      "text/plain": [
       "<IPython.core.display.HTML object>"
      ]
     },
     "metadata": {},
     "output_type": "display_data"
    },
    {
     "name": "stdout",
     "output_type": "stream",
     "text": [
      "Layer 1\n"
     ]
    },
    {
     "data": {
      "text/html": [
       "<pre style='color: black'><span class='token' style='background-color:rgb(240.0, 240, 240.0)'><|endoftext|></span><span class='token' style='background-color:rgb(240.0, 240, 240.0)'>Expl</span><span class='token' style='background-color:rgb(168.14035034179688, 240, 168.14035034179688)'>oring</span><span class='token' style='background-color:rgb(240.0, 240, 240.0)'>&nbsp;SL</span><span class='token' style='background-color:rgb(240.0, 240, 240.0)'>AM</span><span class='token' style='background-color:rgb(165.32815551757812, 240, 165.32815551757812)'>&nbsp;techniques</span><span class='token' style='background-color:rgb(113.48741149902344, 240, 113.48741149902344)'>&nbsp;to</span><span class='token' style='background-color:rgb(175.42190551757812, 240, 175.42190551757812)'>&nbsp;allow</span><span class='token' style='background-color:rgb(167.94656372070312, 240, 167.94656372070312)'>&nbsp;for</span><span class='token' style='background-color:rgb(240.0, 240, 240.0)'>&nbsp;race</span><span class='token' style='background-color:rgb(239.00469970703125, 240, 239.00469970703125)'>car</span><span class='token' style='background-color:rgb(240.0, 240, 240.0)'>&nbsp;to</span><span class='token' style='background-color:rgb(168.69515991210938, 240, 168.69515991210938)'>&nbsp;better</span><span class='token' style='background-color:rgb(168.85952758789062, 240, 168.85952758789062)'>&nbsp;perceive</span><span class='token' style='background-color:rgb(182.77847290039062, 240, 182.77847290039062)'>&nbsp;its</span><span class='token' style='background-color:rgb(211.78683471679688, 240, 211.78683471679688)'>&nbsp;position</span><span class='token' style='background-color:rgb(208.72801208496094, 240, 208.72801208496094)'>&nbsp;in</span><span class='token' style='background-color:rgb(240.0, 240, 240.0)'>&nbsp;relation</span><span class='token' style='background-color:rgb(189.0652618408203, 240, 189.0652618408203)'>&nbsp;to</span><span class='token' style='background-color:rgb(183.60935974121094, 240, 183.60935974121094)'>&nbsp;the</span><span class='token' style='background-color:rgb(216.4328155517578, 240, 216.4328155517578)'>&nbsp;environment</span><span class='token' style='background-color:rgb(227.12506103515625, 240, 227.12506103515625)'>.</span><span class='token' style='background-color:rgb(227.6492156982422, 240, 227.6492156982422)'>&nbsp;Working</span><span class='token' style='background-color:rgb(192.73387145996094, 240, 192.73387145996094)'>&nbsp;on</span><span class='token' style='background-color:rgb(188.56744384765625, 240, 188.56744384765625)'>&nbsp;improving</span><span class='token' style='background-color:rgb(240.0, 240, 240.0)'>&nbsp;route</span><span class='token' style='background-color:rgb(195.55792236328125, 240, 195.55792236328125)'>&nbsp;planning</span><span class='token' style='background-color:rgb(177.22459411621094, 240, 177.22459411621094)'>&nbsp;for</span><span class='token' style='background-color:rgb(240.0, 240, 240.0)'>&nbsp;race</span><span class='token' style='background-color:rgb(196.6727294921875, 240, 196.6727294921875)'>car</span><span class='token' style='background-color:rgb(208.67425537109375, 240, 208.67425537109375)'>&nbsp;throughout</span><span class='token' style='background-color:rgb(185.19686889648438, 240, 185.19686889648438)'>&nbsp;the</span><span class='token' style='background-color:rgb(240.0, 240, 240.0)'>&nbsp;track</span><span class='token' style='background-color:rgb(205.2242889404297, 240, 205.2242889404297)'>.</span></pre>"
      ],
      "text/plain": [
       "<IPython.core.display.HTML object>"
      ]
     },
     "metadata": {},
     "output_type": "display_data"
    },
    {
     "name": "stdout",
     "output_type": "stream",
     "text": [
      "Layer 2\n"
     ]
    },
    {
     "data": {
      "text/html": [
       "<pre style='color: black'><span class='token' style='background-color:rgb(238.64244079589844, 240, 238.64244079589844)'><|endoftext|></span><span class='token' style='background-color:rgb(233.95941162109375, 240, 233.95941162109375)'>Expl</span><span class='token' style='background-color:rgb(237.4183349609375, 240, 237.4183349609375)'>oring</span><span class='token' style='background-color:rgb(236.88555908203125, 240, 236.88555908203125)'>&nbsp;SL</span><span class='token' style='background-color:rgb(238.833251953125, 240, 238.833251953125)'>AM</span><span class='token' style='background-color:rgb(239.19903564453125, 240, 239.19903564453125)'>&nbsp;techniques</span><span class='token' style='background-color:rgb(240.0, 240, 240.0)'>&nbsp;to</span><span class='token' style='background-color:rgb(236.666748046875, 240, 236.666748046875)'>&nbsp;allow</span><span class='token' style='background-color:rgb(239.83697509765625, 240, 239.83697509765625)'>&nbsp;for</span><span class='token' style='background-color:rgb(235.50611877441406, 240, 235.50611877441406)'>&nbsp;race</span><span class='token' style='background-color:rgb(223.5533447265625, 240, 223.5533447265625)'>car</span><span class='token' style='background-color:rgb(237.88343811035156, 240, 237.88343811035156)'>&nbsp;to</span><span class='token' style='background-color:rgb(239.71498107910156, 240, 239.71498107910156)'>&nbsp;better</span><span class='token' style='background-color:rgb(240.0, 240, 240.0)'>&nbsp;perceive</span><span class='token' style='background-color:rgb(240.0, 240, 240.0)'>&nbsp;its</span><span class='token' style='background-color:rgb(239.2642364501953, 240, 239.2642364501953)'>&nbsp;position</span><span class='token' style='background-color:rgb(239.92254638671875, 240, 239.92254638671875)'>&nbsp;in</span><span class='token' style='background-color:rgb(103.3228530883789, 240, 103.3228530883789)'>&nbsp;relation</span><span class='token' style='background-color:rgb(237.67994689941406, 240, 237.67994689941406)'>&nbsp;to</span><span class='token' style='background-color:rgb(235.97732543945312, 240, 235.97732543945312)'>&nbsp;the</span><span class='token' style='background-color:rgb(237.8863983154297, 240, 237.8863983154297)'>&nbsp;environment</span><span class='token' style='background-color:rgb(240.0, 240, 240.0)'>.</span><span class='token' style='background-color:rgb(240.0, 240, 240.0)'>&nbsp;Working</span><span class='token' style='background-color:rgb(239.08218383789062, 240, 239.08218383789062)'>&nbsp;on</span><span class='token' style='background-color:rgb(237.51780700683594, 240, 237.51780700683594)'>&nbsp;improving</span><span class='token' style='background-color:rgb(239.1616973876953, 240, 239.1616973876953)'>&nbsp;route</span><span class='token' style='background-color:rgb(239.6617889404297, 240, 239.6617889404297)'>&nbsp;planning</span><span class='token' style='background-color:rgb(237.8390350341797, 240, 237.8390350341797)'>&nbsp;for</span><span class='token' style='background-color:rgb(240.0, 240, 240.0)'>&nbsp;race</span><span class='token' style='background-color:rgb(222.1583251953125, 240, 222.1583251953125)'>car</span><span class='token' style='background-color:rgb(237.05088806152344, 240, 237.05088806152344)'>&nbsp;throughout</span><span class='token' style='background-color:rgb(235.11929321289062, 240, 235.11929321289062)'>&nbsp;the</span><span class='token' style='background-color:rgb(238.2100372314453, 240, 238.2100372314453)'>&nbsp;track</span><span class='token' style='background-color:rgb(240.0, 240, 240.0)'>.</span></pre>"
      ],
      "text/plain": [
       "<IPython.core.display.HTML object>"
      ]
     },
     "metadata": {},
     "output_type": "display_data"
    },
    {
     "name": "stdout",
     "output_type": "stream",
     "text": [
      "Layer 3\n"
     ]
    },
    {
     "data": {
      "text/html": [
       "<pre style='color: black'><span class='token' style='background-color:rgb(219.31491088867188, 240, 219.31491088867188)'><|endoftext|></span><span class='token' style='background-color:rgb(85.62574005126953, 240, 85.62574005126953)'>Expl</span><span class='token' style='background-color:rgb(142.5146026611328, 240, 142.5146026611328)'>oring</span><span class='token' style='background-color:rgb(146.49102783203125, 240, 146.49102783203125)'>&nbsp;SL</span><span class='token' style='background-color:rgb(140.9729461669922, 240, 140.9729461669922)'>AM</span><span class='token' style='background-color:rgb(117.85298919677734, 240, 117.85298919677734)'>&nbsp;techniques</span><span class='token' style='background-color:rgb(150.84719848632812, 240, 150.84719848632812)'>&nbsp;to</span><span class='token' style='background-color:rgb(138.71180725097656, 240, 138.71180725097656)'>&nbsp;allow</span><span class='token' style='background-color:rgb(148.84974670410156, 240, 148.84974670410156)'>&nbsp;for</span><span class='token' style='background-color:rgb(168.59719848632812, 240, 168.59719848632812)'>&nbsp;race</span><span class='token' style='background-color:rgb(170.65892028808594, 240, 170.65892028808594)'>car</span><span class='token' style='background-color:rgb(146.35061645507812, 240, 146.35061645507812)'>&nbsp;to</span><span class='token' style='background-color:rgb(164.54373168945312, 240, 164.54373168945312)'>&nbsp;better</span><span class='token' style='background-color:rgb(159.80567932128906, 240, 159.80567932128906)'>&nbsp;perceive</span><span class='token' style='background-color:rgb(177.6029815673828, 240, 177.6029815673828)'>&nbsp;its</span><span class='token' style='background-color:rgb(151.03956604003906, 240, 151.03956604003906)'>&nbsp;position</span><span class='token' style='background-color:rgb(152.93789672851562, 240, 152.93789672851562)'>&nbsp;in</span><span class='token' style='background-color:rgb(159.85227966308594, 240, 159.85227966308594)'>&nbsp;relation</span><span class='token' style='background-color:rgb(161.5321044921875, 240, 161.5321044921875)'>&nbsp;to</span><span class='token' style='background-color:rgb(176.0652313232422, 240, 176.0652313232422)'>&nbsp;the</span><span class='token' style='background-color:rgb(125.7823257446289, 240, 125.7823257446289)'>&nbsp;environment</span><span class='token' style='background-color:rgb(140.60272216796875, 240, 140.60272216796875)'>.</span><span class='token' style='background-color:rgb(148.91297912597656, 240, 148.91297912597656)'>&nbsp;Working</span><span class='token' style='background-color:rgb(141.77992248535156, 240, 141.77992248535156)'>&nbsp;on</span><span class='token' style='background-color:rgb(157.34921264648438, 240, 157.34921264648438)'>&nbsp;improving</span><span class='token' style='background-color:rgb(188.0824737548828, 240, 188.0824737548828)'>&nbsp;route</span><span class='token' style='background-color:rgb(137.77828979492188, 240, 137.77828979492188)'>&nbsp;planning</span><span class='token' style='background-color:rgb(156.9195098876953, 240, 156.9195098876953)'>&nbsp;for</span><span class='token' style='background-color:rgb(179.6917266845703, 240, 179.6917266845703)'>&nbsp;race</span><span class='token' style='background-color:rgb(162.52200317382812, 240, 162.52200317382812)'>car</span><span class='token' style='background-color:rgb(140.22593688964844, 240, 140.22593688964844)'>&nbsp;throughout</span><span class='token' style='background-color:rgb(135.70042419433594, 240, 135.70042419433594)'>&nbsp;the</span><span class='token' style='background-color:rgb(135.180419921875, 240, 135.180419921875)'>&nbsp;track</span><span class='token' style='background-color:rgb(164.9499969482422, 240, 164.9499969482422)'>.</span></pre>"
      ],
      "text/plain": [
       "<IPython.core.display.HTML object>"
      ]
     },
     "metadata": {},
     "output_type": "display_data"
    },
    {
     "name": "stdout",
     "output_type": "stream",
     "text": [
      "Layer 4\n"
     ]
    },
    {
     "data": {
      "text/html": [
       "<pre style='color: black'><span class='token' style='background-color:rgb(223.8743896484375, 240, 223.8743896484375)'><|endoftext|></span><span class='token' style='background-color:rgb(103.65628051757812, 240, 103.65628051757812)'>Expl</span><span class='token' style='background-color:rgb(150.4649658203125, 240, 150.4649658203125)'>oring</span><span class='token' style='background-color:rgb(158.40003967285156, 240, 158.40003967285156)'>&nbsp;SL</span><span class='token' style='background-color:rgb(148.09124755859375, 240, 148.09124755859375)'>AM</span><span class='token' style='background-color:rgb(128.1710968017578, 240, 128.1710968017578)'>&nbsp;techniques</span><span class='token' style='background-color:rgb(168.85003662109375, 240, 168.85003662109375)'>&nbsp;to</span><span class='token' style='background-color:rgb(152.35585021972656, 240, 152.35585021972656)'>&nbsp;allow</span><span class='token' style='background-color:rgb(160.41644287109375, 240, 160.41644287109375)'>&nbsp;for</span><span class='token' style='background-color:rgb(179.9312286376953, 240, 179.9312286376953)'>&nbsp;race</span><span class='token' style='background-color:rgb(181.36300659179688, 240, 181.36300659179688)'>car</span><span class='token' style='background-color:rgb(165.89247131347656, 240, 165.89247131347656)'>&nbsp;to</span><span class='token' style='background-color:rgb(181.94358825683594, 240, 181.94358825683594)'>&nbsp;better</span><span class='token' style='background-color:rgb(173.33802795410156, 240, 173.33802795410156)'>&nbsp;perceive</span><span class='token' style='background-color:rgb(189.5267333984375, 240, 189.5267333984375)'>&nbsp;its</span><span class='token' style='background-color:rgb(166.05081176757812, 240, 166.05081176757812)'>&nbsp;position</span><span class='token' style='background-color:rgb(160.60911560058594, 240, 160.60911560058594)'>&nbsp;in</span><span class='token' style='background-color:rgb(170.08706665039062, 240, 170.08706665039062)'>&nbsp;relation</span><span class='token' style='background-color:rgb(173.79824829101562, 240, 173.79824829101562)'>&nbsp;to</span><span class='token' style='background-color:rgb(185.87826538085938, 240, 185.87826538085938)'>&nbsp;the</span><span class='token' style='background-color:rgb(135.87930297851562, 240, 135.87930297851562)'>&nbsp;environment</span><span class='token' style='background-color:rgb(143.65660095214844, 240, 143.65660095214844)'>.</span><span class='token' style='background-color:rgb(158.67138671875, 240, 158.67138671875)'>&nbsp;Working</span><span class='token' style='background-color:rgb(152.57989501953125, 240, 152.57989501953125)'>&nbsp;on</span><span class='token' style='background-color:rgb(170.7048797607422, 240, 170.7048797607422)'>&nbsp;improving</span><span class='token' style='background-color:rgb(198.4451446533203, 240, 198.4451446533203)'>&nbsp;route</span><span class='token' style='background-color:rgb(149.16400146484375, 240, 149.16400146484375)'>&nbsp;planning</span><span class='token' style='background-color:rgb(163.33465576171875, 240, 163.33465576171875)'>&nbsp;for</span><span class='token' style='background-color:rgb(187.59805297851562, 240, 187.59805297851562)'>&nbsp;race</span><span class='token' style='background-color:rgb(172.1857452392578, 240, 172.1857452392578)'>car</span><span class='token' style='background-color:rgb(148.75038146972656, 240, 148.75038146972656)'>&nbsp;throughout</span><span class='token' style='background-color:rgb(140.2937774658203, 240, 140.2937774658203)'>&nbsp;the</span><span class='token' style='background-color:rgb(149.74317932128906, 240, 149.74317932128906)'>&nbsp;track</span><span class='token' style='background-color:rgb(165.47100830078125, 240, 165.47100830078125)'>.</span></pre>"
      ],
      "text/plain": [
       "<IPython.core.display.HTML object>"
      ]
     },
     "metadata": {},
     "output_type": "display_data"
    },
    {
     "name": "stdout",
     "output_type": "stream",
     "text": [
      "Layer 5\n"
     ]
    },
    {
     "data": {
      "text/html": [
       "<pre style='color: black'><span class='token' style='background-color:rgb(218.9592742919922, 240, 218.9592742919922)'><|endoftext|></span><span class='token' style='background-color:rgb(90.77375030517578, 240, 90.77375030517578)'>Expl</span><span class='token' style='background-color:rgb(146.18280029296875, 240, 146.18280029296875)'>oring</span><span class='token' style='background-color:rgb(147.37371826171875, 240, 147.37371826171875)'>&nbsp;SL</span><span class='token' style='background-color:rgb(142.18038940429688, 240, 142.18038940429688)'>AM</span><span class='token' style='background-color:rgb(118.37322235107422, 240, 118.37322235107422)'>&nbsp;techniques</span><span class='token' style='background-color:rgb(158.23516845703125, 240, 158.23516845703125)'>&nbsp;to</span><span class='token' style='background-color:rgb(146.47967529296875, 240, 146.47967529296875)'>&nbsp;allow</span><span class='token' style='background-color:rgb(156.57688903808594, 240, 156.57688903808594)'>&nbsp;for</span><span class='token' style='background-color:rgb(176.7492218017578, 240, 176.7492218017578)'>&nbsp;race</span><span class='token' style='background-color:rgb(183.63455200195312, 240, 183.63455200195312)'>car</span><span class='token' style='background-color:rgb(158.01332092285156, 240, 158.01332092285156)'>&nbsp;to</span><span class='token' style='background-color:rgb(171.27182006835938, 240, 171.27182006835938)'>&nbsp;better</span><span class='token' style='background-color:rgb(167.80165100097656, 240, 167.80165100097656)'>&nbsp;perceive</span><span class='token' style='background-color:rgb(181.83067321777344, 240, 181.83067321777344)'>&nbsp;its</span><span class='token' style='background-color:rgb(152.34738159179688, 240, 152.34738159179688)'>&nbsp;position</span><span class='token' style='background-color:rgb(163.66970825195312, 240, 163.66970825195312)'>&nbsp;in</span><span class='token' style='background-color:rgb(167.70986938476562, 240, 167.70986938476562)'>&nbsp;relation</span><span class='token' style='background-color:rgb(170.0622100830078, 240, 170.0622100830078)'>&nbsp;to</span><span class='token' style='background-color:rgb(183.26634216308594, 240, 183.26634216308594)'>&nbsp;the</span><span class='token' style='background-color:rgb(127.87942504882812, 240, 127.87942504882812)'>&nbsp;environment</span><span class='token' style='background-color:rgb(141.9921875, 240, 141.9921875)'>.</span><span class='token' style='background-color:rgb(154.98733520507812, 240, 154.98733520507812)'>&nbsp;Working</span><span class='token' style='background-color:rgb(151.04086303710938, 240, 151.04086303710938)'>&nbsp;on</span><span class='token' style='background-color:rgb(165.38661193847656, 240, 165.38661193847656)'>&nbsp;improving</span><span class='token' style='background-color:rgb(196.13790893554688, 240, 196.13790893554688)'>&nbsp;route</span><span class='token' style='background-color:rgb(145.1390380859375, 240, 145.1390380859375)'>&nbsp;planning</span><span class='token' style='background-color:rgb(167.22756958007812, 240, 167.22756958007812)'>&nbsp;for</span><span class='token' style='background-color:rgb(185.16102600097656, 240, 185.16102600097656)'>&nbsp;race</span><span class='token' style='background-color:rgb(171.04750061035156, 240, 171.04750061035156)'>car</span><span class='token' style='background-color:rgb(148.07452392578125, 240, 148.07452392578125)'>&nbsp;throughout</span><span class='token' style='background-color:rgb(143.6789093017578, 240, 143.6789093017578)'>&nbsp;the</span><span class='token' style='background-color:rgb(141.7491455078125, 240, 141.7491455078125)'>&nbsp;track</span><span class='token' style='background-color:rgb(166.2952423095703, 240, 166.2952423095703)'>.</span></pre>"
      ],
      "text/plain": [
       "<IPython.core.display.HTML object>"
      ]
     },
     "metadata": {},
     "output_type": "display_data"
    },
    {
     "name": "stdout",
     "output_type": "stream",
     "text": [
      "Layer 6\n"
     ]
    },
    {
     "data": {
      "text/html": [
       "<pre style='color: black'><span class='token' style='background-color:rgb(240.0, 240, 240.0)'><|endoftext|></span><span class='token' style='background-color:rgb(240.0, 240, 240.0)'>Expl</span><span class='token' style='background-color:rgb(143.593017578125, 240, 143.593017578125)'>oring</span><span class='token' style='background-color:rgb(240.0, 240, 240.0)'>&nbsp;SL</span><span class='token' style='background-color:rgb(240.0, 240, 240.0)'>AM</span><span class='token' style='background-color:rgb(145.1350555419922, 240, 145.1350555419922)'>&nbsp;techniques</span><span class='token' style='background-color:rgb(81.08995819091797, 240, 81.08995819091797)'>&nbsp;to</span><span class='token' style='background-color:rgb(157.453125, 240, 157.453125)'>&nbsp;allow</span><span class='token' style='background-color:rgb(154.4483184814453, 240, 154.4483184814453)'>&nbsp;for</span><span class='token' style='background-color:rgb(239.55931091308594, 240, 239.55931091308594)'>&nbsp;race</span><span class='token' style='background-color:rgb(233.18780517578125, 240, 233.18780517578125)'>car</span><span class='token' style='background-color:rgb(240.0, 240, 240.0)'>&nbsp;to</span><span class='token' style='background-color:rgb(144.48809814453125, 240, 144.48809814453125)'>&nbsp;better</span><span class='token' style='background-color:rgb(149.19659423828125, 240, 149.19659423828125)'>&nbsp;perceive</span><span class='token' style='background-color:rgb(170.44012451171875, 240, 170.44012451171875)'>&nbsp;its</span><span class='token' style='background-color:rgb(203.8179931640625, 240, 203.8179931640625)'>&nbsp;position</span><span class='token' style='background-color:rgb(201.06588745117188, 240, 201.06588745117188)'>&nbsp;in</span><span class='token' style='background-color:rgb(239.55645751953125, 240, 239.55645751953125)'>&nbsp;relation</span><span class='token' style='background-color:rgb(179.25865173339844, 240, 179.25865173339844)'>&nbsp;to</span><span class='token' style='background-color:rgb(173.85440063476562, 240, 173.85440063476562)'>&nbsp;the</span><span class='token' style='background-color:rgb(211.05299377441406, 240, 211.05299377441406)'>&nbsp;environment</span><span class='token' style='background-color:rgb(227.3638458251953, 240, 227.3638458251953)'>.</span><span class='token' style='background-color:rgb(221.46328735351562, 240, 221.46328735351562)'>&nbsp;Working</span><span class='token' style='background-color:rgb(179.98463439941406, 240, 179.98463439941406)'>&nbsp;on</span><span class='token' style='background-color:rgb(176.38809204101562, 240, 176.38809204101562)'>&nbsp;improving</span><span class='token' style='background-color:rgb(239.1594696044922, 240, 239.1594696044922)'>&nbsp;route</span><span class='token' style='background-color:rgb(181.53514099121094, 240, 181.53514099121094)'>&nbsp;planning</span><span class='token' style='background-color:rgb(160.38450622558594, 240, 160.38450622558594)'>&nbsp;for</span><span class='token' style='background-color:rgb(240.0, 240, 240.0)'>&nbsp;race</span><span class='token' style='background-color:rgb(192.26248168945312, 240, 192.26248168945312)'>car</span><span class='token' style='background-color:rgb(202.52806091308594, 240, 202.52806091308594)'>&nbsp;throughout</span><span class='token' style='background-color:rgb(174.50392150878906, 240, 174.50392150878906)'>&nbsp;the</span><span class='token' style='background-color:rgb(240.0, 240, 240.0)'>&nbsp;track</span><span class='token' style='background-color:rgb(196.44570922851562, 240, 196.44570922851562)'>.</span></pre>"
      ],
      "text/plain": [
       "<IPython.core.display.HTML object>"
      ]
     },
     "metadata": {},
     "output_type": "display_data"
    },
    {
     "name": "stdout",
     "output_type": "stream",
     "text": [
      "Layer 7\n"
     ]
    },
    {
     "data": {
      "text/html": [
       "<pre style='color: black'><span class='token' style='background-color:rgb(240.0, 240, 240.0)'><|endoftext|></span><span class='token' style='background-color:rgb(240.0, 240, 240.0)'>Expl</span><span class='token' style='background-color:rgb(147.1107940673828, 240, 147.1107940673828)'>oring</span><span class='token' style='background-color:rgb(239.81695556640625, 240, 239.81695556640625)'>&nbsp;SL</span><span class='token' style='background-color:rgb(238.78750610351562, 240, 238.78750610351562)'>AM</span><span class='token' style='background-color:rgb(145.27276611328125, 240, 145.27276611328125)'>&nbsp;techniques</span><span class='token' style='background-color:rgb(89.9222412109375, 240, 89.9222412109375)'>&nbsp;to</span><span class='token' style='background-color:rgb(160.2499237060547, 240, 160.2499237060547)'>&nbsp;allow</span><span class='token' style='background-color:rgb(158.1653594970703, 240, 158.1653594970703)'>&nbsp;for</span><span class='token' style='background-color:rgb(240.0, 240, 240.0)'>&nbsp;race</span><span class='token' style='background-color:rgb(233.4239044189453, 240, 233.4239044189453)'>car</span><span class='token' style='background-color:rgb(240.0, 240, 240.0)'>&nbsp;to</span><span class='token' style='background-color:rgb(149.11004638671875, 240, 149.11004638671875)'>&nbsp;better</span><span class='token' style='background-color:rgb(151.2294921875, 240, 151.2294921875)'>&nbsp;perceive</span><span class='token' style='background-color:rgb(172.00778198242188, 240, 172.00778198242188)'>&nbsp;its</span><span class='token' style='background-color:rgb(203.30690002441406, 240, 203.30690002441406)'>&nbsp;position</span><span class='token' style='background-color:rgb(200.86920166015625, 240, 200.86920166015625)'>&nbsp;in</span><span class='token' style='background-color:rgb(239.70787048339844, 240, 239.70787048339844)'>&nbsp;relation</span><span class='token' style='background-color:rgb(181.6053009033203, 240, 181.6053009033203)'>&nbsp;to</span><span class='token' style='background-color:rgb(177.04876708984375, 240, 177.04876708984375)'>&nbsp;the</span><span class='token' style='background-color:rgb(211.7828826904297, 240, 211.7828826904297)'>&nbsp;environment</span><span class='token' style='background-color:rgb(226.5409393310547, 240, 226.5409393310547)'>.</span><span class='token' style='background-color:rgb(218.79486083984375, 240, 218.79486083984375)'>&nbsp;Working</span><span class='token' style='background-color:rgb(182.74681091308594, 240, 182.74681091308594)'>&nbsp;on</span><span class='token' style='background-color:rgb(178.37245178222656, 240, 178.37245178222656)'>&nbsp;improving</span><span class='token' style='background-color:rgb(240.0, 240, 240.0)'>&nbsp;route</span><span class='token' style='background-color:rgb(182.48934936523438, 240, 182.48934936523438)'>&nbsp;planning</span><span class='token' style='background-color:rgb(162.83660888671875, 240, 162.83660888671875)'>&nbsp;for</span><span class='token' style='background-color:rgb(240.0, 240, 240.0)'>&nbsp;race</span><span class='token' style='background-color:rgb(190.9229736328125, 240, 190.9229736328125)'>car</span><span class='token' style='background-color:rgb(201.5744171142578, 240, 201.5744171142578)'>&nbsp;throughout</span><span class='token' style='background-color:rgb(177.0651092529297, 240, 177.0651092529297)'>&nbsp;the</span><span class='token' style='background-color:rgb(240.0, 240, 240.0)'>&nbsp;track</span><span class='token' style='background-color:rgb(196.29942321777344, 240, 196.29942321777344)'>.</span></pre>"
      ],
      "text/plain": [
       "<IPython.core.display.HTML object>"
      ]
     },
     "metadata": {},
     "output_type": "display_data"
    },
    {
     "name": "stdout",
     "output_type": "stream",
     "text": [
      "Layer 8\n"
     ]
    },
    {
     "data": {
      "text/html": [
       "<pre style='color: black'><span class='token' style='background-color:rgb(240.0, 240, 240.0)'><|endoftext|></span><span class='token' style='background-color:rgb(240.0, 240, 240.0)'>Expl</span><span class='token' style='background-color:rgb(156.7146759033203, 240, 156.7146759033203)'>oring</span><span class='token' style='background-color:rgb(240.0, 240, 240.0)'>&nbsp;SL</span><span class='token' style='background-color:rgb(240.0, 240, 240.0)'>AM</span><span class='token' style='background-color:rgb(157.8931427001953, 240, 157.8931427001953)'>&nbsp;techniques</span><span class='token' style='background-color:rgb(102.70932006835938, 240, 102.70932006835938)'>&nbsp;to</span><span class='token' style='background-color:rgb(165.76878356933594, 240, 165.76878356933594)'>&nbsp;allow</span><span class='token' style='background-color:rgb(165.13487243652344, 240, 165.13487243652344)'>&nbsp;for</span><span class='token' style='background-color:rgb(240.0, 240, 240.0)'>&nbsp;race</span><span class='token' style='background-color:rgb(234.3926239013672, 240, 234.3926239013672)'>car</span><span class='token' style='background-color:rgb(240.0, 240, 240.0)'>&nbsp;to</span><span class='token' style='background-color:rgb(156.76710510253906, 240, 156.76710510253906)'>&nbsp;better</span><span class='token' style='background-color:rgb(161.33851623535156, 240, 161.33851623535156)'>&nbsp;perceive</span><span class='token' style='background-color:rgb(178.05853271484375, 240, 178.05853271484375)'>&nbsp;its</span><span class='token' style='background-color:rgb(211.98670959472656, 240, 211.98670959472656)'>&nbsp;position</span><span class='token' style='background-color:rgb(208.28842163085938, 240, 208.28842163085938)'>&nbsp;in</span><span class='token' style='background-color:rgb(240.0, 240, 240.0)'>&nbsp;relation</span><span class='token' style='background-color:rgb(187.4659881591797, 240, 187.4659881591797)'>&nbsp;to</span><span class='token' style='background-color:rgb(182.32327270507812, 240, 182.32327270507812)'>&nbsp;the</span><span class='token' style='background-color:rgb(217.05303955078125, 240, 217.05303955078125)'>&nbsp;environment</span><span class='token' style='background-color:rgb(228.34686279296875, 240, 228.34686279296875)'>.</span><span class='token' style='background-color:rgb(222.47488403320312, 240, 222.47488403320312)'>&nbsp;Working</span><span class='token' style='background-color:rgb(186.2986602783203, 240, 186.2986602783203)'>&nbsp;on</span><span class='token' style='background-color:rgb(183.54855346679688, 240, 183.54855346679688)'>&nbsp;improving</span><span class='token' style='background-color:rgb(240.0, 240, 240.0)'>&nbsp;route</span><span class='token' style='background-color:rgb(189.38427734375, 240, 189.38427734375)'>&nbsp;planning</span><span class='token' style='background-color:rgb(169.13442993164062, 240, 169.13442993164062)'>&nbsp;for</span><span class='token' style='background-color:rgb(240.0, 240, 240.0)'>&nbsp;race</span><span class='token' style='background-color:rgb(196.9120330810547, 240, 196.9120330810547)'>car</span><span class='token' style='background-color:rgb(205.8637237548828, 240, 205.8637237548828)'>&nbsp;throughout</span><span class='token' style='background-color:rgb(185.43148803710938, 240, 185.43148803710938)'>&nbsp;the</span><span class='token' style='background-color:rgb(240.0, 240, 240.0)'>&nbsp;track</span><span class='token' style='background-color:rgb(201.82717895507812, 240, 201.82717895507812)'>.</span></pre>"
      ],
      "text/plain": [
       "<IPython.core.display.HTML object>"
      ]
     },
     "metadata": {},
     "output_type": "display_data"
    },
    {
     "name": "stdout",
     "output_type": "stream",
     "text": [
      "Layer 9\n"
     ]
    },
    {
     "data": {
      "text/html": [
       "<pre style='color: black'><span class='token' style='background-color:rgb(240.0, 240, 240.0)'><|endoftext|></span><span class='token' style='background-color:rgb(240.0, 240, 240.0)'>Expl</span><span class='token' style='background-color:rgb(160.3955841064453, 240, 160.3955841064453)'>oring</span><span class='token' style='background-color:rgb(240.0, 240, 240.0)'>&nbsp;SL</span><span class='token' style='background-color:rgb(237.79757690429688, 240, 237.79757690429688)'>AM</span><span class='token' style='background-color:rgb(161.14117431640625, 240, 161.14117431640625)'>&nbsp;techniques</span><span class='token' style='background-color:rgb(109.5009765625, 240, 109.5009765625)'>&nbsp;to</span><span class='token' style='background-color:rgb(169.91221618652344, 240, 169.91221618652344)'>&nbsp;allow</span><span class='token' style='background-color:rgb(169.2488555908203, 240, 169.2488555908203)'>&nbsp;for</span><span class='token' style='background-color:rgb(238.88894653320312, 240, 238.88894653320312)'>&nbsp;race</span><span class='token' style='background-color:rgb(234.18313598632812, 240, 234.18313598632812)'>car</span><span class='token' style='background-color:rgb(240.0, 240, 240.0)'>&nbsp;to</span><span class='token' style='background-color:rgb(163.18006896972656, 240, 163.18006896972656)'>&nbsp;better</span><span class='token' style='background-color:rgb(165.3230438232422, 240, 165.3230438232422)'>&nbsp;perceive</span><span class='token' style='background-color:rgb(182.0547637939453, 240, 182.0547637939453)'>&nbsp;its</span><span class='token' style='background-color:rgb(210.86380004882812, 240, 210.86380004882812)'>&nbsp;position</span><span class='token' style='background-color:rgb(207.78929138183594, 240, 207.78929138183594)'>&nbsp;in</span><span class='token' style='background-color:rgb(238.9503631591797, 240, 238.9503631591797)'>&nbsp;relation</span><span class='token' style='background-color:rgb(190.5233917236328, 240, 190.5233917236328)'>&nbsp;to</span><span class='token' style='background-color:rgb(188.46820068359375, 240, 188.46820068359375)'>&nbsp;the</span><span class='token' style='background-color:rgb(215.91497802734375, 240, 215.91497802734375)'>&nbsp;environment</span><span class='token' style='background-color:rgb(229.31068420410156, 240, 229.31068420410156)'>.</span><span class='token' style='background-color:rgb(221.73870849609375, 240, 221.73870849609375)'>&nbsp;Working</span><span class='token' style='background-color:rgb(189.3472900390625, 240, 189.3472900390625)'>&nbsp;on</span><span class='token' style='background-color:rgb(186.98516845703125, 240, 186.98516845703125)'>&nbsp;improving</span><span class='token' style='background-color:rgb(240.0, 240, 240.0)'>&nbsp;route</span><span class='token' style='background-color:rgb(192.35104370117188, 240, 192.35104370117188)'>&nbsp;planning</span><span class='token' style='background-color:rgb(174.64405822753906, 240, 174.64405822753906)'>&nbsp;for</span><span class='token' style='background-color:rgb(238.9584503173828, 240, 238.9584503173828)'>&nbsp;race</span><span class='token' style='background-color:rgb(199.84169006347656, 240, 199.84169006347656)'>car</span><span class='token' style='background-color:rgb(207.58389282226562, 240, 207.58389282226562)'>&nbsp;throughout</span><span class='token' style='background-color:rgb(186.84542846679688, 240, 186.84542846679688)'>&nbsp;the</span><span class='token' style='background-color:rgb(240.0, 240, 240.0)'>&nbsp;track</span><span class='token' style='background-color:rgb(204.93161010742188, 240, 204.93161010742188)'>.</span></pre>"
      ],
      "text/plain": [
       "<IPython.core.display.HTML object>"
      ]
     },
     "metadata": {},
     "output_type": "display_data"
    },
    {
     "name": "stdout",
     "output_type": "stream",
     "text": [
      "Layer 10\n"
     ]
    },
    {
     "data": {
      "text/html": [
       "<pre style='color: black'><span class='token' style='background-color:rgb(240.0, 240, 240.0)'><|endoftext|></span><span class='token' style='background-color:rgb(240.0, 240, 240.0)'>Expl</span><span class='token' style='background-color:rgb(168.21900939941406, 240, 168.21900939941406)'>oring</span><span class='token' style='background-color:rgb(240.0, 240, 240.0)'>&nbsp;SL</span><span class='token' style='background-color:rgb(238.16012573242188, 240, 238.16012573242188)'>AM</span><span class='token' style='background-color:rgb(168.89932250976562, 240, 168.89932250976562)'>&nbsp;techniques</span><span class='token' style='background-color:rgb(122.25819396972656, 240, 122.25819396972656)'>&nbsp;to</span><span class='token' style='background-color:rgb(178.90296936035156, 240, 178.90296936035156)'>&nbsp;allow</span><span class='token' style='background-color:rgb(177.92518615722656, 240, 177.92518615722656)'>&nbsp;for</span><span class='token' style='background-color:rgb(238.45745849609375, 240, 238.45745849609375)'>&nbsp;race</span><span class='token' style='background-color:rgb(235.41510009765625, 240, 235.41510009765625)'>car</span><span class='token' style='background-color:rgb(240.0, 240, 240.0)'>&nbsp;to</span><span class='token' style='background-color:rgb(170.49090576171875, 240, 170.49090576171875)'>&nbsp;better</span><span class='token' style='background-color:rgb(173.5272216796875, 240, 173.5272216796875)'>&nbsp;perceive</span><span class='token' style='background-color:rgb(189.78207397460938, 240, 189.78207397460938)'>&nbsp;its</span><span class='token' style='background-color:rgb(214.2021484375, 240, 214.2021484375)'>&nbsp;position</span><span class='token' style='background-color:rgb(211.61561584472656, 240, 211.61561584472656)'>&nbsp;in</span><span class='token' style='background-color:rgb(240.0, 240, 240.0)'>&nbsp;relation</span><span class='token' style='background-color:rgb(196.9617462158203, 240, 196.9617462158203)'>&nbsp;to</span><span class='token' style='background-color:rgb(192.5758819580078, 240, 192.5758819580078)'>&nbsp;the</span><span class='token' style='background-color:rgb(219.6597137451172, 240, 219.6597137451172)'>&nbsp;environment</span><span class='token' style='background-color:rgb(229.27218627929688, 240, 229.27218627929688)'>.</span><span class='token' style='background-color:rgb(227.6363067626953, 240, 227.6363067626953)'>&nbsp;Working</span><span class='token' style='background-color:rgb(199.0401153564453, 240, 199.0401153564453)'>&nbsp;on</span><span class='token' style='background-color:rgb(195.54249572753906, 240, 195.54249572753906)'>&nbsp;improving</span><span class='token' style='background-color:rgb(240.0, 240, 240.0)'>&nbsp;route</span><span class='token' style='background-color:rgb(196.375, 240, 196.375)'>&nbsp;planning</span><span class='token' style='background-color:rgb(181.00149536132812, 240, 181.00149536132812)'>&nbsp;for</span><span class='token' style='background-color:rgb(240.0, 240, 240.0)'>&nbsp;race</span><span class='token' style='background-color:rgb(203.99911499023438, 240, 203.99911499023438)'>car</span><span class='token' style='background-color:rgb(211.2397003173828, 240, 211.2397003173828)'>&nbsp;throughout</span><span class='token' style='background-color:rgb(191.46630859375, 240, 191.46630859375)'>&nbsp;the</span><span class='token' style='background-color:rgb(240.0, 240, 240.0)'>&nbsp;track</span><span class='token' style='background-color:rgb(208.33840942382812, 240, 208.33840942382812)'>.</span></pre>"
      ],
      "text/plain": [
       "<IPython.core.display.HTML object>"
      ]
     },
     "metadata": {},
     "output_type": "display_data"
    },
    {
     "name": "stdout",
     "output_type": "stream",
     "text": [
      "Layer 11\n"
     ]
    },
    {
     "data": {
      "text/html": [
       "<pre style='color: black'><span class='token' style='background-color:rgb(188.48370361328125, 240, 188.48370361328125)'><|endoftext|></span><span class='token' style='background-color:rgb(240.0, 240, 240.0)'>Expl</span><span class='token' style='background-color:rgb(240.0, 240, 240.0)'>oring</span><span class='token' style='background-color:rgb(240.0, 240, 240.0)'>&nbsp;SL</span><span class='token' style='background-color:rgb(240.0, 240, 240.0)'>AM</span><span class='token' style='background-color:rgb(240.0, 240, 240.0)'>&nbsp;techniques</span><span class='token' style='background-color:rgb(240.0, 240, 240.0)'>&nbsp;to</span><span class='token' style='background-color:rgb(240.0, 240, 240.0)'>&nbsp;allow</span><span class='token' style='background-color:rgb(240.0, 240, 240.0)'>&nbsp;for</span><span class='token' style='background-color:rgb(240.0, 240, 240.0)'>&nbsp;race</span><span class='token' style='background-color:rgb(240.0, 240, 240.0)'>car</span><span class='token' style='background-color:rgb(240.0, 240, 240.0)'>&nbsp;to</span><span class='token' style='background-color:rgb(240.0, 240, 240.0)'>&nbsp;better</span><span class='token' style='background-color:rgb(240.0, 240, 240.0)'>&nbsp;perceive</span><span class='token' style='background-color:rgb(240.0, 240, 240.0)'>&nbsp;its</span><span class='token' style='background-color:rgb(240.0, 240, 240.0)'>&nbsp;position</span><span class='token' style='background-color:rgb(240.0, 240, 240.0)'>&nbsp;in</span><span class='token' style='background-color:rgb(240.0, 240, 240.0)'>&nbsp;relation</span><span class='token' style='background-color:rgb(240.0, 240, 240.0)'>&nbsp;to</span><span class='token' style='background-color:rgb(240.0, 240, 240.0)'>&nbsp;the</span><span class='token' style='background-color:rgb(240.0, 240, 240.0)'>&nbsp;environment</span><span class='token' style='background-color:rgb(240.0, 240, 240.0)'>.</span><span class='token' style='background-color:rgb(240.0, 240, 240.0)'>&nbsp;Working</span><span class='token' style='background-color:rgb(240.0, 240, 240.0)'>&nbsp;on</span><span class='token' style='background-color:rgb(240.0, 240, 240.0)'>&nbsp;improving</span><span class='token' style='background-color:rgb(240.0, 240, 240.0)'>&nbsp;route</span><span class='token' style='background-color:rgb(240.0, 240, 240.0)'>&nbsp;planning</span><span class='token' style='background-color:rgb(240.0, 240, 240.0)'>&nbsp;for</span><span class='token' style='background-color:rgb(240.0, 240, 240.0)'>&nbsp;race</span><span class='token' style='background-color:rgb(240.0, 240, 240.0)'>car</span><span class='token' style='background-color:rgb(240.0, 240, 240.0)'>&nbsp;throughout</span><span class='token' style='background-color:rgb(240.0, 240, 240.0)'>&nbsp;the</span><span class='token' style='background-color:rgb(240.0, 240, 240.0)'>&nbsp;track</span><span class='token' style='background-color:rgb(240.0, 240, 240.0)'>.</span></pre>"
      ],
      "text/plain": [
       "<IPython.core.display.HTML object>"
      ]
     },
     "metadata": {},
     "output_type": "display_data"
    }
   ],
   "source": [
    "import matplotlib.pyplot as plt\n",
    "import neuron_visualization\n",
    "from IPython.display import display, HTML\n",
    "\n",
    "for layer_id in range(12):\n",
    "    acts = latent_activations[layer_id]\n",
    "    top_feature = acts.max(dim=0)[0].argmax().item()\n",
    "    print(\"Layer\", layer_id)\n",
    "    display(HTML(neuron_visualization.basic_neuron_vis_signed(model.to_str_tokens(tokens), acts[:, top_feature], 1)))\n"
   ]
  },
  {
   "cell_type": "code",
   "execution_count": null,
   "id": "3a79a2ee-c7c3-4e27-9350-f4513ccfe0f7",
   "metadata": {},
   "outputs": [],
   "source": []
  }
 ],
 "metadata": {
  "kernelspec": {
   "display_name": "sparse",
   "language": "python",
   "name": "sparse"
  },
  "language_info": {
   "codemirror_mode": {
    "name": "ipython",
    "version": 3
   },
   "file_extension": ".py",
   "mimetype": "text/x-python",
   "name": "python",
   "nbconvert_exporter": "python",
   "pygments_lexer": "ipython3",
   "version": "3.11.4"
  }
 },
 "nbformat": 4,
 "nbformat_minor": 5
}
